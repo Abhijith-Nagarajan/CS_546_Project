{
  "nbformat": 4,
  "nbformat_minor": 0,
  "metadata": {
    "colab": {
      "provenance": [],
      "include_colab_link": true
    },
    "kernelspec": {
      "name": "python3",
      "display_name": "Python 3"
    },
    "language_info": {
      "name": "python"
    },
    "widgets": {
      "application/vnd.jupyter.widget-state+json": {
        "e70369c20e234db89d689cffe041f0a0": {
          "model_module": "@jupyter-widgets/controls",
          "model_name": "HBoxModel",
          "model_module_version": "1.5.0",
          "state": {
            "_dom_classes": [],
            "_model_module": "@jupyter-widgets/controls",
            "_model_module_version": "1.5.0",
            "_model_name": "HBoxModel",
            "_view_count": null,
            "_view_module": "@jupyter-widgets/controls",
            "_view_module_version": "1.5.0",
            "_view_name": "HBoxView",
            "box_style": "",
            "children": [
              "IPY_MODEL_dd48b2fd8d454382ab9265d877ab46f2",
              "IPY_MODEL_03e88a83f8524f81b7a1c8c861bd4bda",
              "IPY_MODEL_34783c6caaec4b8aa8b3d593d17acd3e"
            ],
            "layout": "IPY_MODEL_82eac9f4076d4315af4a3fb0d91dd964"
          }
        },
        "dd48b2fd8d454382ab9265d877ab46f2": {
          "model_module": "@jupyter-widgets/controls",
          "model_name": "HTMLModel",
          "model_module_version": "1.5.0",
          "state": {
            "_dom_classes": [],
            "_model_module": "@jupyter-widgets/controls",
            "_model_module_version": "1.5.0",
            "_model_name": "HTMLModel",
            "_view_count": null,
            "_view_module": "@jupyter-widgets/controls",
            "_view_module_version": "1.5.0",
            "_view_name": "HTMLView",
            "description": "",
            "description_tooltip": null,
            "layout": "IPY_MODEL_8d9364e77cea421e8dcb593f35cd4c33",
            "placeholder": "​",
            "style": "IPY_MODEL_5c39dface15f4d4997d9c3b31c007317",
            "value": "config.json: 100%"
          }
        },
        "03e88a83f8524f81b7a1c8c861bd4bda": {
          "model_module": "@jupyter-widgets/controls",
          "model_name": "FloatProgressModel",
          "model_module_version": "1.5.0",
          "state": {
            "_dom_classes": [],
            "_model_module": "@jupyter-widgets/controls",
            "_model_module_version": "1.5.0",
            "_model_name": "FloatProgressModel",
            "_view_count": null,
            "_view_module": "@jupyter-widgets/controls",
            "_view_module_version": "1.5.0",
            "_view_name": "ProgressView",
            "bar_style": "success",
            "description": "",
            "description_tooltip": null,
            "layout": "IPY_MODEL_4c5e36df968847ae954cd2c78d36eb51",
            "max": 819,
            "min": 0,
            "orientation": "horizontal",
            "style": "IPY_MODEL_7d10fa9e3b1e475ba75b6fe71ff690b1",
            "value": 819
          }
        },
        "34783c6caaec4b8aa8b3d593d17acd3e": {
          "model_module": "@jupyter-widgets/controls",
          "model_name": "HTMLModel",
          "model_module_version": "1.5.0",
          "state": {
            "_dom_classes": [],
            "_model_module": "@jupyter-widgets/controls",
            "_model_module_version": "1.5.0",
            "_model_name": "HTMLModel",
            "_view_count": null,
            "_view_module": "@jupyter-widgets/controls",
            "_view_module_version": "1.5.0",
            "_view_name": "HTMLView",
            "description": "",
            "description_tooltip": null,
            "layout": "IPY_MODEL_667fa9f238df4ea99ea313ce7e1502f0",
            "placeholder": "​",
            "style": "IPY_MODEL_a4163cb68f7745c2a78685cea7dd553b",
            "value": " 819/819 [00:00&lt;00:00, 54.7kB/s]"
          }
        },
        "82eac9f4076d4315af4a3fb0d91dd964": {
          "model_module": "@jupyter-widgets/base",
          "model_name": "LayoutModel",
          "model_module_version": "1.2.0",
          "state": {
            "_model_module": "@jupyter-widgets/base",
            "_model_module_version": "1.2.0",
            "_model_name": "LayoutModel",
            "_view_count": null,
            "_view_module": "@jupyter-widgets/base",
            "_view_module_version": "1.2.0",
            "_view_name": "LayoutView",
            "align_content": null,
            "align_items": null,
            "align_self": null,
            "border": null,
            "bottom": null,
            "display": null,
            "flex": null,
            "flex_flow": null,
            "grid_area": null,
            "grid_auto_columns": null,
            "grid_auto_flow": null,
            "grid_auto_rows": null,
            "grid_column": null,
            "grid_gap": null,
            "grid_row": null,
            "grid_template_areas": null,
            "grid_template_columns": null,
            "grid_template_rows": null,
            "height": null,
            "justify_content": null,
            "justify_items": null,
            "left": null,
            "margin": null,
            "max_height": null,
            "max_width": null,
            "min_height": null,
            "min_width": null,
            "object_fit": null,
            "object_position": null,
            "order": null,
            "overflow": null,
            "overflow_x": null,
            "overflow_y": null,
            "padding": null,
            "right": null,
            "top": null,
            "visibility": null,
            "width": null
          }
        },
        "8d9364e77cea421e8dcb593f35cd4c33": {
          "model_module": "@jupyter-widgets/base",
          "model_name": "LayoutModel",
          "model_module_version": "1.2.0",
          "state": {
            "_model_module": "@jupyter-widgets/base",
            "_model_module_version": "1.2.0",
            "_model_name": "LayoutModel",
            "_view_count": null,
            "_view_module": "@jupyter-widgets/base",
            "_view_module_version": "1.2.0",
            "_view_name": "LayoutView",
            "align_content": null,
            "align_items": null,
            "align_self": null,
            "border": null,
            "bottom": null,
            "display": null,
            "flex": null,
            "flex_flow": null,
            "grid_area": null,
            "grid_auto_columns": null,
            "grid_auto_flow": null,
            "grid_auto_rows": null,
            "grid_column": null,
            "grid_gap": null,
            "grid_row": null,
            "grid_template_areas": null,
            "grid_template_columns": null,
            "grid_template_rows": null,
            "height": null,
            "justify_content": null,
            "justify_items": null,
            "left": null,
            "margin": null,
            "max_height": null,
            "max_width": null,
            "min_height": null,
            "min_width": null,
            "object_fit": null,
            "object_position": null,
            "order": null,
            "overflow": null,
            "overflow_x": null,
            "overflow_y": null,
            "padding": null,
            "right": null,
            "top": null,
            "visibility": null,
            "width": null
          }
        },
        "5c39dface15f4d4997d9c3b31c007317": {
          "model_module": "@jupyter-widgets/controls",
          "model_name": "DescriptionStyleModel",
          "model_module_version": "1.5.0",
          "state": {
            "_model_module": "@jupyter-widgets/controls",
            "_model_module_version": "1.5.0",
            "_model_name": "DescriptionStyleModel",
            "_view_count": null,
            "_view_module": "@jupyter-widgets/base",
            "_view_module_version": "1.2.0",
            "_view_name": "StyleView",
            "description_width": ""
          }
        },
        "4c5e36df968847ae954cd2c78d36eb51": {
          "model_module": "@jupyter-widgets/base",
          "model_name": "LayoutModel",
          "model_module_version": "1.2.0",
          "state": {
            "_model_module": "@jupyter-widgets/base",
            "_model_module_version": "1.2.0",
            "_model_name": "LayoutModel",
            "_view_count": null,
            "_view_module": "@jupyter-widgets/base",
            "_view_module_version": "1.2.0",
            "_view_name": "LayoutView",
            "align_content": null,
            "align_items": null,
            "align_self": null,
            "border": null,
            "bottom": null,
            "display": null,
            "flex": null,
            "flex_flow": null,
            "grid_area": null,
            "grid_auto_columns": null,
            "grid_auto_flow": null,
            "grid_auto_rows": null,
            "grid_column": null,
            "grid_gap": null,
            "grid_row": null,
            "grid_template_areas": null,
            "grid_template_columns": null,
            "grid_template_rows": null,
            "height": null,
            "justify_content": null,
            "justify_items": null,
            "left": null,
            "margin": null,
            "max_height": null,
            "max_width": null,
            "min_height": null,
            "min_width": null,
            "object_fit": null,
            "object_position": null,
            "order": null,
            "overflow": null,
            "overflow_x": null,
            "overflow_y": null,
            "padding": null,
            "right": null,
            "top": null,
            "visibility": null,
            "width": null
          }
        },
        "7d10fa9e3b1e475ba75b6fe71ff690b1": {
          "model_module": "@jupyter-widgets/controls",
          "model_name": "ProgressStyleModel",
          "model_module_version": "1.5.0",
          "state": {
            "_model_module": "@jupyter-widgets/controls",
            "_model_module_version": "1.5.0",
            "_model_name": "ProgressStyleModel",
            "_view_count": null,
            "_view_module": "@jupyter-widgets/base",
            "_view_module_version": "1.2.0",
            "_view_name": "StyleView",
            "bar_color": null,
            "description_width": ""
          }
        },
        "667fa9f238df4ea99ea313ce7e1502f0": {
          "model_module": "@jupyter-widgets/base",
          "model_name": "LayoutModel",
          "model_module_version": "1.2.0",
          "state": {
            "_model_module": "@jupyter-widgets/base",
            "_model_module_version": "1.2.0",
            "_model_name": "LayoutModel",
            "_view_count": null,
            "_view_module": "@jupyter-widgets/base",
            "_view_module_version": "1.2.0",
            "_view_name": "LayoutView",
            "align_content": null,
            "align_items": null,
            "align_self": null,
            "border": null,
            "bottom": null,
            "display": null,
            "flex": null,
            "flex_flow": null,
            "grid_area": null,
            "grid_auto_columns": null,
            "grid_auto_flow": null,
            "grid_auto_rows": null,
            "grid_column": null,
            "grid_gap": null,
            "grid_row": null,
            "grid_template_areas": null,
            "grid_template_columns": null,
            "grid_template_rows": null,
            "height": null,
            "justify_content": null,
            "justify_items": null,
            "left": null,
            "margin": null,
            "max_height": null,
            "max_width": null,
            "min_height": null,
            "min_width": null,
            "object_fit": null,
            "object_position": null,
            "order": null,
            "overflow": null,
            "overflow_x": null,
            "overflow_y": null,
            "padding": null,
            "right": null,
            "top": null,
            "visibility": null,
            "width": null
          }
        },
        "a4163cb68f7745c2a78685cea7dd553b": {
          "model_module": "@jupyter-widgets/controls",
          "model_name": "DescriptionStyleModel",
          "model_module_version": "1.5.0",
          "state": {
            "_model_module": "@jupyter-widgets/controls",
            "_model_module_version": "1.5.0",
            "_model_name": "DescriptionStyleModel",
            "_view_count": null,
            "_view_module": "@jupyter-widgets/base",
            "_view_module_version": "1.2.0",
            "_view_name": "StyleView",
            "description_width": ""
          }
        },
        "dcd4e1809a974cd3885182ed662acba2": {
          "model_module": "@jupyter-widgets/controls",
          "model_name": "HBoxModel",
          "model_module_version": "1.5.0",
          "state": {
            "_dom_classes": [],
            "_model_module": "@jupyter-widgets/controls",
            "_model_module_version": "1.5.0",
            "_model_name": "HBoxModel",
            "_view_count": null,
            "_view_module": "@jupyter-widgets/controls",
            "_view_module_version": "1.5.0",
            "_view_name": "HBoxView",
            "box_style": "",
            "children": [
              "IPY_MODEL_d47a3d5ed1ab41e4b303e3fe6e4d171d",
              "IPY_MODEL_35172f54aaec4db3868f0e9814aaef37",
              "IPY_MODEL_a3fc6f48aa704b169b9bfabab29337ce"
            ],
            "layout": "IPY_MODEL_074c5d5bc4fc4392b7f04ba6259ca945"
          }
        },
        "d47a3d5ed1ab41e4b303e3fe6e4d171d": {
          "model_module": "@jupyter-widgets/controls",
          "model_name": "HTMLModel",
          "model_module_version": "1.5.0",
          "state": {
            "_dom_classes": [],
            "_model_module": "@jupyter-widgets/controls",
            "_model_module_version": "1.5.0",
            "_model_name": "HTMLModel",
            "_view_count": null,
            "_view_module": "@jupyter-widgets/controls",
            "_view_module_version": "1.5.0",
            "_view_name": "HTMLView",
            "description": "",
            "description_tooltip": null,
            "layout": "IPY_MODEL_8faa46b5ce4d44b485942726494e8574",
            "placeholder": "​",
            "style": "IPY_MODEL_bcfb44e9dd884d9da684efb59e90da74",
            "value": "tokenizer_config.json: 100%"
          }
        },
        "35172f54aaec4db3868f0e9814aaef37": {
          "model_module": "@jupyter-widgets/controls",
          "model_name": "FloatProgressModel",
          "model_module_version": "1.5.0",
          "state": {
            "_dom_classes": [],
            "_model_module": "@jupyter-widgets/controls",
            "_model_module_version": "1.5.0",
            "_model_name": "FloatProgressModel",
            "_view_count": null,
            "_view_module": "@jupyter-widgets/controls",
            "_view_module_version": "1.5.0",
            "_view_name": "ProgressView",
            "bar_style": "success",
            "description": "",
            "description_tooltip": null,
            "layout": "IPY_MODEL_17b2d4ed10a24e059632177aab99a131",
            "max": 393,
            "min": 0,
            "orientation": "horizontal",
            "style": "IPY_MODEL_ea675cdc27c94da3b4bfefd0e27fdec8",
            "value": 393
          }
        },
        "a3fc6f48aa704b169b9bfabab29337ce": {
          "model_module": "@jupyter-widgets/controls",
          "model_name": "HTMLModel",
          "model_module_version": "1.5.0",
          "state": {
            "_dom_classes": [],
            "_model_module": "@jupyter-widgets/controls",
            "_model_module_version": "1.5.0",
            "_model_name": "HTMLModel",
            "_view_count": null,
            "_view_module": "@jupyter-widgets/controls",
            "_view_module_version": "1.5.0",
            "_view_name": "HTMLView",
            "description": "",
            "description_tooltip": null,
            "layout": "IPY_MODEL_c71f4bc2e3e04d90b3163eed51d00aee",
            "placeholder": "​",
            "style": "IPY_MODEL_9b7f31b9016246e885c9cc6b192e7c9b",
            "value": " 393/393 [00:00&lt;00:00, 19.9kB/s]"
          }
        },
        "074c5d5bc4fc4392b7f04ba6259ca945": {
          "model_module": "@jupyter-widgets/base",
          "model_name": "LayoutModel",
          "model_module_version": "1.2.0",
          "state": {
            "_model_module": "@jupyter-widgets/base",
            "_model_module_version": "1.2.0",
            "_model_name": "LayoutModel",
            "_view_count": null,
            "_view_module": "@jupyter-widgets/base",
            "_view_module_version": "1.2.0",
            "_view_name": "LayoutView",
            "align_content": null,
            "align_items": null,
            "align_self": null,
            "border": null,
            "bottom": null,
            "display": null,
            "flex": null,
            "flex_flow": null,
            "grid_area": null,
            "grid_auto_columns": null,
            "grid_auto_flow": null,
            "grid_auto_rows": null,
            "grid_column": null,
            "grid_gap": null,
            "grid_row": null,
            "grid_template_areas": null,
            "grid_template_columns": null,
            "grid_template_rows": null,
            "height": null,
            "justify_content": null,
            "justify_items": null,
            "left": null,
            "margin": null,
            "max_height": null,
            "max_width": null,
            "min_height": null,
            "min_width": null,
            "object_fit": null,
            "object_position": null,
            "order": null,
            "overflow": null,
            "overflow_x": null,
            "overflow_y": null,
            "padding": null,
            "right": null,
            "top": null,
            "visibility": null,
            "width": null
          }
        },
        "8faa46b5ce4d44b485942726494e8574": {
          "model_module": "@jupyter-widgets/base",
          "model_name": "LayoutModel",
          "model_module_version": "1.2.0",
          "state": {
            "_model_module": "@jupyter-widgets/base",
            "_model_module_version": "1.2.0",
            "_model_name": "LayoutModel",
            "_view_count": null,
            "_view_module": "@jupyter-widgets/base",
            "_view_module_version": "1.2.0",
            "_view_name": "LayoutView",
            "align_content": null,
            "align_items": null,
            "align_self": null,
            "border": null,
            "bottom": null,
            "display": null,
            "flex": null,
            "flex_flow": null,
            "grid_area": null,
            "grid_auto_columns": null,
            "grid_auto_flow": null,
            "grid_auto_rows": null,
            "grid_column": null,
            "grid_gap": null,
            "grid_row": null,
            "grid_template_areas": null,
            "grid_template_columns": null,
            "grid_template_rows": null,
            "height": null,
            "justify_content": null,
            "justify_items": null,
            "left": null,
            "margin": null,
            "max_height": null,
            "max_width": null,
            "min_height": null,
            "min_width": null,
            "object_fit": null,
            "object_position": null,
            "order": null,
            "overflow": null,
            "overflow_x": null,
            "overflow_y": null,
            "padding": null,
            "right": null,
            "top": null,
            "visibility": null,
            "width": null
          }
        },
        "bcfb44e9dd884d9da684efb59e90da74": {
          "model_module": "@jupyter-widgets/controls",
          "model_name": "DescriptionStyleModel",
          "model_module_version": "1.5.0",
          "state": {
            "_model_module": "@jupyter-widgets/controls",
            "_model_module_version": "1.5.0",
            "_model_name": "DescriptionStyleModel",
            "_view_count": null,
            "_view_module": "@jupyter-widgets/base",
            "_view_module_version": "1.2.0",
            "_view_name": "StyleView",
            "description_width": ""
          }
        },
        "17b2d4ed10a24e059632177aab99a131": {
          "model_module": "@jupyter-widgets/base",
          "model_name": "LayoutModel",
          "model_module_version": "1.2.0",
          "state": {
            "_model_module": "@jupyter-widgets/base",
            "_model_module_version": "1.2.0",
            "_model_name": "LayoutModel",
            "_view_count": null,
            "_view_module": "@jupyter-widgets/base",
            "_view_module_version": "1.2.0",
            "_view_name": "LayoutView",
            "align_content": null,
            "align_items": null,
            "align_self": null,
            "border": null,
            "bottom": null,
            "display": null,
            "flex": null,
            "flex_flow": null,
            "grid_area": null,
            "grid_auto_columns": null,
            "grid_auto_flow": null,
            "grid_auto_rows": null,
            "grid_column": null,
            "grid_gap": null,
            "grid_row": null,
            "grid_template_areas": null,
            "grid_template_columns": null,
            "grid_template_rows": null,
            "height": null,
            "justify_content": null,
            "justify_items": null,
            "left": null,
            "margin": null,
            "max_height": null,
            "max_width": null,
            "min_height": null,
            "min_width": null,
            "object_fit": null,
            "object_position": null,
            "order": null,
            "overflow": null,
            "overflow_x": null,
            "overflow_y": null,
            "padding": null,
            "right": null,
            "top": null,
            "visibility": null,
            "width": null
          }
        },
        "ea675cdc27c94da3b4bfefd0e27fdec8": {
          "model_module": "@jupyter-widgets/controls",
          "model_name": "ProgressStyleModel",
          "model_module_version": "1.5.0",
          "state": {
            "_model_module": "@jupyter-widgets/controls",
            "_model_module_version": "1.5.0",
            "_model_name": "ProgressStyleModel",
            "_view_count": null,
            "_view_module": "@jupyter-widgets/base",
            "_view_module_version": "1.2.0",
            "_view_name": "StyleView",
            "bar_color": null,
            "description_width": ""
          }
        },
        "c71f4bc2e3e04d90b3163eed51d00aee": {
          "model_module": "@jupyter-widgets/base",
          "model_name": "LayoutModel",
          "model_module_version": "1.2.0",
          "state": {
            "_model_module": "@jupyter-widgets/base",
            "_model_module_version": "1.2.0",
            "_model_name": "LayoutModel",
            "_view_count": null,
            "_view_module": "@jupyter-widgets/base",
            "_view_module_version": "1.2.0",
            "_view_name": "LayoutView",
            "align_content": null,
            "align_items": null,
            "align_self": null,
            "border": null,
            "bottom": null,
            "display": null,
            "flex": null,
            "flex_flow": null,
            "grid_area": null,
            "grid_auto_columns": null,
            "grid_auto_flow": null,
            "grid_auto_rows": null,
            "grid_column": null,
            "grid_gap": null,
            "grid_row": null,
            "grid_template_areas": null,
            "grid_template_columns": null,
            "grid_template_rows": null,
            "height": null,
            "justify_content": null,
            "justify_items": null,
            "left": null,
            "margin": null,
            "max_height": null,
            "max_width": null,
            "min_height": null,
            "min_width": null,
            "object_fit": null,
            "object_position": null,
            "order": null,
            "overflow": null,
            "overflow_x": null,
            "overflow_y": null,
            "padding": null,
            "right": null,
            "top": null,
            "visibility": null,
            "width": null
          }
        },
        "9b7f31b9016246e885c9cc6b192e7c9b": {
          "model_module": "@jupyter-widgets/controls",
          "model_name": "DescriptionStyleModel",
          "model_module_version": "1.5.0",
          "state": {
            "_model_module": "@jupyter-widgets/controls",
            "_model_module_version": "1.5.0",
            "_model_name": "DescriptionStyleModel",
            "_view_count": null,
            "_view_module": "@jupyter-widgets/base",
            "_view_module_version": "1.2.0",
            "_view_name": "StyleView",
            "description_width": ""
          }
        },
        "1d9829ee81914aa18a21b3d41a0946ef": {
          "model_module": "@jupyter-widgets/controls",
          "model_name": "HBoxModel",
          "model_module_version": "1.5.0",
          "state": {
            "_dom_classes": [],
            "_model_module": "@jupyter-widgets/controls",
            "_model_module_version": "1.5.0",
            "_model_name": "HBoxModel",
            "_view_count": null,
            "_view_module": "@jupyter-widgets/controls",
            "_view_module_version": "1.5.0",
            "_view_name": "HBoxView",
            "box_style": "",
            "children": [
              "IPY_MODEL_03a73a278ddd414dbd9303199980df33",
              "IPY_MODEL_243d7dbd7e9d4a3bad42e0c8fb2f0c05",
              "IPY_MODEL_4db46cc9d6de4d32b0284b9f80cdeebf"
            ],
            "layout": "IPY_MODEL_6637927afa7c435ea780e5db8305ea71"
          }
        },
        "03a73a278ddd414dbd9303199980df33": {
          "model_module": "@jupyter-widgets/controls",
          "model_name": "HTMLModel",
          "model_module_version": "1.5.0",
          "state": {
            "_dom_classes": [],
            "_model_module": "@jupyter-widgets/controls",
            "_model_module_version": "1.5.0",
            "_model_name": "HTMLModel",
            "_view_count": null,
            "_view_module": "@jupyter-widgets/controls",
            "_view_module_version": "1.5.0",
            "_view_name": "HTMLView",
            "description": "",
            "description_tooltip": null,
            "layout": "IPY_MODEL_69e0f2da64a043a980c65b8c32461390",
            "placeholder": "​",
            "style": "IPY_MODEL_52e6d2770aad43c09cfc1b9dce7f7678",
            "value": "vocab.json: 100%"
          }
        },
        "243d7dbd7e9d4a3bad42e0c8fb2f0c05": {
          "model_module": "@jupyter-widgets/controls",
          "model_name": "FloatProgressModel",
          "model_module_version": "1.5.0",
          "state": {
            "_dom_classes": [],
            "_model_module": "@jupyter-widgets/controls",
            "_model_module_version": "1.5.0",
            "_model_name": "FloatProgressModel",
            "_view_count": null,
            "_view_module": "@jupyter-widgets/controls",
            "_view_module_version": "1.5.0",
            "_view_name": "ProgressView",
            "bar_style": "success",
            "description": "",
            "description_tooltip": null,
            "layout": "IPY_MODEL_acedaae9ec844c7792e949623c0895ac",
            "max": 798293,
            "min": 0,
            "orientation": "horizontal",
            "style": "IPY_MODEL_9ced533e44af4274bcb3a32a3d3c4807",
            "value": 798293
          }
        },
        "4db46cc9d6de4d32b0284b9f80cdeebf": {
          "model_module": "@jupyter-widgets/controls",
          "model_name": "HTMLModel",
          "model_module_version": "1.5.0",
          "state": {
            "_dom_classes": [],
            "_model_module": "@jupyter-widgets/controls",
            "_model_module_version": "1.5.0",
            "_model_name": "HTMLModel",
            "_view_count": null,
            "_view_module": "@jupyter-widgets/controls",
            "_view_module_version": "1.5.0",
            "_view_name": "HTMLView",
            "description": "",
            "description_tooltip": null,
            "layout": "IPY_MODEL_31110f637aa949afb9a2f3f6c57659ac",
            "placeholder": "​",
            "style": "IPY_MODEL_26bbc17621f94d36a0c0230617afd7cd",
            "value": " 798k/798k [00:00&lt;00:00, 4.01MB/s]"
          }
        },
        "6637927afa7c435ea780e5db8305ea71": {
          "model_module": "@jupyter-widgets/base",
          "model_name": "LayoutModel",
          "model_module_version": "1.2.0",
          "state": {
            "_model_module": "@jupyter-widgets/base",
            "_model_module_version": "1.2.0",
            "_model_name": "LayoutModel",
            "_view_count": null,
            "_view_module": "@jupyter-widgets/base",
            "_view_module_version": "1.2.0",
            "_view_name": "LayoutView",
            "align_content": null,
            "align_items": null,
            "align_self": null,
            "border": null,
            "bottom": null,
            "display": null,
            "flex": null,
            "flex_flow": null,
            "grid_area": null,
            "grid_auto_columns": null,
            "grid_auto_flow": null,
            "grid_auto_rows": null,
            "grid_column": null,
            "grid_gap": null,
            "grid_row": null,
            "grid_template_areas": null,
            "grid_template_columns": null,
            "grid_template_rows": null,
            "height": null,
            "justify_content": null,
            "justify_items": null,
            "left": null,
            "margin": null,
            "max_height": null,
            "max_width": null,
            "min_height": null,
            "min_width": null,
            "object_fit": null,
            "object_position": null,
            "order": null,
            "overflow": null,
            "overflow_x": null,
            "overflow_y": null,
            "padding": null,
            "right": null,
            "top": null,
            "visibility": null,
            "width": null
          }
        },
        "69e0f2da64a043a980c65b8c32461390": {
          "model_module": "@jupyter-widgets/base",
          "model_name": "LayoutModel",
          "model_module_version": "1.2.0",
          "state": {
            "_model_module": "@jupyter-widgets/base",
            "_model_module_version": "1.2.0",
            "_model_name": "LayoutModel",
            "_view_count": null,
            "_view_module": "@jupyter-widgets/base",
            "_view_module_version": "1.2.0",
            "_view_name": "LayoutView",
            "align_content": null,
            "align_items": null,
            "align_self": null,
            "border": null,
            "bottom": null,
            "display": null,
            "flex": null,
            "flex_flow": null,
            "grid_area": null,
            "grid_auto_columns": null,
            "grid_auto_flow": null,
            "grid_auto_rows": null,
            "grid_column": null,
            "grid_gap": null,
            "grid_row": null,
            "grid_template_areas": null,
            "grid_template_columns": null,
            "grid_template_rows": null,
            "height": null,
            "justify_content": null,
            "justify_items": null,
            "left": null,
            "margin": null,
            "max_height": null,
            "max_width": null,
            "min_height": null,
            "min_width": null,
            "object_fit": null,
            "object_position": null,
            "order": null,
            "overflow": null,
            "overflow_x": null,
            "overflow_y": null,
            "padding": null,
            "right": null,
            "top": null,
            "visibility": null,
            "width": null
          }
        },
        "52e6d2770aad43c09cfc1b9dce7f7678": {
          "model_module": "@jupyter-widgets/controls",
          "model_name": "DescriptionStyleModel",
          "model_module_version": "1.5.0",
          "state": {
            "_model_module": "@jupyter-widgets/controls",
            "_model_module_version": "1.5.0",
            "_model_name": "DescriptionStyleModel",
            "_view_count": null,
            "_view_module": "@jupyter-widgets/base",
            "_view_module_version": "1.2.0",
            "_view_name": "StyleView",
            "description_width": ""
          }
        },
        "acedaae9ec844c7792e949623c0895ac": {
          "model_module": "@jupyter-widgets/base",
          "model_name": "LayoutModel",
          "model_module_version": "1.2.0",
          "state": {
            "_model_module": "@jupyter-widgets/base",
            "_model_module_version": "1.2.0",
            "_model_name": "LayoutModel",
            "_view_count": null,
            "_view_module": "@jupyter-widgets/base",
            "_view_module_version": "1.2.0",
            "_view_name": "LayoutView",
            "align_content": null,
            "align_items": null,
            "align_self": null,
            "border": null,
            "bottom": null,
            "display": null,
            "flex": null,
            "flex_flow": null,
            "grid_area": null,
            "grid_auto_columns": null,
            "grid_auto_flow": null,
            "grid_auto_rows": null,
            "grid_column": null,
            "grid_gap": null,
            "grid_row": null,
            "grid_template_areas": null,
            "grid_template_columns": null,
            "grid_template_rows": null,
            "height": null,
            "justify_content": null,
            "justify_items": null,
            "left": null,
            "margin": null,
            "max_height": null,
            "max_width": null,
            "min_height": null,
            "min_width": null,
            "object_fit": null,
            "object_position": null,
            "order": null,
            "overflow": null,
            "overflow_x": null,
            "overflow_y": null,
            "padding": null,
            "right": null,
            "top": null,
            "visibility": null,
            "width": null
          }
        },
        "9ced533e44af4274bcb3a32a3d3c4807": {
          "model_module": "@jupyter-widgets/controls",
          "model_name": "ProgressStyleModel",
          "model_module_version": "1.5.0",
          "state": {
            "_model_module": "@jupyter-widgets/controls",
            "_model_module_version": "1.5.0",
            "_model_name": "ProgressStyleModel",
            "_view_count": null,
            "_view_module": "@jupyter-widgets/base",
            "_view_module_version": "1.2.0",
            "_view_name": "StyleView",
            "bar_color": null,
            "description_width": ""
          }
        },
        "31110f637aa949afb9a2f3f6c57659ac": {
          "model_module": "@jupyter-widgets/base",
          "model_name": "LayoutModel",
          "model_module_version": "1.2.0",
          "state": {
            "_model_module": "@jupyter-widgets/base",
            "_model_module_version": "1.2.0",
            "_model_name": "LayoutModel",
            "_view_count": null,
            "_view_module": "@jupyter-widgets/base",
            "_view_module_version": "1.2.0",
            "_view_name": "LayoutView",
            "align_content": null,
            "align_items": null,
            "align_self": null,
            "border": null,
            "bottom": null,
            "display": null,
            "flex": null,
            "flex_flow": null,
            "grid_area": null,
            "grid_auto_columns": null,
            "grid_auto_flow": null,
            "grid_auto_rows": null,
            "grid_column": null,
            "grid_gap": null,
            "grid_row": null,
            "grid_template_areas": null,
            "grid_template_columns": null,
            "grid_template_rows": null,
            "height": null,
            "justify_content": null,
            "justify_items": null,
            "left": null,
            "margin": null,
            "max_height": null,
            "max_width": null,
            "min_height": null,
            "min_width": null,
            "object_fit": null,
            "object_position": null,
            "order": null,
            "overflow": null,
            "overflow_x": null,
            "overflow_y": null,
            "padding": null,
            "right": null,
            "top": null,
            "visibility": null,
            "width": null
          }
        },
        "26bbc17621f94d36a0c0230617afd7cd": {
          "model_module": "@jupyter-widgets/controls",
          "model_name": "DescriptionStyleModel",
          "model_module_version": "1.5.0",
          "state": {
            "_model_module": "@jupyter-widgets/controls",
            "_model_module_version": "1.5.0",
            "_model_name": "DescriptionStyleModel",
            "_view_count": null,
            "_view_module": "@jupyter-widgets/base",
            "_view_module_version": "1.2.0",
            "_view_name": "StyleView",
            "description_width": ""
          }
        },
        "39afc6cba7334315aaa755339ac48d65": {
          "model_module": "@jupyter-widgets/controls",
          "model_name": "HBoxModel",
          "model_module_version": "1.5.0",
          "state": {
            "_dom_classes": [],
            "_model_module": "@jupyter-widgets/controls",
            "_model_module_version": "1.5.0",
            "_model_name": "HBoxModel",
            "_view_count": null,
            "_view_module": "@jupyter-widgets/controls",
            "_view_module_version": "1.5.0",
            "_view_name": "HBoxView",
            "box_style": "",
            "children": [
              "IPY_MODEL_ce83f3a10fd04838af005705642525e0",
              "IPY_MODEL_4f483615ce61442daf8160d21ed7e1b8",
              "IPY_MODEL_953016b0202b4ac5b5f22d527664b816"
            ],
            "layout": "IPY_MODEL_43dc123a1c684e50bd2001ddbddba85f"
          }
        },
        "ce83f3a10fd04838af005705642525e0": {
          "model_module": "@jupyter-widgets/controls",
          "model_name": "HTMLModel",
          "model_module_version": "1.5.0",
          "state": {
            "_dom_classes": [],
            "_model_module": "@jupyter-widgets/controls",
            "_model_module_version": "1.5.0",
            "_model_name": "HTMLModel",
            "_view_count": null,
            "_view_module": "@jupyter-widgets/controls",
            "_view_module_version": "1.5.0",
            "_view_name": "HTMLView",
            "description": "",
            "description_tooltip": null,
            "layout": "IPY_MODEL_34cfc8aa6504404988d89001fb99493b",
            "placeholder": "​",
            "style": "IPY_MODEL_5106b67b29ff4ff5a9d059bd59a7a211",
            "value": "merges.txt: 100%"
          }
        },
        "4f483615ce61442daf8160d21ed7e1b8": {
          "model_module": "@jupyter-widgets/controls",
          "model_name": "FloatProgressModel",
          "model_module_version": "1.5.0",
          "state": {
            "_dom_classes": [],
            "_model_module": "@jupyter-widgets/controls",
            "_model_module_version": "1.5.0",
            "_model_name": "FloatProgressModel",
            "_view_count": null,
            "_view_module": "@jupyter-widgets/controls",
            "_view_module_version": "1.5.0",
            "_view_name": "ProgressView",
            "bar_style": "success",
            "description": "",
            "description_tooltip": null,
            "layout": "IPY_MODEL_dd67ceebb3f646d7b687b2a29cf4fe1c",
            "max": 456356,
            "min": 0,
            "orientation": "horizontal",
            "style": "IPY_MODEL_39566b9586034d8e82315e5cb91752f4",
            "value": 456356
          }
        },
        "953016b0202b4ac5b5f22d527664b816": {
          "model_module": "@jupyter-widgets/controls",
          "model_name": "HTMLModel",
          "model_module_version": "1.5.0",
          "state": {
            "_dom_classes": [],
            "_model_module": "@jupyter-widgets/controls",
            "_model_module_version": "1.5.0",
            "_model_name": "HTMLModel",
            "_view_count": null,
            "_view_module": "@jupyter-widgets/controls",
            "_view_module_version": "1.5.0",
            "_view_name": "HTMLView",
            "description": "",
            "description_tooltip": null,
            "layout": "IPY_MODEL_2a02f05fb26348e69288205500975af3",
            "placeholder": "​",
            "style": "IPY_MODEL_cbfafcd3351148abbbf7cd296e978949",
            "value": " 456k/456k [00:00&lt;00:00, 3.45MB/s]"
          }
        },
        "43dc123a1c684e50bd2001ddbddba85f": {
          "model_module": "@jupyter-widgets/base",
          "model_name": "LayoutModel",
          "model_module_version": "1.2.0",
          "state": {
            "_model_module": "@jupyter-widgets/base",
            "_model_module_version": "1.2.0",
            "_model_name": "LayoutModel",
            "_view_count": null,
            "_view_module": "@jupyter-widgets/base",
            "_view_module_version": "1.2.0",
            "_view_name": "LayoutView",
            "align_content": null,
            "align_items": null,
            "align_self": null,
            "border": null,
            "bottom": null,
            "display": null,
            "flex": null,
            "flex_flow": null,
            "grid_area": null,
            "grid_auto_columns": null,
            "grid_auto_flow": null,
            "grid_auto_rows": null,
            "grid_column": null,
            "grid_gap": null,
            "grid_row": null,
            "grid_template_areas": null,
            "grid_template_columns": null,
            "grid_template_rows": null,
            "height": null,
            "justify_content": null,
            "justify_items": null,
            "left": null,
            "margin": null,
            "max_height": null,
            "max_width": null,
            "min_height": null,
            "min_width": null,
            "object_fit": null,
            "object_position": null,
            "order": null,
            "overflow": null,
            "overflow_x": null,
            "overflow_y": null,
            "padding": null,
            "right": null,
            "top": null,
            "visibility": null,
            "width": null
          }
        },
        "34cfc8aa6504404988d89001fb99493b": {
          "model_module": "@jupyter-widgets/base",
          "model_name": "LayoutModel",
          "model_module_version": "1.2.0",
          "state": {
            "_model_module": "@jupyter-widgets/base",
            "_model_module_version": "1.2.0",
            "_model_name": "LayoutModel",
            "_view_count": null,
            "_view_module": "@jupyter-widgets/base",
            "_view_module_version": "1.2.0",
            "_view_name": "LayoutView",
            "align_content": null,
            "align_items": null,
            "align_self": null,
            "border": null,
            "bottom": null,
            "display": null,
            "flex": null,
            "flex_flow": null,
            "grid_area": null,
            "grid_auto_columns": null,
            "grid_auto_flow": null,
            "grid_auto_rows": null,
            "grid_column": null,
            "grid_gap": null,
            "grid_row": null,
            "grid_template_areas": null,
            "grid_template_columns": null,
            "grid_template_rows": null,
            "height": null,
            "justify_content": null,
            "justify_items": null,
            "left": null,
            "margin": null,
            "max_height": null,
            "max_width": null,
            "min_height": null,
            "min_width": null,
            "object_fit": null,
            "object_position": null,
            "order": null,
            "overflow": null,
            "overflow_x": null,
            "overflow_y": null,
            "padding": null,
            "right": null,
            "top": null,
            "visibility": null,
            "width": null
          }
        },
        "5106b67b29ff4ff5a9d059bd59a7a211": {
          "model_module": "@jupyter-widgets/controls",
          "model_name": "DescriptionStyleModel",
          "model_module_version": "1.5.0",
          "state": {
            "_model_module": "@jupyter-widgets/controls",
            "_model_module_version": "1.5.0",
            "_model_name": "DescriptionStyleModel",
            "_view_count": null,
            "_view_module": "@jupyter-widgets/base",
            "_view_module_version": "1.2.0",
            "_view_name": "StyleView",
            "description_width": ""
          }
        },
        "dd67ceebb3f646d7b687b2a29cf4fe1c": {
          "model_module": "@jupyter-widgets/base",
          "model_name": "LayoutModel",
          "model_module_version": "1.2.0",
          "state": {
            "_model_module": "@jupyter-widgets/base",
            "_model_module_version": "1.2.0",
            "_model_name": "LayoutModel",
            "_view_count": null,
            "_view_module": "@jupyter-widgets/base",
            "_view_module_version": "1.2.0",
            "_view_name": "LayoutView",
            "align_content": null,
            "align_items": null,
            "align_self": null,
            "border": null,
            "bottom": null,
            "display": null,
            "flex": null,
            "flex_flow": null,
            "grid_area": null,
            "grid_auto_columns": null,
            "grid_auto_flow": null,
            "grid_auto_rows": null,
            "grid_column": null,
            "grid_gap": null,
            "grid_row": null,
            "grid_template_areas": null,
            "grid_template_columns": null,
            "grid_template_rows": null,
            "height": null,
            "justify_content": null,
            "justify_items": null,
            "left": null,
            "margin": null,
            "max_height": null,
            "max_width": null,
            "min_height": null,
            "min_width": null,
            "object_fit": null,
            "object_position": null,
            "order": null,
            "overflow": null,
            "overflow_x": null,
            "overflow_y": null,
            "padding": null,
            "right": null,
            "top": null,
            "visibility": null,
            "width": null
          }
        },
        "39566b9586034d8e82315e5cb91752f4": {
          "model_module": "@jupyter-widgets/controls",
          "model_name": "ProgressStyleModel",
          "model_module_version": "1.5.0",
          "state": {
            "_model_module": "@jupyter-widgets/controls",
            "_model_module_version": "1.5.0",
            "_model_name": "ProgressStyleModel",
            "_view_count": null,
            "_view_module": "@jupyter-widgets/base",
            "_view_module_version": "1.2.0",
            "_view_name": "StyleView",
            "bar_color": null,
            "description_width": ""
          }
        },
        "2a02f05fb26348e69288205500975af3": {
          "model_module": "@jupyter-widgets/base",
          "model_name": "LayoutModel",
          "model_module_version": "1.2.0",
          "state": {
            "_model_module": "@jupyter-widgets/base",
            "_model_module_version": "1.2.0",
            "_model_name": "LayoutModel",
            "_view_count": null,
            "_view_module": "@jupyter-widgets/base",
            "_view_module_version": "1.2.0",
            "_view_name": "LayoutView",
            "align_content": null,
            "align_items": null,
            "align_self": null,
            "border": null,
            "bottom": null,
            "display": null,
            "flex": null,
            "flex_flow": null,
            "grid_area": null,
            "grid_auto_columns": null,
            "grid_auto_flow": null,
            "grid_auto_rows": null,
            "grid_column": null,
            "grid_gap": null,
            "grid_row": null,
            "grid_template_areas": null,
            "grid_template_columns": null,
            "grid_template_rows": null,
            "height": null,
            "justify_content": null,
            "justify_items": null,
            "left": null,
            "margin": null,
            "max_height": null,
            "max_width": null,
            "min_height": null,
            "min_width": null,
            "object_fit": null,
            "object_position": null,
            "order": null,
            "overflow": null,
            "overflow_x": null,
            "overflow_y": null,
            "padding": null,
            "right": null,
            "top": null,
            "visibility": null,
            "width": null
          }
        },
        "cbfafcd3351148abbbf7cd296e978949": {
          "model_module": "@jupyter-widgets/controls",
          "model_name": "DescriptionStyleModel",
          "model_module_version": "1.5.0",
          "state": {
            "_model_module": "@jupyter-widgets/controls",
            "_model_module_version": "1.5.0",
            "_model_name": "DescriptionStyleModel",
            "_view_count": null,
            "_view_module": "@jupyter-widgets/base",
            "_view_module_version": "1.2.0",
            "_view_name": "StyleView",
            "description_width": ""
          }
        },
        "48faaf67784e48ba99992d7f27458038": {
          "model_module": "@jupyter-widgets/controls",
          "model_name": "HBoxModel",
          "model_module_version": "1.5.0",
          "state": {
            "_dom_classes": [],
            "_model_module": "@jupyter-widgets/controls",
            "_model_module_version": "1.5.0",
            "_model_name": "HBoxModel",
            "_view_count": null,
            "_view_module": "@jupyter-widgets/controls",
            "_view_module_version": "1.5.0",
            "_view_name": "HBoxView",
            "box_style": "",
            "children": [
              "IPY_MODEL_97051258460241b8a6a5bfa7c8dde1d8",
              "IPY_MODEL_865540c2c7a9435ab0a007a747517f29",
              "IPY_MODEL_a80dca3724d1410698489d42f973a663"
            ],
            "layout": "IPY_MODEL_19950f33eb614d94b1009719dc583fd8"
          }
        },
        "97051258460241b8a6a5bfa7c8dde1d8": {
          "model_module": "@jupyter-widgets/controls",
          "model_name": "HTMLModel",
          "model_module_version": "1.5.0",
          "state": {
            "_dom_classes": [],
            "_model_module": "@jupyter-widgets/controls",
            "_model_module_version": "1.5.0",
            "_model_name": "HTMLModel",
            "_view_count": null,
            "_view_module": "@jupyter-widgets/controls",
            "_view_module_version": "1.5.0",
            "_view_name": "HTMLView",
            "description": "",
            "description_tooltip": null,
            "layout": "IPY_MODEL_33b1a558628e40e7bdbc12c89b195ef3",
            "placeholder": "​",
            "style": "IPY_MODEL_3e6fcacfa83845d48a463045dac39d5b",
            "value": "tokenizer.json: 100%"
          }
        },
        "865540c2c7a9435ab0a007a747517f29": {
          "model_module": "@jupyter-widgets/controls",
          "model_name": "FloatProgressModel",
          "model_module_version": "1.5.0",
          "state": {
            "_dom_classes": [],
            "_model_module": "@jupyter-widgets/controls",
            "_model_module_version": "1.5.0",
            "_model_name": "FloatProgressModel",
            "_view_count": null,
            "_view_module": "@jupyter-widgets/controls",
            "_view_module_version": "1.5.0",
            "_view_name": "ProgressView",
            "bar_style": "success",
            "description": "",
            "description_tooltip": null,
            "layout": "IPY_MODEL_e00d81391e71413181c1346eddb36b88",
            "max": 1355880,
            "min": 0,
            "orientation": "horizontal",
            "style": "IPY_MODEL_b2d1b3f6280945c99a828c73fcf42d3c",
            "value": 1355880
          }
        },
        "a80dca3724d1410698489d42f973a663": {
          "model_module": "@jupyter-widgets/controls",
          "model_name": "HTMLModel",
          "model_module_version": "1.5.0",
          "state": {
            "_dom_classes": [],
            "_model_module": "@jupyter-widgets/controls",
            "_model_module_version": "1.5.0",
            "_model_name": "HTMLModel",
            "_view_count": null,
            "_view_module": "@jupyter-widgets/controls",
            "_view_module_version": "1.5.0",
            "_view_name": "HTMLView",
            "description": "",
            "description_tooltip": null,
            "layout": "IPY_MODEL_ed783ab8385f4a4cac986d9c0513cd1d",
            "placeholder": "​",
            "style": "IPY_MODEL_1a0c802dadb64a4fac52e52850f7dd69",
            "value": " 1.36M/1.36M [00:00&lt;00:00, 6.85MB/s]"
          }
        },
        "19950f33eb614d94b1009719dc583fd8": {
          "model_module": "@jupyter-widgets/base",
          "model_name": "LayoutModel",
          "model_module_version": "1.2.0",
          "state": {
            "_model_module": "@jupyter-widgets/base",
            "_model_module_version": "1.2.0",
            "_model_name": "LayoutModel",
            "_view_count": null,
            "_view_module": "@jupyter-widgets/base",
            "_view_module_version": "1.2.0",
            "_view_name": "LayoutView",
            "align_content": null,
            "align_items": null,
            "align_self": null,
            "border": null,
            "bottom": null,
            "display": null,
            "flex": null,
            "flex_flow": null,
            "grid_area": null,
            "grid_auto_columns": null,
            "grid_auto_flow": null,
            "grid_auto_rows": null,
            "grid_column": null,
            "grid_gap": null,
            "grid_row": null,
            "grid_template_areas": null,
            "grid_template_columns": null,
            "grid_template_rows": null,
            "height": null,
            "justify_content": null,
            "justify_items": null,
            "left": null,
            "margin": null,
            "max_height": null,
            "max_width": null,
            "min_height": null,
            "min_width": null,
            "object_fit": null,
            "object_position": null,
            "order": null,
            "overflow": null,
            "overflow_x": null,
            "overflow_y": null,
            "padding": null,
            "right": null,
            "top": null,
            "visibility": null,
            "width": null
          }
        },
        "33b1a558628e40e7bdbc12c89b195ef3": {
          "model_module": "@jupyter-widgets/base",
          "model_name": "LayoutModel",
          "model_module_version": "1.2.0",
          "state": {
            "_model_module": "@jupyter-widgets/base",
            "_model_module_version": "1.2.0",
            "_model_name": "LayoutModel",
            "_view_count": null,
            "_view_module": "@jupyter-widgets/base",
            "_view_module_version": "1.2.0",
            "_view_name": "LayoutView",
            "align_content": null,
            "align_items": null,
            "align_self": null,
            "border": null,
            "bottom": null,
            "display": null,
            "flex": null,
            "flex_flow": null,
            "grid_area": null,
            "grid_auto_columns": null,
            "grid_auto_flow": null,
            "grid_auto_rows": null,
            "grid_column": null,
            "grid_gap": null,
            "grid_row": null,
            "grid_template_areas": null,
            "grid_template_columns": null,
            "grid_template_rows": null,
            "height": null,
            "justify_content": null,
            "justify_items": null,
            "left": null,
            "margin": null,
            "max_height": null,
            "max_width": null,
            "min_height": null,
            "min_width": null,
            "object_fit": null,
            "object_position": null,
            "order": null,
            "overflow": null,
            "overflow_x": null,
            "overflow_y": null,
            "padding": null,
            "right": null,
            "top": null,
            "visibility": null,
            "width": null
          }
        },
        "3e6fcacfa83845d48a463045dac39d5b": {
          "model_module": "@jupyter-widgets/controls",
          "model_name": "DescriptionStyleModel",
          "model_module_version": "1.5.0",
          "state": {
            "_model_module": "@jupyter-widgets/controls",
            "_model_module_version": "1.5.0",
            "_model_name": "DescriptionStyleModel",
            "_view_count": null,
            "_view_module": "@jupyter-widgets/base",
            "_view_module_version": "1.2.0",
            "_view_name": "StyleView",
            "description_width": ""
          }
        },
        "e00d81391e71413181c1346eddb36b88": {
          "model_module": "@jupyter-widgets/base",
          "model_name": "LayoutModel",
          "model_module_version": "1.2.0",
          "state": {
            "_model_module": "@jupyter-widgets/base",
            "_model_module_version": "1.2.0",
            "_model_name": "LayoutModel",
            "_view_count": null,
            "_view_module": "@jupyter-widgets/base",
            "_view_module_version": "1.2.0",
            "_view_name": "LayoutView",
            "align_content": null,
            "align_items": null,
            "align_self": null,
            "border": null,
            "bottom": null,
            "display": null,
            "flex": null,
            "flex_flow": null,
            "grid_area": null,
            "grid_auto_columns": null,
            "grid_auto_flow": null,
            "grid_auto_rows": null,
            "grid_column": null,
            "grid_gap": null,
            "grid_row": null,
            "grid_template_areas": null,
            "grid_template_columns": null,
            "grid_template_rows": null,
            "height": null,
            "justify_content": null,
            "justify_items": null,
            "left": null,
            "margin": null,
            "max_height": null,
            "max_width": null,
            "min_height": null,
            "min_width": null,
            "object_fit": null,
            "object_position": null,
            "order": null,
            "overflow": null,
            "overflow_x": null,
            "overflow_y": null,
            "padding": null,
            "right": null,
            "top": null,
            "visibility": null,
            "width": null
          }
        },
        "b2d1b3f6280945c99a828c73fcf42d3c": {
          "model_module": "@jupyter-widgets/controls",
          "model_name": "ProgressStyleModel",
          "model_module_version": "1.5.0",
          "state": {
            "_model_module": "@jupyter-widgets/controls",
            "_model_module_version": "1.5.0",
            "_model_name": "ProgressStyleModel",
            "_view_count": null,
            "_view_module": "@jupyter-widgets/base",
            "_view_module_version": "1.2.0",
            "_view_name": "StyleView",
            "bar_color": null,
            "description_width": ""
          }
        },
        "ed783ab8385f4a4cac986d9c0513cd1d": {
          "model_module": "@jupyter-widgets/base",
          "model_name": "LayoutModel",
          "model_module_version": "1.2.0",
          "state": {
            "_model_module": "@jupyter-widgets/base",
            "_model_module_version": "1.2.0",
            "_model_name": "LayoutModel",
            "_view_count": null,
            "_view_module": "@jupyter-widgets/base",
            "_view_module_version": "1.2.0",
            "_view_name": "LayoutView",
            "align_content": null,
            "align_items": null,
            "align_self": null,
            "border": null,
            "bottom": null,
            "display": null,
            "flex": null,
            "flex_flow": null,
            "grid_area": null,
            "grid_auto_columns": null,
            "grid_auto_flow": null,
            "grid_auto_rows": null,
            "grid_column": null,
            "grid_gap": null,
            "grid_row": null,
            "grid_template_areas": null,
            "grid_template_columns": null,
            "grid_template_rows": null,
            "height": null,
            "justify_content": null,
            "justify_items": null,
            "left": null,
            "margin": null,
            "max_height": null,
            "max_width": null,
            "min_height": null,
            "min_width": null,
            "object_fit": null,
            "object_position": null,
            "order": null,
            "overflow": null,
            "overflow_x": null,
            "overflow_y": null,
            "padding": null,
            "right": null,
            "top": null,
            "visibility": null,
            "width": null
          }
        },
        "1a0c802dadb64a4fac52e52850f7dd69": {
          "model_module": "@jupyter-widgets/controls",
          "model_name": "DescriptionStyleModel",
          "model_module_version": "1.5.0",
          "state": {
            "_model_module": "@jupyter-widgets/controls",
            "_model_module_version": "1.5.0",
            "_model_name": "DescriptionStyleModel",
            "_view_count": null,
            "_view_module": "@jupyter-widgets/base",
            "_view_module_version": "1.2.0",
            "_view_name": "StyleView",
            "description_width": ""
          }
        },
        "7bfb3c0bcb7845a8abf87498c4ba05e9": {
          "model_module": "@jupyter-widgets/controls",
          "model_name": "HBoxModel",
          "model_module_version": "1.5.0",
          "state": {
            "_dom_classes": [],
            "_model_module": "@jupyter-widgets/controls",
            "_model_module_version": "1.5.0",
            "_model_name": "HBoxModel",
            "_view_count": null,
            "_view_module": "@jupyter-widgets/controls",
            "_view_module_version": "1.5.0",
            "_view_name": "HBoxView",
            "box_style": "",
            "children": [
              "IPY_MODEL_786bb2a18db4436f9a0fe45d87c6a3ca",
              "IPY_MODEL_e8a3b7dc44b044e9bce7a58a9505688a",
              "IPY_MODEL_8fb159ad19c844bf9931d5052c2f2417"
            ],
            "layout": "IPY_MODEL_bbff96595c5a4c63a30a7e62966c13dd"
          }
        },
        "786bb2a18db4436f9a0fe45d87c6a3ca": {
          "model_module": "@jupyter-widgets/controls",
          "model_name": "HTMLModel",
          "model_module_version": "1.5.0",
          "state": {
            "_dom_classes": [],
            "_model_module": "@jupyter-widgets/controls",
            "_model_module_version": "1.5.0",
            "_model_name": "HTMLModel",
            "_view_count": null,
            "_view_module": "@jupyter-widgets/controls",
            "_view_module_version": "1.5.0",
            "_view_name": "HTMLView",
            "description": "",
            "description_tooltip": null,
            "layout": "IPY_MODEL_91c1cc9cbb37438a8b90394f96063832",
            "placeholder": "​",
            "style": "IPY_MODEL_928123d454b74c7db0e10dc138c9f941",
            "value": "special_tokens_map.json: 100%"
          }
        },
        "e8a3b7dc44b044e9bce7a58a9505688a": {
          "model_module": "@jupyter-widgets/controls",
          "model_name": "FloatProgressModel",
          "model_module_version": "1.5.0",
          "state": {
            "_dom_classes": [],
            "_model_module": "@jupyter-widgets/controls",
            "_model_module_version": "1.5.0",
            "_model_name": "FloatProgressModel",
            "_view_count": null,
            "_view_module": "@jupyter-widgets/controls",
            "_view_module_version": "1.5.0",
            "_view_name": "ProgressView",
            "bar_style": "success",
            "description": "",
            "description_tooltip": null,
            "layout": "IPY_MODEL_4b5aa97b4f284234afad0b6fd4bc0b4c",
            "max": 239,
            "min": 0,
            "orientation": "horizontal",
            "style": "IPY_MODEL_128be60f86fe4c8091d2899233cf9385",
            "value": 239
          }
        },
        "8fb159ad19c844bf9931d5052c2f2417": {
          "model_module": "@jupyter-widgets/controls",
          "model_name": "HTMLModel",
          "model_module_version": "1.5.0",
          "state": {
            "_dom_classes": [],
            "_model_module": "@jupyter-widgets/controls",
            "_model_module_version": "1.5.0",
            "_model_name": "HTMLModel",
            "_view_count": null,
            "_view_module": "@jupyter-widgets/controls",
            "_view_module_version": "1.5.0",
            "_view_name": "HTMLView",
            "description": "",
            "description_tooltip": null,
            "layout": "IPY_MODEL_a1cc45f72a30477ab5c3df6291e5f17c",
            "placeholder": "​",
            "style": "IPY_MODEL_b5853da605e04f9e8cb9a733d89af339",
            "value": " 239/239 [00:00&lt;00:00, 17.5kB/s]"
          }
        },
        "bbff96595c5a4c63a30a7e62966c13dd": {
          "model_module": "@jupyter-widgets/base",
          "model_name": "LayoutModel",
          "model_module_version": "1.2.0",
          "state": {
            "_model_module": "@jupyter-widgets/base",
            "_model_module_version": "1.2.0",
            "_model_name": "LayoutModel",
            "_view_count": null,
            "_view_module": "@jupyter-widgets/base",
            "_view_module_version": "1.2.0",
            "_view_name": "LayoutView",
            "align_content": null,
            "align_items": null,
            "align_self": null,
            "border": null,
            "bottom": null,
            "display": null,
            "flex": null,
            "flex_flow": null,
            "grid_area": null,
            "grid_auto_columns": null,
            "grid_auto_flow": null,
            "grid_auto_rows": null,
            "grid_column": null,
            "grid_gap": null,
            "grid_row": null,
            "grid_template_areas": null,
            "grid_template_columns": null,
            "grid_template_rows": null,
            "height": null,
            "justify_content": null,
            "justify_items": null,
            "left": null,
            "margin": null,
            "max_height": null,
            "max_width": null,
            "min_height": null,
            "min_width": null,
            "object_fit": null,
            "object_position": null,
            "order": null,
            "overflow": null,
            "overflow_x": null,
            "overflow_y": null,
            "padding": null,
            "right": null,
            "top": null,
            "visibility": null,
            "width": null
          }
        },
        "91c1cc9cbb37438a8b90394f96063832": {
          "model_module": "@jupyter-widgets/base",
          "model_name": "LayoutModel",
          "model_module_version": "1.2.0",
          "state": {
            "_model_module": "@jupyter-widgets/base",
            "_model_module_version": "1.2.0",
            "_model_name": "LayoutModel",
            "_view_count": null,
            "_view_module": "@jupyter-widgets/base",
            "_view_module_version": "1.2.0",
            "_view_name": "LayoutView",
            "align_content": null,
            "align_items": null,
            "align_self": null,
            "border": null,
            "bottom": null,
            "display": null,
            "flex": null,
            "flex_flow": null,
            "grid_area": null,
            "grid_auto_columns": null,
            "grid_auto_flow": null,
            "grid_auto_rows": null,
            "grid_column": null,
            "grid_gap": null,
            "grid_row": null,
            "grid_template_areas": null,
            "grid_template_columns": null,
            "grid_template_rows": null,
            "height": null,
            "justify_content": null,
            "justify_items": null,
            "left": null,
            "margin": null,
            "max_height": null,
            "max_width": null,
            "min_height": null,
            "min_width": null,
            "object_fit": null,
            "object_position": null,
            "order": null,
            "overflow": null,
            "overflow_x": null,
            "overflow_y": null,
            "padding": null,
            "right": null,
            "top": null,
            "visibility": null,
            "width": null
          }
        },
        "928123d454b74c7db0e10dc138c9f941": {
          "model_module": "@jupyter-widgets/controls",
          "model_name": "DescriptionStyleModel",
          "model_module_version": "1.5.0",
          "state": {
            "_model_module": "@jupyter-widgets/controls",
            "_model_module_version": "1.5.0",
            "_model_name": "DescriptionStyleModel",
            "_view_count": null,
            "_view_module": "@jupyter-widgets/base",
            "_view_module_version": "1.2.0",
            "_view_name": "StyleView",
            "description_width": ""
          }
        },
        "4b5aa97b4f284234afad0b6fd4bc0b4c": {
          "model_module": "@jupyter-widgets/base",
          "model_name": "LayoutModel",
          "model_module_version": "1.2.0",
          "state": {
            "_model_module": "@jupyter-widgets/base",
            "_model_module_version": "1.2.0",
            "_model_name": "LayoutModel",
            "_view_count": null,
            "_view_module": "@jupyter-widgets/base",
            "_view_module_version": "1.2.0",
            "_view_name": "LayoutView",
            "align_content": null,
            "align_items": null,
            "align_self": null,
            "border": null,
            "bottom": null,
            "display": null,
            "flex": null,
            "flex_flow": null,
            "grid_area": null,
            "grid_auto_columns": null,
            "grid_auto_flow": null,
            "grid_auto_rows": null,
            "grid_column": null,
            "grid_gap": null,
            "grid_row": null,
            "grid_template_areas": null,
            "grid_template_columns": null,
            "grid_template_rows": null,
            "height": null,
            "justify_content": null,
            "justify_items": null,
            "left": null,
            "margin": null,
            "max_height": null,
            "max_width": null,
            "min_height": null,
            "min_width": null,
            "object_fit": null,
            "object_position": null,
            "order": null,
            "overflow": null,
            "overflow_x": null,
            "overflow_y": null,
            "padding": null,
            "right": null,
            "top": null,
            "visibility": null,
            "width": null
          }
        },
        "128be60f86fe4c8091d2899233cf9385": {
          "model_module": "@jupyter-widgets/controls",
          "model_name": "ProgressStyleModel",
          "model_module_version": "1.5.0",
          "state": {
            "_model_module": "@jupyter-widgets/controls",
            "_model_module_version": "1.5.0",
            "_model_name": "ProgressStyleModel",
            "_view_count": null,
            "_view_module": "@jupyter-widgets/base",
            "_view_module_version": "1.2.0",
            "_view_name": "StyleView",
            "bar_color": null,
            "description_width": ""
          }
        },
        "a1cc45f72a30477ab5c3df6291e5f17c": {
          "model_module": "@jupyter-widgets/base",
          "model_name": "LayoutModel",
          "model_module_version": "1.2.0",
          "state": {
            "_model_module": "@jupyter-widgets/base",
            "_model_module_version": "1.2.0",
            "_model_name": "LayoutModel",
            "_view_count": null,
            "_view_module": "@jupyter-widgets/base",
            "_view_module_version": "1.2.0",
            "_view_name": "LayoutView",
            "align_content": null,
            "align_items": null,
            "align_self": null,
            "border": null,
            "bottom": null,
            "display": null,
            "flex": null,
            "flex_flow": null,
            "grid_area": null,
            "grid_auto_columns": null,
            "grid_auto_flow": null,
            "grid_auto_rows": null,
            "grid_column": null,
            "grid_gap": null,
            "grid_row": null,
            "grid_template_areas": null,
            "grid_template_columns": null,
            "grid_template_rows": null,
            "height": null,
            "justify_content": null,
            "justify_items": null,
            "left": null,
            "margin": null,
            "max_height": null,
            "max_width": null,
            "min_height": null,
            "min_width": null,
            "object_fit": null,
            "object_position": null,
            "order": null,
            "overflow": null,
            "overflow_x": null,
            "overflow_y": null,
            "padding": null,
            "right": null,
            "top": null,
            "visibility": null,
            "width": null
          }
        },
        "b5853da605e04f9e8cb9a733d89af339": {
          "model_module": "@jupyter-widgets/controls",
          "model_name": "DescriptionStyleModel",
          "model_module_version": "1.5.0",
          "state": {
            "_model_module": "@jupyter-widgets/controls",
            "_model_module_version": "1.5.0",
            "_model_name": "DescriptionStyleModel",
            "_view_count": null,
            "_view_module": "@jupyter-widgets/base",
            "_view_module_version": "1.2.0",
            "_view_name": "StyleView",
            "description_width": ""
          }
        },
        "f13d96e5a33a405ea76281e2719604d7": {
          "model_module": "@jupyter-widgets/controls",
          "model_name": "HBoxModel",
          "model_module_version": "1.5.0",
          "state": {
            "_dom_classes": [],
            "_model_module": "@jupyter-widgets/controls",
            "_model_module_version": "1.5.0",
            "_model_name": "HBoxModel",
            "_view_count": null,
            "_view_module": "@jupyter-widgets/controls",
            "_view_module_version": "1.5.0",
            "_view_name": "HBoxView",
            "box_style": "",
            "children": [
              "IPY_MODEL_05b46caac1d04feeb95141b776ff3252",
              "IPY_MODEL_6374b19ff00643798a41af827de1bd81",
              "IPY_MODEL_bbd5c25aa97e4b7087eff6a10575eaeb"
            ],
            "layout": "IPY_MODEL_b0abc178ed634a258debd4e1be513796"
          }
        },
        "05b46caac1d04feeb95141b776ff3252": {
          "model_module": "@jupyter-widgets/controls",
          "model_name": "HTMLModel",
          "model_module_version": "1.5.0",
          "state": {
            "_dom_classes": [],
            "_model_module": "@jupyter-widgets/controls",
            "_model_module_version": "1.5.0",
            "_model_name": "HTMLModel",
            "_view_count": null,
            "_view_module": "@jupyter-widgets/controls",
            "_view_module_version": "1.5.0",
            "_view_name": "HTMLView",
            "description": "",
            "description_tooltip": null,
            "layout": "IPY_MODEL_804aabe0bab54d599d88a90eaeb0bd48",
            "placeholder": "​",
            "style": "IPY_MODEL_72d3cebf6b3848758099589c93a6ff1b",
            "value": "pytorch_model.bin: 100%"
          }
        },
        "6374b19ff00643798a41af827de1bd81": {
          "model_module": "@jupyter-widgets/controls",
          "model_name": "FloatProgressModel",
          "model_module_version": "1.5.0",
          "state": {
            "_dom_classes": [],
            "_model_module": "@jupyter-widgets/controls",
            "_model_module_version": "1.5.0",
            "_model_name": "FloatProgressModel",
            "_view_count": null,
            "_view_module": "@jupyter-widgets/controls",
            "_view_module_version": "1.5.0",
            "_view_name": "ProgressView",
            "bar_style": "success",
            "description": "",
            "description_tooltip": null,
            "layout": "IPY_MODEL_1eb15955e54e434db039bccd83f3fb8a",
            "max": 362162101,
            "min": 0,
            "orientation": "horizontal",
            "style": "IPY_MODEL_69c982cb01924a6a8913e0143f398d95",
            "value": 362162101
          }
        },
        "bbd5c25aa97e4b7087eff6a10575eaeb": {
          "model_module": "@jupyter-widgets/controls",
          "model_name": "HTMLModel",
          "model_module_version": "1.5.0",
          "state": {
            "_dom_classes": [],
            "_model_module": "@jupyter-widgets/controls",
            "_model_module_version": "1.5.0",
            "_model_name": "HTMLModel",
            "_view_count": null,
            "_view_module": "@jupyter-widgets/controls",
            "_view_module_version": "1.5.0",
            "_view_name": "HTMLView",
            "description": "",
            "description_tooltip": null,
            "layout": "IPY_MODEL_c9c5245b3e93465aa24bb699d9813945",
            "placeholder": "​",
            "style": "IPY_MODEL_0c7f7800d0d14750bed72419b8a2cb89",
            "value": " 362M/362M [00:01&lt;00:00, 214MB/s]"
          }
        },
        "b0abc178ed634a258debd4e1be513796": {
          "model_module": "@jupyter-widgets/base",
          "model_name": "LayoutModel",
          "model_module_version": "1.2.0",
          "state": {
            "_model_module": "@jupyter-widgets/base",
            "_model_module_version": "1.2.0",
            "_model_name": "LayoutModel",
            "_view_count": null,
            "_view_module": "@jupyter-widgets/base",
            "_view_module_version": "1.2.0",
            "_view_name": "LayoutView",
            "align_content": null,
            "align_items": null,
            "align_self": null,
            "border": null,
            "bottom": null,
            "display": null,
            "flex": null,
            "flex_flow": null,
            "grid_area": null,
            "grid_auto_columns": null,
            "grid_auto_flow": null,
            "grid_auto_rows": null,
            "grid_column": null,
            "grid_gap": null,
            "grid_row": null,
            "grid_template_areas": null,
            "grid_template_columns": null,
            "grid_template_rows": null,
            "height": null,
            "justify_content": null,
            "justify_items": null,
            "left": null,
            "margin": null,
            "max_height": null,
            "max_width": null,
            "min_height": null,
            "min_width": null,
            "object_fit": null,
            "object_position": null,
            "order": null,
            "overflow": null,
            "overflow_x": null,
            "overflow_y": null,
            "padding": null,
            "right": null,
            "top": null,
            "visibility": null,
            "width": null
          }
        },
        "804aabe0bab54d599d88a90eaeb0bd48": {
          "model_module": "@jupyter-widgets/base",
          "model_name": "LayoutModel",
          "model_module_version": "1.2.0",
          "state": {
            "_model_module": "@jupyter-widgets/base",
            "_model_module_version": "1.2.0",
            "_model_name": "LayoutModel",
            "_view_count": null,
            "_view_module": "@jupyter-widgets/base",
            "_view_module_version": "1.2.0",
            "_view_name": "LayoutView",
            "align_content": null,
            "align_items": null,
            "align_self": null,
            "border": null,
            "bottom": null,
            "display": null,
            "flex": null,
            "flex_flow": null,
            "grid_area": null,
            "grid_auto_columns": null,
            "grid_auto_flow": null,
            "grid_auto_rows": null,
            "grid_column": null,
            "grid_gap": null,
            "grid_row": null,
            "grid_template_areas": null,
            "grid_template_columns": null,
            "grid_template_rows": null,
            "height": null,
            "justify_content": null,
            "justify_items": null,
            "left": null,
            "margin": null,
            "max_height": null,
            "max_width": null,
            "min_height": null,
            "min_width": null,
            "object_fit": null,
            "object_position": null,
            "order": null,
            "overflow": null,
            "overflow_x": null,
            "overflow_y": null,
            "padding": null,
            "right": null,
            "top": null,
            "visibility": null,
            "width": null
          }
        },
        "72d3cebf6b3848758099589c93a6ff1b": {
          "model_module": "@jupyter-widgets/controls",
          "model_name": "DescriptionStyleModel",
          "model_module_version": "1.5.0",
          "state": {
            "_model_module": "@jupyter-widgets/controls",
            "_model_module_version": "1.5.0",
            "_model_name": "DescriptionStyleModel",
            "_view_count": null,
            "_view_module": "@jupyter-widgets/base",
            "_view_module_version": "1.2.0",
            "_view_name": "StyleView",
            "description_width": ""
          }
        },
        "1eb15955e54e434db039bccd83f3fb8a": {
          "model_module": "@jupyter-widgets/base",
          "model_name": "LayoutModel",
          "model_module_version": "1.2.0",
          "state": {
            "_model_module": "@jupyter-widgets/base",
            "_model_module_version": "1.2.0",
            "_model_name": "LayoutModel",
            "_view_count": null,
            "_view_module": "@jupyter-widgets/base",
            "_view_module_version": "1.2.0",
            "_view_name": "LayoutView",
            "align_content": null,
            "align_items": null,
            "align_self": null,
            "border": null,
            "bottom": null,
            "display": null,
            "flex": null,
            "flex_flow": null,
            "grid_area": null,
            "grid_auto_columns": null,
            "grid_auto_flow": null,
            "grid_auto_rows": null,
            "grid_column": null,
            "grid_gap": null,
            "grid_row": null,
            "grid_template_areas": null,
            "grid_template_columns": null,
            "grid_template_rows": null,
            "height": null,
            "justify_content": null,
            "justify_items": null,
            "left": null,
            "margin": null,
            "max_height": null,
            "max_width": null,
            "min_height": null,
            "min_width": null,
            "object_fit": null,
            "object_position": null,
            "order": null,
            "overflow": null,
            "overflow_x": null,
            "overflow_y": null,
            "padding": null,
            "right": null,
            "top": null,
            "visibility": null,
            "width": null
          }
        },
        "69c982cb01924a6a8913e0143f398d95": {
          "model_module": "@jupyter-widgets/controls",
          "model_name": "ProgressStyleModel",
          "model_module_version": "1.5.0",
          "state": {
            "_model_module": "@jupyter-widgets/controls",
            "_model_module_version": "1.5.0",
            "_model_name": "ProgressStyleModel",
            "_view_count": null,
            "_view_module": "@jupyter-widgets/base",
            "_view_module_version": "1.2.0",
            "_view_name": "StyleView",
            "bar_color": null,
            "description_width": ""
          }
        },
        "c9c5245b3e93465aa24bb699d9813945": {
          "model_module": "@jupyter-widgets/base",
          "model_name": "LayoutModel",
          "model_module_version": "1.2.0",
          "state": {
            "_model_module": "@jupyter-widgets/base",
            "_model_module_version": "1.2.0",
            "_model_name": "LayoutModel",
            "_view_count": null,
            "_view_module": "@jupyter-widgets/base",
            "_view_module_version": "1.2.0",
            "_view_name": "LayoutView",
            "align_content": null,
            "align_items": null,
            "align_self": null,
            "border": null,
            "bottom": null,
            "display": null,
            "flex": null,
            "flex_flow": null,
            "grid_area": null,
            "grid_auto_columns": null,
            "grid_auto_flow": null,
            "grid_auto_rows": null,
            "grid_column": null,
            "grid_gap": null,
            "grid_row": null,
            "grid_template_areas": null,
            "grid_template_columns": null,
            "grid_template_rows": null,
            "height": null,
            "justify_content": null,
            "justify_items": null,
            "left": null,
            "margin": null,
            "max_height": null,
            "max_width": null,
            "min_height": null,
            "min_width": null,
            "object_fit": null,
            "object_position": null,
            "order": null,
            "overflow": null,
            "overflow_x": null,
            "overflow_y": null,
            "padding": null,
            "right": null,
            "top": null,
            "visibility": null,
            "width": null
          }
        },
        "0c7f7800d0d14750bed72419b8a2cb89": {
          "model_module": "@jupyter-widgets/controls",
          "model_name": "DescriptionStyleModel",
          "model_module_version": "1.5.0",
          "state": {
            "_model_module": "@jupyter-widgets/controls",
            "_model_module_version": "1.5.0",
            "_model_name": "DescriptionStyleModel",
            "_view_count": null,
            "_view_module": "@jupyter-widgets/base",
            "_view_module_version": "1.2.0",
            "_view_name": "StyleView",
            "description_width": ""
          }
        }
      }
    }
  },
  "cells": [
    {
      "cell_type": "markdown",
      "metadata": {
        "id": "view-in-github",
        "colab_type": "text"
      },
      "source": [
        "<a href=\"https://colab.research.google.com/github/Abhijith-Nagarajan/CS_546_Project/blob/Abhijith_NER_TM/notebooks/RE_Inference.ipynb\" target=\"_parent\"><img src=\"https://colab.research.google.com/assets/colab-badge.svg\" alt=\"Open In Colab\"/></a>"
      ]
    },
    {
      "cell_type": "code",
      "execution_count": null,
      "metadata": {
        "id": "lhtiu0g2UOBa"
      },
      "outputs": [],
      "source": [
        "from google.colab import drive"
      ]
    },
    {
      "cell_type": "code",
      "execution_count": null,
      "metadata": {
        "colab": {
          "base_uri": "https://localhost:8080/"
        },
        "id": "XcEIIxukUp9M",
        "outputId": "d1d74032-af68-4af0-84e5-cd27653b79bd"
      },
      "outputs": [
        {
          "output_type": "stream",
          "name": "stdout",
          "text": [
            "Mounted at /content/gdrive\n"
          ]
        }
      ],
      "source": [
        "drive.mount('/content/gdrive')"
      ]
    },
    {
      "cell_type": "code",
      "execution_count": null,
      "metadata": {
        "id": "bUvZtjtFUrmw"
      },
      "outputs": [],
      "source": [
        "package_directory = r'/content/gdrive/MyDrive/CS_546_Project_Dependencies/lib/python3.10/site-packages'"
      ]
    },
    {
      "cell_type": "code",
      "execution_count": null,
      "metadata": {
        "id": "qhLl5vG_c5Ss"
      },
      "outputs": [],
      "source": [
        "import sys"
      ]
    },
    {
      "cell_type": "code",
      "source": [
        "sys.path.append(package_directory)"
      ],
      "metadata": {
        "id": "FCa9x9HIzRvT"
      },
      "execution_count": null,
      "outputs": []
    },
    {
      "cell_type": "code",
      "source": [
        "import os"
      ],
      "metadata": {
        "id": "rQpVINA2ihTI"
      },
      "execution_count": null,
      "outputs": []
    },
    {
      "cell_type": "code",
      "source": [
        "import copy"
      ],
      "metadata": {
        "id": "E9ovbxkaqTub"
      },
      "execution_count": null,
      "outputs": []
    },
    {
      "cell_type": "code",
      "execution_count": null,
      "metadata": {
        "id": "WDNDUoTVVGUn"
      },
      "outputs": [],
      "source": [
        "import pandas as pd\n",
        "import numpy as np\n",
        "import matplotlib.pyplot as plt\n",
        "import seaborn as sns\n",
        "import spacy\n",
        "from spacy import displacy\n",
        "import en_core_sci_md\n",
        "import re\n",
        "import torch"
      ]
    },
    {
      "cell_type": "code",
      "execution_count": null,
      "metadata": {
        "id": "nb9Jkd0CbcM6"
      },
      "outputs": [],
      "source": [
        "from datasets import load_dataset, Dataset"
      ]
    },
    {
      "cell_type": "code",
      "execution_count": null,
      "metadata": {
        "id": "qPyHiOxcq82F"
      },
      "outputs": [],
      "source": [
        "from transformers import AutoTokenizer, AutoModelForTokenClassification, pipeline, Seq2SeqTrainingArguments, Seq2SeqTrainer, AutoModelForSeq2SeqLM, AutoModelForCausalLM, AutoModel, TrainingArguments, Trainer, IntervalStrategy, EarlyStoppingCallback"
      ]
    },
    {
      "cell_type": "code",
      "source": [
        "model_path = \"/content/gdrive/MyDrive/CS_546_Project_Dependencies/BioRED_Results/checkpoint-118\""
      ],
      "metadata": {
        "id": "PtEdXbJAjdSx"
      },
      "execution_count": null,
      "outputs": []
    },
    {
      "cell_type": "code",
      "source": [
        "rebel_model = AutoModelForSeq2SeqLM.from_pretrained(model_path)"
      ],
      "metadata": {
        "id": "xXkDQVFDHBqG"
      },
      "execution_count": null,
      "outputs": []
    },
    {
      "cell_type": "code",
      "source": [
        "device = \"cuda:0\" if torch.cuda.is_available() else \"cpu\""
      ],
      "metadata": {
        "id": "W9mw-t9jC0fW"
      },
      "execution_count": null,
      "outputs": []
    },
    {
      "cell_type": "code",
      "source": [
        "rebel_model.to(device)"
      ],
      "metadata": {
        "collapsed": true,
        "colab": {
          "base_uri": "https://localhost:8080/"
        },
        "id": "tYcXyA3o0SJb",
        "outputId": "729786d6-073e-47ef-e016-a4654abce5d3"
      },
      "execution_count": null,
      "outputs": [
        {
          "output_type": "execute_result",
          "data": {
            "text/plain": [
              "BartForConditionalGeneration(\n",
              "  (model): BartModel(\n",
              "    (shared): BartScaledWordEmbedding(50272, 1024, padding_idx=1)\n",
              "    (encoder): BartEncoder(\n",
              "      (embed_tokens): BartScaledWordEmbedding(50272, 1024, padding_idx=1)\n",
              "      (embed_positions): BartLearnedPositionalEmbedding(1026, 1024)\n",
              "      (layers): ModuleList(\n",
              "        (0-11): 12 x BartEncoderLayer(\n",
              "          (self_attn): BartSdpaAttention(\n",
              "            (k_proj): Linear(in_features=1024, out_features=1024, bias=True)\n",
              "            (v_proj): Linear(in_features=1024, out_features=1024, bias=True)\n",
              "            (q_proj): Linear(in_features=1024, out_features=1024, bias=True)\n",
              "            (out_proj): Linear(in_features=1024, out_features=1024, bias=True)\n",
              "          )\n",
              "          (self_attn_layer_norm): LayerNorm((1024,), eps=1e-05, elementwise_affine=True)\n",
              "          (activation_fn): GELUActivation()\n",
              "          (fc1): Linear(in_features=1024, out_features=4096, bias=True)\n",
              "          (fc2): Linear(in_features=4096, out_features=1024, bias=True)\n",
              "          (final_layer_norm): LayerNorm((1024,), eps=1e-05, elementwise_affine=True)\n",
              "        )\n",
              "      )\n",
              "      (layernorm_embedding): LayerNorm((1024,), eps=1e-05, elementwise_affine=True)\n",
              "    )\n",
              "    (decoder): BartDecoder(\n",
              "      (embed_tokens): BartScaledWordEmbedding(50272, 1024, padding_idx=1)\n",
              "      (embed_positions): BartLearnedPositionalEmbedding(1026, 1024)\n",
              "      (layers): ModuleList(\n",
              "        (0-11): 12 x BartDecoderLayer(\n",
              "          (self_attn): BartSdpaAttention(\n",
              "            (k_proj): Linear(in_features=1024, out_features=1024, bias=True)\n",
              "            (v_proj): Linear(in_features=1024, out_features=1024, bias=True)\n",
              "            (q_proj): Linear(in_features=1024, out_features=1024, bias=True)\n",
              "            (out_proj): Linear(in_features=1024, out_features=1024, bias=True)\n",
              "          )\n",
              "          (activation_fn): GELUActivation()\n",
              "          (self_attn_layer_norm): LayerNorm((1024,), eps=1e-05, elementwise_affine=True)\n",
              "          (encoder_attn): BartSdpaAttention(\n",
              "            (k_proj): Linear(in_features=1024, out_features=1024, bias=True)\n",
              "            (v_proj): Linear(in_features=1024, out_features=1024, bias=True)\n",
              "            (q_proj): Linear(in_features=1024, out_features=1024, bias=True)\n",
              "            (out_proj): Linear(in_features=1024, out_features=1024, bias=True)\n",
              "          )\n",
              "          (encoder_attn_layer_norm): LayerNorm((1024,), eps=1e-05, elementwise_affine=True)\n",
              "          (fc1): Linear(in_features=1024, out_features=4096, bias=True)\n",
              "          (fc2): Linear(in_features=4096, out_features=1024, bias=True)\n",
              "          (final_layer_norm): LayerNorm((1024,), eps=1e-05, elementwise_affine=True)\n",
              "        )\n",
              "      )\n",
              "      (layernorm_embedding): LayerNorm((1024,), eps=1e-05, elementwise_affine=True)\n",
              "    )\n",
              "  )\n",
              "  (lm_head): Linear(in_features=1024, out_features=50272, bias=False)\n",
              ")"
            ]
          },
          "metadata": {},
          "execution_count": 20
        }
      ]
    },
    {
      "cell_type": "code",
      "source": [
        "rebel_tokenizer = AutoTokenizer.from_pretrained(model_path)"
      ],
      "metadata": {
        "id": "-s2FZ5d0HBmk"
      },
      "execution_count": null,
      "outputs": []
    },
    {
      "cell_type": "code",
      "source": [
        "pubmed_inference_data = pd.read_json(\"/content/research_text_pubmed_new.json\")"
      ],
      "metadata": {
        "id": "-HSKiVkXkWCi"
      },
      "execution_count": null,
      "outputs": []
    },
    {
      "cell_type": "code",
      "source": [
        "pubmed_inference_data.head()"
      ],
      "metadata": {
        "id": "ZXP0BxnEs7wr"
      },
      "execution_count": null,
      "outputs": []
    },
    {
      "cell_type": "code",
      "source": [
        "pubmed_inference_data.shape"
      ],
      "metadata": {
        "colab": {
          "base_uri": "https://localhost:8080/"
        },
        "id": "A6lYYXBJs9F5",
        "outputId": "1c2a7c23-d014-4988-98ee-6fe610ec9819"
      },
      "execution_count": null,
      "outputs": [
        {
          "output_type": "execute_result",
          "data": {
            "text/plain": [
              "(103, 473)"
            ]
          },
          "metadata": {},
          "execution_count": 25
        }
      ]
    },
    {
      "cell_type": "code",
      "source": [
        "pubmed_inference_filtered = pubmed_inference_data[['title','abstract']]"
      ],
      "metadata": {
        "id": "czK9uk-ptEcm"
      },
      "execution_count": null,
      "outputs": []
    },
    {
      "cell_type": "code",
      "source": [
        "pubmed_inference_filtered"
      ],
      "metadata": {
        "colab": {
          "base_uri": "https://localhost:8080/",
          "height": 423
        },
        "id": "NKYY9fHbtJ4U",
        "outputId": "08fad130-d553-4882-a67b-41107fb0ea62"
      },
      "execution_count": null,
      "outputs": [
        {
          "output_type": "execute_result",
          "data": {
            "text/plain": [
              "                                                 title  \\\n",
              "0    Genetic and phenotypic diversity of NHE6 mutat...   \n",
              "1    LSD1-mediated epigenetic modification is requi...   \n",
              "2    TFBSshape: a motif database for DNA shape feat...   \n",
              "3    Histone H3K27ac separates active from poised e...   \n",
              "4    Novel C12orf65mutations in patients with axona...   \n",
              "..                                                 ...   \n",
              "98   MARS: improving multiple circular sequence ali...   \n",
              "99   JACUSA: site-specific identification of RNA ed...   \n",
              "100  RIblast: an ultrafast RNA–RNA interaction pred...   \n",
              "101  TIRR regulates 53BP1 by masking its histone me...   \n",
              "102  CarbonylDB: a curated data-resource of protein...   \n",
              "\n",
              "                                              abstract  \n",
              "0                                          abstract     \n",
              "1    abstract   TAL1 is a critical transcription fa...  \n",
              "2    abstract   Transcription factor binding sites ...  \n",
              "3    abstract   Developmental programs are controll...  \n",
              "4                                          abstract     \n",
              "..                                                 ...  \n",
              "98                                         abstract     \n",
              "99                                         abstract     \n",
              "100                                        abstract     \n",
              "101                                                NaN  \n",
              "102                                        abstract     \n",
              "\n",
              "[103 rows x 2 columns]"
            ],
            "text/html": [
              "\n",
              "  <div id=\"df-5119c985-f944-49ba-9fad-1e4e66e677b4\" class=\"colab-df-container\">\n",
              "    <div>\n",
              "<style scoped>\n",
              "    .dataframe tbody tr th:only-of-type {\n",
              "        vertical-align: middle;\n",
              "    }\n",
              "\n",
              "    .dataframe tbody tr th {\n",
              "        vertical-align: top;\n",
              "    }\n",
              "\n",
              "    .dataframe thead th {\n",
              "        text-align: right;\n",
              "    }\n",
              "</style>\n",
              "<table border=\"1\" class=\"dataframe\">\n",
              "  <thead>\n",
              "    <tr style=\"text-align: right;\">\n",
              "      <th></th>\n",
              "      <th>title</th>\n",
              "      <th>abstract</th>\n",
              "    </tr>\n",
              "  </thead>\n",
              "  <tbody>\n",
              "    <tr>\n",
              "      <th>0</th>\n",
              "      <td>Genetic and phenotypic diversity of NHE6 mutat...</td>\n",
              "      <td>abstract</td>\n",
              "    </tr>\n",
              "    <tr>\n",
              "      <th>1</th>\n",
              "      <td>LSD1-mediated epigenetic modification is requi...</td>\n",
              "      <td>abstract   TAL1 is a critical transcription fa...</td>\n",
              "    </tr>\n",
              "    <tr>\n",
              "      <th>2</th>\n",
              "      <td>TFBSshape: a motif database for DNA shape feat...</td>\n",
              "      <td>abstract   Transcription factor binding sites ...</td>\n",
              "    </tr>\n",
              "    <tr>\n",
              "      <th>3</th>\n",
              "      <td>Histone H3K27ac separates active from poised e...</td>\n",
              "      <td>abstract   Developmental programs are controll...</td>\n",
              "    </tr>\n",
              "    <tr>\n",
              "      <th>4</th>\n",
              "      <td>Novel C12orf65mutations in patients with axona...</td>\n",
              "      <td>abstract</td>\n",
              "    </tr>\n",
              "    <tr>\n",
              "      <th>...</th>\n",
              "      <td>...</td>\n",
              "      <td>...</td>\n",
              "    </tr>\n",
              "    <tr>\n",
              "      <th>98</th>\n",
              "      <td>MARS: improving multiple circular sequence ali...</td>\n",
              "      <td>abstract</td>\n",
              "    </tr>\n",
              "    <tr>\n",
              "      <th>99</th>\n",
              "      <td>JACUSA: site-specific identification of RNA ed...</td>\n",
              "      <td>abstract</td>\n",
              "    </tr>\n",
              "    <tr>\n",
              "      <th>100</th>\n",
              "      <td>RIblast: an ultrafast RNA–RNA interaction pred...</td>\n",
              "      <td>abstract</td>\n",
              "    </tr>\n",
              "    <tr>\n",
              "      <th>101</th>\n",
              "      <td>TIRR regulates 53BP1 by masking its histone me...</td>\n",
              "      <td>NaN</td>\n",
              "    </tr>\n",
              "    <tr>\n",
              "      <th>102</th>\n",
              "      <td>CarbonylDB: a curated data-resource of protein...</td>\n",
              "      <td>abstract</td>\n",
              "    </tr>\n",
              "  </tbody>\n",
              "</table>\n",
              "<p>103 rows × 2 columns</p>\n",
              "</div>\n",
              "    <div class=\"colab-df-buttons\">\n",
              "\n",
              "  <div class=\"colab-df-container\">\n",
              "    <button class=\"colab-df-convert\" onclick=\"convertToInteractive('df-5119c985-f944-49ba-9fad-1e4e66e677b4')\"\n",
              "            title=\"Convert this dataframe to an interactive table.\"\n",
              "            style=\"display:none;\">\n",
              "\n",
              "  <svg xmlns=\"http://www.w3.org/2000/svg\" height=\"24px\" viewBox=\"0 -960 960 960\">\n",
              "    <path d=\"M120-120v-720h720v720H120Zm60-500h600v-160H180v160Zm220 220h160v-160H400v160Zm0 220h160v-160H400v160ZM180-400h160v-160H180v160Zm440 0h160v-160H620v160ZM180-180h160v-160H180v160Zm440 0h160v-160H620v160Z\"/>\n",
              "  </svg>\n",
              "    </button>\n",
              "\n",
              "  <style>\n",
              "    .colab-df-container {\n",
              "      display:flex;\n",
              "      gap: 12px;\n",
              "    }\n",
              "\n",
              "    .colab-df-convert {\n",
              "      background-color: #E8F0FE;\n",
              "      border: none;\n",
              "      border-radius: 50%;\n",
              "      cursor: pointer;\n",
              "      display: none;\n",
              "      fill: #1967D2;\n",
              "      height: 32px;\n",
              "      padding: 0 0 0 0;\n",
              "      width: 32px;\n",
              "    }\n",
              "\n",
              "    .colab-df-convert:hover {\n",
              "      background-color: #E2EBFA;\n",
              "      box-shadow: 0px 1px 2px rgba(60, 64, 67, 0.3), 0px 1px 3px 1px rgba(60, 64, 67, 0.15);\n",
              "      fill: #174EA6;\n",
              "    }\n",
              "\n",
              "    .colab-df-buttons div {\n",
              "      margin-bottom: 4px;\n",
              "    }\n",
              "\n",
              "    [theme=dark] .colab-df-convert {\n",
              "      background-color: #3B4455;\n",
              "      fill: #D2E3FC;\n",
              "    }\n",
              "\n",
              "    [theme=dark] .colab-df-convert:hover {\n",
              "      background-color: #434B5C;\n",
              "      box-shadow: 0px 1px 3px 1px rgba(0, 0, 0, 0.15);\n",
              "      filter: drop-shadow(0px 1px 2px rgba(0, 0, 0, 0.3));\n",
              "      fill: #FFFFFF;\n",
              "    }\n",
              "  </style>\n",
              "\n",
              "    <script>\n",
              "      const buttonEl =\n",
              "        document.querySelector('#df-5119c985-f944-49ba-9fad-1e4e66e677b4 button.colab-df-convert');\n",
              "      buttonEl.style.display =\n",
              "        google.colab.kernel.accessAllowed ? 'block' : 'none';\n",
              "\n",
              "      async function convertToInteractive(key) {\n",
              "        const element = document.querySelector('#df-5119c985-f944-49ba-9fad-1e4e66e677b4');\n",
              "        const dataTable =\n",
              "          await google.colab.kernel.invokeFunction('convertToInteractive',\n",
              "                                                    [key], {});\n",
              "        if (!dataTable) return;\n",
              "\n",
              "        const docLinkHtml = 'Like what you see? Visit the ' +\n",
              "          '<a target=\"_blank\" href=https://colab.research.google.com/notebooks/data_table.ipynb>data table notebook</a>'\n",
              "          + ' to learn more about interactive tables.';\n",
              "        element.innerHTML = '';\n",
              "        dataTable['output_type'] = 'display_data';\n",
              "        await google.colab.output.renderOutput(dataTable, element);\n",
              "        const docLink = document.createElement('div');\n",
              "        docLink.innerHTML = docLinkHtml;\n",
              "        element.appendChild(docLink);\n",
              "      }\n",
              "    </script>\n",
              "  </div>\n",
              "\n",
              "\n",
              "<div id=\"df-45b63555-80a0-44ff-916a-4a74a6da5550\">\n",
              "  <button class=\"colab-df-quickchart\" onclick=\"quickchart('df-45b63555-80a0-44ff-916a-4a74a6da5550')\"\n",
              "            title=\"Suggest charts\"\n",
              "            style=\"display:none;\">\n",
              "\n",
              "<svg xmlns=\"http://www.w3.org/2000/svg\" height=\"24px\"viewBox=\"0 0 24 24\"\n",
              "     width=\"24px\">\n",
              "    <g>\n",
              "        <path d=\"M19 3H5c-1.1 0-2 .9-2 2v14c0 1.1.9 2 2 2h14c1.1 0 2-.9 2-2V5c0-1.1-.9-2-2-2zM9 17H7v-7h2v7zm4 0h-2V7h2v10zm4 0h-2v-4h2v4z\"/>\n",
              "    </g>\n",
              "</svg>\n",
              "  </button>\n",
              "\n",
              "<style>\n",
              "  .colab-df-quickchart {\n",
              "      --bg-color: #E8F0FE;\n",
              "      --fill-color: #1967D2;\n",
              "      --hover-bg-color: #E2EBFA;\n",
              "      --hover-fill-color: #174EA6;\n",
              "      --disabled-fill-color: #AAA;\n",
              "      --disabled-bg-color: #DDD;\n",
              "  }\n",
              "\n",
              "  [theme=dark] .colab-df-quickchart {\n",
              "      --bg-color: #3B4455;\n",
              "      --fill-color: #D2E3FC;\n",
              "      --hover-bg-color: #434B5C;\n",
              "      --hover-fill-color: #FFFFFF;\n",
              "      --disabled-bg-color: #3B4455;\n",
              "      --disabled-fill-color: #666;\n",
              "  }\n",
              "\n",
              "  .colab-df-quickchart {\n",
              "    background-color: var(--bg-color);\n",
              "    border: none;\n",
              "    border-radius: 50%;\n",
              "    cursor: pointer;\n",
              "    display: none;\n",
              "    fill: var(--fill-color);\n",
              "    height: 32px;\n",
              "    padding: 0;\n",
              "    width: 32px;\n",
              "  }\n",
              "\n",
              "  .colab-df-quickchart:hover {\n",
              "    background-color: var(--hover-bg-color);\n",
              "    box-shadow: 0 1px 2px rgba(60, 64, 67, 0.3), 0 1px 3px 1px rgba(60, 64, 67, 0.15);\n",
              "    fill: var(--button-hover-fill-color);\n",
              "  }\n",
              "\n",
              "  .colab-df-quickchart-complete:disabled,\n",
              "  .colab-df-quickchart-complete:disabled:hover {\n",
              "    background-color: var(--disabled-bg-color);\n",
              "    fill: var(--disabled-fill-color);\n",
              "    box-shadow: none;\n",
              "  }\n",
              "\n",
              "  .colab-df-spinner {\n",
              "    border: 2px solid var(--fill-color);\n",
              "    border-color: transparent;\n",
              "    border-bottom-color: var(--fill-color);\n",
              "    animation:\n",
              "      spin 1s steps(1) infinite;\n",
              "  }\n",
              "\n",
              "  @keyframes spin {\n",
              "    0% {\n",
              "      border-color: transparent;\n",
              "      border-bottom-color: var(--fill-color);\n",
              "      border-left-color: var(--fill-color);\n",
              "    }\n",
              "    20% {\n",
              "      border-color: transparent;\n",
              "      border-left-color: var(--fill-color);\n",
              "      border-top-color: var(--fill-color);\n",
              "    }\n",
              "    30% {\n",
              "      border-color: transparent;\n",
              "      border-left-color: var(--fill-color);\n",
              "      border-top-color: var(--fill-color);\n",
              "      border-right-color: var(--fill-color);\n",
              "    }\n",
              "    40% {\n",
              "      border-color: transparent;\n",
              "      border-right-color: var(--fill-color);\n",
              "      border-top-color: var(--fill-color);\n",
              "    }\n",
              "    60% {\n",
              "      border-color: transparent;\n",
              "      border-right-color: var(--fill-color);\n",
              "    }\n",
              "    80% {\n",
              "      border-color: transparent;\n",
              "      border-right-color: var(--fill-color);\n",
              "      border-bottom-color: var(--fill-color);\n",
              "    }\n",
              "    90% {\n",
              "      border-color: transparent;\n",
              "      border-bottom-color: var(--fill-color);\n",
              "    }\n",
              "  }\n",
              "</style>\n",
              "\n",
              "  <script>\n",
              "    async function quickchart(key) {\n",
              "      const quickchartButtonEl =\n",
              "        document.querySelector('#' + key + ' button');\n",
              "      quickchartButtonEl.disabled = true;  // To prevent multiple clicks.\n",
              "      quickchartButtonEl.classList.add('colab-df-spinner');\n",
              "      try {\n",
              "        const charts = await google.colab.kernel.invokeFunction(\n",
              "            'suggestCharts', [key], {});\n",
              "      } catch (error) {\n",
              "        console.error('Error during call to suggestCharts:', error);\n",
              "      }\n",
              "      quickchartButtonEl.classList.remove('colab-df-spinner');\n",
              "      quickchartButtonEl.classList.add('colab-df-quickchart-complete');\n",
              "    }\n",
              "    (() => {\n",
              "      let quickchartButtonEl =\n",
              "        document.querySelector('#df-45b63555-80a0-44ff-916a-4a74a6da5550 button');\n",
              "      quickchartButtonEl.style.display =\n",
              "        google.colab.kernel.accessAllowed ? 'block' : 'none';\n",
              "    })();\n",
              "  </script>\n",
              "</div>\n",
              "\n",
              "  <div id=\"id_3848a2b2-b85c-47f2-acb0-02efc59e5a4e\">\n",
              "    <style>\n",
              "      .colab-df-generate {\n",
              "        background-color: #E8F0FE;\n",
              "        border: none;\n",
              "        border-radius: 50%;\n",
              "        cursor: pointer;\n",
              "        display: none;\n",
              "        fill: #1967D2;\n",
              "        height: 32px;\n",
              "        padding: 0 0 0 0;\n",
              "        width: 32px;\n",
              "      }\n",
              "\n",
              "      .colab-df-generate:hover {\n",
              "        background-color: #E2EBFA;\n",
              "        box-shadow: 0px 1px 2px rgba(60, 64, 67, 0.3), 0px 1px 3px 1px rgba(60, 64, 67, 0.15);\n",
              "        fill: #174EA6;\n",
              "      }\n",
              "\n",
              "      [theme=dark] .colab-df-generate {\n",
              "        background-color: #3B4455;\n",
              "        fill: #D2E3FC;\n",
              "      }\n",
              "\n",
              "      [theme=dark] .colab-df-generate:hover {\n",
              "        background-color: #434B5C;\n",
              "        box-shadow: 0px 1px 3px 1px rgba(0, 0, 0, 0.15);\n",
              "        filter: drop-shadow(0px 1px 2px rgba(0, 0, 0, 0.3));\n",
              "        fill: #FFFFFF;\n",
              "      }\n",
              "    </style>\n",
              "    <button class=\"colab-df-generate\" onclick=\"generateWithVariable('pubmed_inference_filtered')\"\n",
              "            title=\"Generate code using this dataframe.\"\n",
              "            style=\"display:none;\">\n",
              "\n",
              "  <svg xmlns=\"http://www.w3.org/2000/svg\" height=\"24px\"viewBox=\"0 0 24 24\"\n",
              "       width=\"24px\">\n",
              "    <path d=\"M7,19H8.4L18.45,9,17,7.55,7,17.6ZM5,21V16.75L18.45,3.32a2,2,0,0,1,2.83,0l1.4,1.43a1.91,1.91,0,0,1,.58,1.4,1.91,1.91,0,0,1-.58,1.4L9.25,21ZM18.45,9,17,7.55Zm-12,3A5.31,5.31,0,0,0,4.9,8.1,5.31,5.31,0,0,0,1,6.5,5.31,5.31,0,0,0,4.9,4.9,5.31,5.31,0,0,0,6.5,1,5.31,5.31,0,0,0,8.1,4.9,5.31,5.31,0,0,0,12,6.5,5.46,5.46,0,0,0,6.5,12Z\"/>\n",
              "  </svg>\n",
              "    </button>\n",
              "    <script>\n",
              "      (() => {\n",
              "      const buttonEl =\n",
              "        document.querySelector('#id_3848a2b2-b85c-47f2-acb0-02efc59e5a4e button.colab-df-generate');\n",
              "      buttonEl.style.display =\n",
              "        google.colab.kernel.accessAllowed ? 'block' : 'none';\n",
              "\n",
              "      buttonEl.onclick = () => {\n",
              "        google.colab.notebook.generateWithVariable('pubmed_inference_filtered');\n",
              "      }\n",
              "      })();\n",
              "    </script>\n",
              "  </div>\n",
              "\n",
              "    </div>\n",
              "  </div>\n"
            ],
            "application/vnd.google.colaboratory.intrinsic+json": {
              "type": "dataframe",
              "variable_name": "pubmed_inference_filtered",
              "summary": "{\n  \"name\": \"pubmed_inference_filtered\",\n  \"rows\": 103,\n  \"fields\": [\n    {\n      \"column\": \"title\",\n      \"properties\": {\n        \"dtype\": \"string\",\n        \"num_unique_values\": 103,\n        \"samples\": [\n          \"Drosophila Ctf4 is essential for efficient DNA replication and normal cell cycle progression\",\n          \"Topologically associating domains are stable units of replication-timing regulation\",\n          \"Aramchol downregulates stearoyl CoA-desaturase 1 in hepatic stellate cells to attenuate cellular fibrogenesis\"\n        ],\n        \"semantic_type\": \"\",\n        \"description\": \"\"\n      }\n    },\n    {\n      \"column\": \"abstract\",\n      \"properties\": {\n        \"dtype\": \"string\",\n        \"num_unique_values\": 64,\n        \"samples\": [\n          \"abstract   Long noncoding RNAs (lncRNAs) are emerging as regulators of gene expression in pathogenesis, including cancer. Recently, lncRNAs have been implicated in progression of specific subtypes of breast cancer. One aggressive, basal\\u2010like subtype associates with increased EGFR signaling, while another, the HER2\\u2010enriched subtype, engages a kin of EGFR. Based on the premise that EGFR\\u2010regulated lncRNAs might control the aggressiveness of basal\\u2010like tumors, we identified multiple EGFR\\u2010inducible lncRNAs in basal\\u2010like normal cells and overlaid them with the transcriptomes of over 3,000 breast cancer patients. This led to the identification of 11 prognostic lncRNAs. Functional analyses of this group uncovered LINC01089 (here renamed LncRNA Inhibiting Metastasis; LIMT), a highly conserved lncRNA, which is depleted in basal\\u2010like and in HER2\\u2010positive tumors, and the low expression of which predicts poor patient prognosis. Interestingly, EGF rapidly downregulates LIMT expression by enhancing histone deacetylation at the respective promoter. We also find that LIMT inhibits extracellular matrix invasion of mammary cellsin\\u00a0vitroand tumor metastasisin\\u00a0vivo. In conclusion, lncRNAs dynamically regulated by growth factors might act as novel drivers of cancer progression and serve as prognostic biomarkers.\",\n          \"abstract   Hepadnaviral covalently closed circular DNA (cccDNA) exists as an episomal minichromosome in the nucleus of virus-infected hepatocytes, and serves as the transcriptional template for the synthesis of viral mRNAs. To obtain insight on the structure of hepadnaviral cccDNA minichromosomes, we utilized ducks infected with the duck hepatitis B virus (DHBV) as a model and determined thein vivonucleosome distribution pattern on viral cccDNA by the micrococcal nuclease (MNase) mapping and genome-wide PCR amplification of isolated mononucleosomal DHBV DNA. Several nucleosome-protected sites in a region of the DHBV genome [nucleotides (nt) 2000 to 2700], known to harbor variouscistranscription regulatory elements, were consistently identified in all DHBV-positive liver samples. In addition, we observed other nucleosome protection sites in DHBV minichromosomes that may vary among individual ducks, but the pattern of MNase mapping in those regions is transmittable from the adult ducks to the newly infected ducklings. These results imply that the nucleosomes along viral cccDNA in the minichromosomes are not random but sequence-specifically positioned. Furthermore, we showed in ducklings that a significant portion of cccDNA possesses a few negative superhelical turns, suggesting the presence of intermediates of viral minichromosomes assembled in the liver, where dynamic hepatocyte growth and cccDNA formation occur. This study supplies the initial framework for the understanding of the overall complete structure of hepadnaviral cccDNA minichromosomes.\",\n          \"abstract   \"\n        ],\n        \"semantic_type\": \"\",\n        \"description\": \"\"\n      }\n    }\n  ]\n}"
            }
          },
          "metadata": {},
          "execution_count": 27
        }
      ]
    },
    {
      "cell_type": "code",
      "execution_count": null,
      "metadata": {
        "id": "GsEh-RVWydru"
      },
      "outputs": [],
      "source": [
        "def preprocess_text(text: str):\n",
        "  '''\n",
        "  The aim of this function is to preprocess text by converting it to lowercase, and punctuations.\n",
        "\n",
        "  This is not required.\n",
        "  '''\n",
        "  text = text.lower()\n",
        "  text = re.sub(r\",\\s?\",' ', text)\n",
        "  text = re.sub(r'\\.\\s*', ' ', text)\n",
        "  return text"
      ]
    },
    {
      "cell_type": "code",
      "execution_count": null,
      "metadata": {
        "id": "3xkDmoz9mqQT"
      },
      "outputs": [],
      "source": [
        "def filter_text(text:str):\n",
        "    try:\n",
        "        if type(text) != str:\n",
        "            return ''\n",
        "        else:\n",
        "            if 'abstract' not in text:\n",
        "                return text\n",
        "            else:\n",
        "                text = text.replace('abstract ', '')\n",
        "                return text\n",
        "    except:\n",
        "        print(f'Error text: {text}...{type(text)}')"
      ]
    },
    {
      "cell_type": "code",
      "execution_count": null,
      "metadata": {
        "id": "V8KWoR9xnJ_x",
        "colab": {
          "base_uri": "https://localhost:8080/"
        },
        "outputId": "31fd7714-4389-41b5-d8a0-b7351c0baa88"
      },
      "outputs": [
        {
          "output_type": "stream",
          "name": "stderr",
          "text": [
            "<ipython-input-31-3f59f4ba2418>:1: SettingWithCopyWarning: \n",
            "A value is trying to be set on a copy of a slice from a DataFrame.\n",
            "Try using .loc[row_indexer,col_indexer] = value instead\n",
            "\n",
            "See the caveats in the documentation: https://pandas.pydata.org/pandas-docs/stable/user_guide/indexing.html#returning-a-view-versus-a-copy\n",
            "  pubmed_inference_filtered['abstract_updated'] = pubmed_inference_filtered['abstract'].apply(lambda row: filter_text(row))\n"
          ]
        }
      ],
      "source": [
        "pubmed_inference_filtered['abstract_updated'] = pubmed_inference_filtered['abstract'].apply(lambda row: filter_text(row))"
      ]
    },
    {
      "cell_type": "code",
      "execution_count": null,
      "metadata": {
        "id": "njPGdcffXFTJ"
      },
      "outputs": [],
      "source": [
        "#pubmed_inference_filtered['abstract_updated'] = pubmed_inference_filtered['abstract_updated'].apply(lambda row: preprocess_text(row))"
      ]
    },
    {
      "cell_type": "code",
      "source": [
        "pubmed_inference_filtered['abstract_updated'] = pubmed_inference_filtered['abstract_updated'].str.strip()"
      ],
      "metadata": {
        "id": "57E-mioZtw4k"
      },
      "execution_count": null,
      "outputs": []
    },
    {
      "cell_type": "code",
      "source": [
        "pubmed_inference_filtered['input'] = pubmed_inference_filtered['title']+\" \"+pubmed_inference_filtered['abstract_updated']"
      ],
      "metadata": {
        "id": "slV1WkgRuNeS"
      },
      "execution_count": null,
      "outputs": []
    },
    {
      "cell_type": "code",
      "source": [
        "from spacy.tokens import Doc, Span\n",
        "from fastcoref import FCoref"
      ],
      "metadata": {
        "id": "IE28DFEuw8Fh"
      },
      "execution_count": null,
      "outputs": []
    },
    {
      "cell_type": "code",
      "source": [
        "#nlp = spacy.load('en_core_web_sm')\n",
        "nlp_scispacy = spacy.load('en_core_sci_md')"
      ],
      "metadata": {
        "id": "Lw39edgW6HVz"
      },
      "execution_count": null,
      "outputs": []
    },
    {
      "cell_type": "code",
      "source": [
        "fcoref_model = FCoref(device=device)"
      ],
      "metadata": {
        "id": "sHDduqo16HVz",
        "colab": {
          "base_uri": "https://localhost:8080/",
          "height": 400,
          "referenced_widgets": [
            "e70369c20e234db89d689cffe041f0a0",
            "dd48b2fd8d454382ab9265d877ab46f2",
            "03e88a83f8524f81b7a1c8c861bd4bda",
            "34783c6caaec4b8aa8b3d593d17acd3e",
            "82eac9f4076d4315af4a3fb0d91dd964",
            "8d9364e77cea421e8dcb593f35cd4c33",
            "5c39dface15f4d4997d9c3b31c007317",
            "4c5e36df968847ae954cd2c78d36eb51",
            "7d10fa9e3b1e475ba75b6fe71ff690b1",
            "667fa9f238df4ea99ea313ce7e1502f0",
            "a4163cb68f7745c2a78685cea7dd553b",
            "dcd4e1809a974cd3885182ed662acba2",
            "d47a3d5ed1ab41e4b303e3fe6e4d171d",
            "35172f54aaec4db3868f0e9814aaef37",
            "a3fc6f48aa704b169b9bfabab29337ce",
            "074c5d5bc4fc4392b7f04ba6259ca945",
            "8faa46b5ce4d44b485942726494e8574",
            "bcfb44e9dd884d9da684efb59e90da74",
            "17b2d4ed10a24e059632177aab99a131",
            "ea675cdc27c94da3b4bfefd0e27fdec8",
            "c71f4bc2e3e04d90b3163eed51d00aee",
            "9b7f31b9016246e885c9cc6b192e7c9b",
            "1d9829ee81914aa18a21b3d41a0946ef",
            "03a73a278ddd414dbd9303199980df33",
            "243d7dbd7e9d4a3bad42e0c8fb2f0c05",
            "4db46cc9d6de4d32b0284b9f80cdeebf",
            "6637927afa7c435ea780e5db8305ea71",
            "69e0f2da64a043a980c65b8c32461390",
            "52e6d2770aad43c09cfc1b9dce7f7678",
            "acedaae9ec844c7792e949623c0895ac",
            "9ced533e44af4274bcb3a32a3d3c4807",
            "31110f637aa949afb9a2f3f6c57659ac",
            "26bbc17621f94d36a0c0230617afd7cd",
            "39afc6cba7334315aaa755339ac48d65",
            "ce83f3a10fd04838af005705642525e0",
            "4f483615ce61442daf8160d21ed7e1b8",
            "953016b0202b4ac5b5f22d527664b816",
            "43dc123a1c684e50bd2001ddbddba85f",
            "34cfc8aa6504404988d89001fb99493b",
            "5106b67b29ff4ff5a9d059bd59a7a211",
            "dd67ceebb3f646d7b687b2a29cf4fe1c",
            "39566b9586034d8e82315e5cb91752f4",
            "2a02f05fb26348e69288205500975af3",
            "cbfafcd3351148abbbf7cd296e978949",
            "48faaf67784e48ba99992d7f27458038",
            "97051258460241b8a6a5bfa7c8dde1d8",
            "865540c2c7a9435ab0a007a747517f29",
            "a80dca3724d1410698489d42f973a663",
            "19950f33eb614d94b1009719dc583fd8",
            "33b1a558628e40e7bdbc12c89b195ef3",
            "3e6fcacfa83845d48a463045dac39d5b",
            "e00d81391e71413181c1346eddb36b88",
            "b2d1b3f6280945c99a828c73fcf42d3c",
            "ed783ab8385f4a4cac986d9c0513cd1d",
            "1a0c802dadb64a4fac52e52850f7dd69",
            "7bfb3c0bcb7845a8abf87498c4ba05e9",
            "786bb2a18db4436f9a0fe45d87c6a3ca",
            "e8a3b7dc44b044e9bce7a58a9505688a",
            "8fb159ad19c844bf9931d5052c2f2417",
            "bbff96595c5a4c63a30a7e62966c13dd",
            "91c1cc9cbb37438a8b90394f96063832",
            "928123d454b74c7db0e10dc138c9f941",
            "4b5aa97b4f284234afad0b6fd4bc0b4c",
            "128be60f86fe4c8091d2899233cf9385",
            "a1cc45f72a30477ab5c3df6291e5f17c",
            "b5853da605e04f9e8cb9a733d89af339",
            "f13d96e5a33a405ea76281e2719604d7",
            "05b46caac1d04feeb95141b776ff3252",
            "6374b19ff00643798a41af827de1bd81",
            "bbd5c25aa97e4b7087eff6a10575eaeb",
            "b0abc178ed634a258debd4e1be513796",
            "804aabe0bab54d599d88a90eaeb0bd48",
            "72d3cebf6b3848758099589c93a6ff1b",
            "1eb15955e54e434db039bccd83f3fb8a",
            "69c982cb01924a6a8913e0143f398d95",
            "c9c5245b3e93465aa24bb699d9813945",
            "0c7f7800d0d14750bed72419b8a2cb89"
          ]
        },
        "outputId": "4beecee2-cdfa-4b44-d0c2-a67dd95be7bc",
        "collapsed": true
      },
      "execution_count": null,
      "outputs": [
        {
          "output_type": "stream",
          "name": "stderr",
          "text": [
            "/usr/local/lib/python3.10/dist-packages/huggingface_hub/utils/_auth.py:94: UserWarning: \n",
            "The secret `HF_TOKEN` does not exist in your Colab secrets.\n",
            "To authenticate with the Hugging Face Hub, create a token in your settings tab (https://huggingface.co/settings/tokens), set it as secret in your Google Colab and restart your session.\n",
            "You will be able to reuse this secret in all of your notebooks.\n",
            "Please note that authentication is recommended but still optional to access public models or datasets.\n",
            "  warnings.warn(\n"
          ]
        },
        {
          "output_type": "display_data",
          "data": {
            "text/plain": [
              "config.json:   0%|          | 0.00/819 [00:00<?, ?B/s]"
            ],
            "application/vnd.jupyter.widget-view+json": {
              "version_major": 2,
              "version_minor": 0,
              "model_id": "e70369c20e234db89d689cffe041f0a0"
            }
          },
          "metadata": {}
        },
        {
          "output_type": "display_data",
          "data": {
            "text/plain": [
              "tokenizer_config.json:   0%|          | 0.00/393 [00:00<?, ?B/s]"
            ],
            "application/vnd.jupyter.widget-view+json": {
              "version_major": 2,
              "version_minor": 0,
              "model_id": "dcd4e1809a974cd3885182ed662acba2"
            }
          },
          "metadata": {}
        },
        {
          "output_type": "display_data",
          "data": {
            "text/plain": [
              "vocab.json:   0%|          | 0.00/798k [00:00<?, ?B/s]"
            ],
            "application/vnd.jupyter.widget-view+json": {
              "version_major": 2,
              "version_minor": 0,
              "model_id": "1d9829ee81914aa18a21b3d41a0946ef"
            }
          },
          "metadata": {}
        },
        {
          "output_type": "display_data",
          "data": {
            "text/plain": [
              "merges.txt:   0%|          | 0.00/456k [00:00<?, ?B/s]"
            ],
            "application/vnd.jupyter.widget-view+json": {
              "version_major": 2,
              "version_minor": 0,
              "model_id": "39afc6cba7334315aaa755339ac48d65"
            }
          },
          "metadata": {}
        },
        {
          "output_type": "display_data",
          "data": {
            "text/plain": [
              "tokenizer.json:   0%|          | 0.00/1.36M [00:00<?, ?B/s]"
            ],
            "application/vnd.jupyter.widget-view+json": {
              "version_major": 2,
              "version_minor": 0,
              "model_id": "48faaf67784e48ba99992d7f27458038"
            }
          },
          "metadata": {}
        },
        {
          "output_type": "display_data",
          "data": {
            "text/plain": [
              "special_tokens_map.json:   0%|          | 0.00/239 [00:00<?, ?B/s]"
            ],
            "application/vnd.jupyter.widget-view+json": {
              "version_major": 2,
              "version_minor": 0,
              "model_id": "7bfb3c0bcb7845a8abf87498c4ba05e9"
            }
          },
          "metadata": {}
        },
        {
          "output_type": "stream",
          "name": "stderr",
          "text": [
            "/usr/local/lib/python3.10/dist-packages/spacy/util.py:1740: UserWarning: [W111] Jupyter notebook detected: if using `prefer_gpu()` or `require_gpu()`, include it in the same cell right before `spacy.load()` to ensure that the model is loaded on the correct device. More information: http://spacy.io/usage/v3#jupyter-notebook-gpu\n",
            "  warnings.warn(Warnings.W111)\n"
          ]
        },
        {
          "output_type": "display_data",
          "data": {
            "text/plain": [
              "pytorch_model.bin:   0%|          | 0.00/362M [00:00<?, ?B/s]"
            ],
            "application/vnd.jupyter.widget-view+json": {
              "version_major": 2,
              "version_minor": 0,
              "model_id": "f13d96e5a33a405ea76281e2719604d7"
            }
          },
          "metadata": {}
        }
      ]
    },
    {
      "cell_type": "code",
      "source": [
        "def core_logic_part(document: Doc, coref: list[int], resolved: list[str], mention_span: Span):\n",
        "    final_token = document[coref[1]]\n",
        "    if final_token.tag_ in [\"PRP$\", \"POS\"]:\n",
        "        resolved[coref[0]] = mention_span.text + \"'s\" + final_token.whitespace_\n",
        "    else:\n",
        "        resolved[coref[0]] = mention_span.text + final_token.whitespace_\n",
        "    for i in range(coref[0] + 1, coref[1] + 1):\n",
        "        resolved[i] = \"\"\n",
        "    return resolved"
      ],
      "metadata": {
        "id": "jiD9P6040oho"
      },
      "execution_count": null,
      "outputs": []
    },
    {
      "cell_type": "code",
      "source": [
        "def get_span_noun_indices(doc: Doc, cluster: list[list[int]]) -> list[int]:\n",
        "    try:\n",
        "      spans = [doc[span[0]:span[1]+1] for span in cluster]\n",
        "      spans_pos = [[token.pos_ for token in span] for span in spans]\n",
        "      span_noun_indices = [i for i, span_pos in enumerate(spans_pos)\n",
        "          if any(pos in span_pos for pos in ['NOUN', 'PROPN'])]\n",
        "      return span_noun_indices\n",
        "    except Exception as e:\n",
        "      print(f'Error received while getting span noun indices. {e}. Returning empty list')\n",
        "      return []"
      ],
      "metadata": {
        "id": "CD7ExESjxqE6"
      },
      "execution_count": null,
      "outputs": []
    },
    {
      "cell_type": "code",
      "source": [
        "def get_cluster_head(doc: Doc, cluster: list[list[int]], noun_indices: list[int]):\n",
        "    head_idx = noun_indices[0]\n",
        "    head_start, head_end = cluster[head_idx]\n",
        "    head_span = doc[head_start:head_end+1]\n",
        "    return head_span, [head_start, head_end]"
      ],
      "metadata": {
        "id": "jMp5c4fHxuOE"
      },
      "execution_count": null,
      "outputs": []
    },
    {
      "cell_type": "code",
      "source": [
        "def is_containing_other_spans(span: list[int], all_spans: list[list[int]]):\n",
        "    return any([s[0] >= span[0] and s[1] <= span[1] and s != span for s in all_spans])"
      ],
      "metadata": {
        "id": "1xfsUDpQxt-o"
      },
      "execution_count": null,
      "outputs": []
    },
    {
      "cell_type": "code",
      "source": [
        "def improved_replace_corefs(document, clusters):\n",
        "    resolved = list(tok.text_with_ws for tok in document)\n",
        "    all_spans = [span for cluster in clusters for span in cluster]  # flattened list of all spans\n",
        "\n",
        "    for cluster in clusters:\n",
        "        noun_indices = get_span_noun_indices(document, cluster)\n",
        "\n",
        "        if noun_indices:\n",
        "            mention_span, mention = get_cluster_head(document, cluster, noun_indices)\n",
        "\n",
        "            for coref in cluster:\n",
        "                if coref != mention and not is_containing_other_spans(coref, all_spans):\n",
        "                    core_logic_part(document, coref, resolved, mention_span)\n",
        "\n",
        "    return \"\".join(resolved)"
      ],
      "metadata": {
        "id": "8w_NWWTzxt2l"
      },
      "execution_count": null,
      "outputs": []
    },
    {
      "cell_type": "code",
      "source": [
        "def get_fast_cluster_spans(doc, clusters):\n",
        "    fast_clusters = []\n",
        "    for cluster in clusters:\n",
        "        new_group = []\n",
        "        for tuple in cluster:\n",
        "            #print(type(tuple), tuple)\n",
        "            (start, end) = tuple\n",
        "            #print(\"start, end\", start, end)\n",
        "            span = doc.char_span(start, end)\n",
        "            #print('span', span.start, span.end)\n",
        "            new_group.append([span.start, span.end-1])\n",
        "        fast_clusters.append(new_group)\n",
        "    return fast_clusters"
      ],
      "metadata": {
        "id": "Dl-xExsXzr5b"
      },
      "execution_count": null,
      "outputs": []
    },
    {
      "cell_type": "code",
      "source": [
        "def get_fastcoref_clusters(doc, text, fcoref_model):\n",
        "  try:\n",
        "    preds = fcoref_model.predict(texts=[text])\n",
        "    fast_clusters = preds[0].get_clusters(as_strings=False)\n",
        "    fast_cluster_spans = get_fast_cluster_spans(doc, fast_clusters)\n",
        "  except Exception as e:\n",
        "    print(f'Error received while getting coreference clusters. {e}. Returning original text')\n",
        "    return text\n",
        "  return fast_cluster_spans"
      ],
      "metadata": {
        "id": "jI6GwJ4izrm3"
      },
      "execution_count": null,
      "outputs": []
    },
    {
      "cell_type": "code",
      "source": [
        "def perform_coreference_resolution(text):\n",
        "    doc = nlp_scispacy(text)\n",
        "    clusters = get_fastcoref_clusters(doc, text, fcoref_model)\n",
        "    coref_text = improved_replace_corefs(doc, clusters)\n",
        "    return coref_text"
      ],
      "metadata": {
        "id": "8QP_CENgubnr"
      },
      "execution_count": null,
      "outputs": []
    },
    {
      "cell_type": "code",
      "source": [
        "pubmed_inference_filtered['input_coref'] = pubmed_inference_filtered['input'].apply(perform_coreference_resolution)"
      ],
      "metadata": {
        "collapsed": true,
        "id": "G2OVV4ykxOrx"
      },
      "execution_count": null,
      "outputs": []
    },
    {
      "cell_type": "markdown",
      "source": [
        "def preprocess_test_data(examples):\n",
        "    model_inputs = rebel_tokenizer(\n",
        "        examples[\"input_coref\"],  # Source text\n",
        "        max_length=512,\n",
        "        truncation=True,\n",
        "        padding=\"max_length\"\n",
        "    )\n",
        "    return model_inputs"
      ],
      "metadata": {
        "id": "GZ53r5iqy9LI"
      }
    },
    {
      "cell_type": "code",
      "source": [
        "pubmed_inference_filtered['input_coref']"
      ],
      "metadata": {
        "colab": {
          "base_uri": "https://localhost:8080/",
          "height": 458
        },
        "id": "DQqjY9yR0gWY",
        "outputId": "e0ed176a-9602-492f-ca72-02f1fb48bc99"
      },
      "execution_count": null,
      "outputs": [
        {
          "output_type": "execute_result",
          "data": {
            "text/plain": [
              "0      Genetic and phenotypic diversity of NHE6 mutat...\n",
              "1      LSD1-mediated epigenetic modification is requi...\n",
              "2      TFBSshape: a motif database for DNA shape feat...\n",
              "3      Histone H3K27ac separates active from poised e...\n",
              "4      Novel C12orf65mutations in patients with axona...\n",
              "                             ...                        \n",
              "98     MARS: improving multiple circular sequence ali...\n",
              "99     JACUSA: site-specific identification of RNA ed...\n",
              "100    RIblast: an ultrafast RNA–RNA interaction pred...\n",
              "101    TIRR regulates 53BP1 by masking 53BP1's histon...\n",
              "102    CarbonylDB: a curated data-resource of protein...\n",
              "Name: input_coref, Length: 103, dtype: object"
            ],
            "text/html": [
              "<div>\n",
              "<style scoped>\n",
              "    .dataframe tbody tr th:only-of-type {\n",
              "        vertical-align: middle;\n",
              "    }\n",
              "\n",
              "    .dataframe tbody tr th {\n",
              "        vertical-align: top;\n",
              "    }\n",
              "\n",
              "    .dataframe thead th {\n",
              "        text-align: right;\n",
              "    }\n",
              "</style>\n",
              "<table border=\"1\" class=\"dataframe\">\n",
              "  <thead>\n",
              "    <tr style=\"text-align: right;\">\n",
              "      <th></th>\n",
              "      <th>input_coref</th>\n",
              "    </tr>\n",
              "  </thead>\n",
              "  <tbody>\n",
              "    <tr>\n",
              "      <th>0</th>\n",
              "      <td>Genetic and phenotypic diversity of NHE6 mutat...</td>\n",
              "    </tr>\n",
              "    <tr>\n",
              "      <th>1</th>\n",
              "      <td>LSD1-mediated epigenetic modification is requi...</td>\n",
              "    </tr>\n",
              "    <tr>\n",
              "      <th>2</th>\n",
              "      <td>TFBSshape: a motif database for DNA shape feat...</td>\n",
              "    </tr>\n",
              "    <tr>\n",
              "      <th>3</th>\n",
              "      <td>Histone H3K27ac separates active from poised e...</td>\n",
              "    </tr>\n",
              "    <tr>\n",
              "      <th>4</th>\n",
              "      <td>Novel C12orf65mutations in patients with axona...</td>\n",
              "    </tr>\n",
              "    <tr>\n",
              "      <th>...</th>\n",
              "      <td>...</td>\n",
              "    </tr>\n",
              "    <tr>\n",
              "      <th>98</th>\n",
              "      <td>MARS: improving multiple circular sequence ali...</td>\n",
              "    </tr>\n",
              "    <tr>\n",
              "      <th>99</th>\n",
              "      <td>JACUSA: site-specific identification of RNA ed...</td>\n",
              "    </tr>\n",
              "    <tr>\n",
              "      <th>100</th>\n",
              "      <td>RIblast: an ultrafast RNA–RNA interaction pred...</td>\n",
              "    </tr>\n",
              "    <tr>\n",
              "      <th>101</th>\n",
              "      <td>TIRR regulates 53BP1 by masking 53BP1's histon...</td>\n",
              "    </tr>\n",
              "    <tr>\n",
              "      <th>102</th>\n",
              "      <td>CarbonylDB: a curated data-resource of protein...</td>\n",
              "    </tr>\n",
              "  </tbody>\n",
              "</table>\n",
              "<p>103 rows × 1 columns</p>\n",
              "</div><br><label><b>dtype:</b> object</label>"
            ]
          },
          "metadata": {},
          "execution_count": 46
        }
      ]
    },
    {
      "cell_type": "code",
      "source": [
        "pubmed_inference_filtered.to_csv('pubmed_inderence_filtered.csv')"
      ],
      "metadata": {
        "id": "qW8tc7E9EPhZ"
      },
      "execution_count": null,
      "outputs": []
    },
    {
      "cell_type": "code",
      "source": [
        "def extract_triplets(decoded_string):\n",
        "    decoded_str_copy = decoded_string\n",
        "    if '<s>' in decoded_string:\n",
        "      decoded_str_copy = ''.join(decoded_string.split('<s>')[1:])\n",
        "      decoded_str_copy = decoded_str_copy.split('</s>')[0]\n",
        "\n",
        "    triplets = []\n",
        "    parts = decoded_str_copy.split(\"<triplet>\")\n",
        "\n",
        "    for part in parts[1:]:  # Skip the first empty split\n",
        "        # Extract the head entity (the first part before <subj>)\n",
        "        head, *relations = part.split(\"<subj>\")\n",
        "        head = head.strip()\n",
        "\n",
        "        # Parse each <subj> and <obj> pair\n",
        "        for relation in relations:\n",
        "            if \"<obj>\" in relation:\n",
        "                subj, obj = relation.split(\"<obj>\", 1)\n",
        "                triplets.append((head, subj.strip(), obj.strip()))\n",
        "\n",
        "    return triplets"
      ],
      "metadata": {
        "id": "DAmuk6SqxYwt"
      },
      "execution_count": null,
      "outputs": []
    },
    {
      "cell_type": "code",
      "source": [
        "def perform_inference(text):\n",
        "  extracted_triplets = []\n",
        "  for sentence in text.split('. '):\n",
        "    inputs = rebel_tokenizer(sentence, return_tensors=\"pt\", truncation=True, max_length=512).to(device)\n",
        "    outputs = rebel_model.generate(**inputs)\n",
        "    decoded_output = rebel_tokenizer.decode(outputs[0], skip_special_tokens=False)\n",
        "    triplets = list(set(extract_triplets(decoded_output)))\n",
        "    if len(triplets)==0:\n",
        "      continue\n",
        "    else:\n",
        "      extracted_triplets.extend(triplets)\n",
        "\n",
        "  return extracted_triplets"
      ],
      "metadata": {
        "id": "VHYPqGMV0-gR"
      },
      "execution_count": null,
      "outputs": []
    },
    {
      "cell_type": "code",
      "source": [
        "pubmed_inference_filtered['triplets'] = pubmed_inference_filtered['input_coref'].apply(perform_inference)"
      ],
      "metadata": {
        "colab": {
          "base_uri": "https://localhost:8080/"
        },
        "id": "NstgPsISGID4",
        "outputId": "7d7ee530-f637-4b55-c0b5-5ebdec9cac0f"
      },
      "execution_count": null,
      "outputs": [
        {
          "output_type": "stream",
          "name": "stderr",
          "text": [
            "<ipython-input-68-620b74cd144d>:1: SettingWithCopyWarning: \n",
            "A value is trying to be set on a copy of a slice from a DataFrame.\n",
            "Try using .loc[row_indexer,col_indexer] = value instead\n",
            "\n",
            "See the caveats in the documentation: https://pandas.pydata.org/pandas-docs/stable/user_guide/indexing.html#returning-a-view-versus-a-copy\n",
            "  pubmed_inference_filtered['triplets'] = pubmed_inference_filtered['input_coref'].apply(perform_inference)\n"
          ]
        }
      ]
    },
    {
      "cell_type": "code",
      "source": [
        "pubmed_inference_filtered.to_csv('pubmed_inference_filtered_with_triplets.csv')"
      ],
      "metadata": {
        "id": "DjRACwEMGH1c"
      },
      "execution_count": null,
      "outputs": []
    },
    {
      "cell_type": "code",
      "source": [
        "aggregated_triplets = list(set().union(*pubmed_inference_filtered['triplets']))"
      ],
      "metadata": {
        "id": "kmULvvQ8MLFM"
      },
      "execution_count": null,
      "outputs": []
    },
    {
      "cell_type": "code",
      "source": [
        "aggregated_triplets"
      ],
      "metadata": {
        "colab": {
          "base_uri": "https://localhost:8080/"
        },
        "collapsed": true,
        "id": "kr0NDUMrMK9D",
        "outputId": "4055bac9-b7a2-4f35-c69d-9eb96c03e679"
      },
      "execution_count": null,
      "outputs": [
        {
          "output_type": "execute_result",
          "data": {
            "text/plain": [
              "[('p53', 'MDM2', 'Association'),\n",
              " ('RNA polymerase II', '5S ribosomal RNA', 'Association'),\n",
              " ('LSD1', 'p4.2 promoter', 'Positive_Correlation'),\n",
              " ('Preeclampsia', 'hyperinflammatory', 'Association'),\n",
              " ('DNA damage', 'H2A', 'Positive_Correlation'),\n",
              " ('Ezh2', 'H3K27 methyltransferase', 'Association'),\n",
              " ('p53', 'cancer', 'Positive_Correlation'),\n",
              " ('TMPDB', 'web site', 'instance of'),\n",
              " ('FRDA', 'Friedreich’s PsyNetataxia', 'Association'),\n",
              " ('erythropoiesis', 'GATA-1', 'Association'),\n",
              " ('Gfi-1b', 'hematopoietic factor', 'subclass of'),\n",
              " ('Ebola Virus Infection', 'ZMapp', 'Positive_Correlation'),\n",
              " ('GATA-1', 'hematopoietic factor', 'subclass of'),\n",
              " ('Pta1 Scaffold Protein', 'Pta1 Scaffold Protein', 'Association'),\n",
              " ('pineal region', 'spinal cord', 'connects with'),\n",
              " ('5S ribosomal RNA', 'RNA polymerase II', 'Association'),\n",
              " ('cell cycle progression', 'DNA replication', 'Positive_Correlation'),\n",
              " ('TAL1', 'LSD1', 'Positive_Correlation'),\n",
              " ('Eco1', 'sister chromatid cohesion', 'Association'),\n",
              " ('hyperinflammatory', 'Preeclampsia', 'Association'),\n",
              " ('CGRP', 'galcanezumab', 'Positive_Correlation'),\n",
              " ('K27M-H3', 'HIST1H3B', 'Positive_Correlation'),\n",
              " ('HCNEs', 'noncoding element', 'subclass of'),\n",
              " ('galcanezumab', 'CGRP', 'Positive_Correlation'),\n",
              " ('hSET1', 'TAL1', 'Association'),\n",
              " ('H3K4 methylation', 'H3K4 methylation', 'Positive_Correlation'),\n",
              " ('TMPDB', 'TMPDB', 'field of work'),\n",
              " ('GATA-1', 'Gfi-1b', 'Positive_Correlation'),\n",
              " ('Hst 5', 'Histatin 5', 'instance of'),\n",
              " ('thermosensitive growth', 'thermosensitive growth', 'Positive_Cor'),\n",
              " ('LSD1', 'thymidine kniase minimal promoter', 'Positive_Correlation'),\n",
              " ('HCNEs', 'GRBs', 'Association'),\n",
              " ('IDH1/2', 'G34V/R-H3', 'Positive_Correlation'),\n",
              " ('UniPROBE', 'JASPAR', 'Association'),\n",
              " ('cohesin acetylation', 'cohesin acetylation', 'Positive_Correlation'),\n",
              " ('TAL1', 'hematopoiesis', 'Association'),\n",
              " ('TAL1', 'epigenetic modification', 'Association'),\n",
              " ('fork slowing', 'H2A', 'Positive_Correlation'),\n",
              " ('C.albicans', 'C.albicans', 'parent taxon'),\n",
              " ('Cannotatr', 'genomic', 'field of work'),\n",
              " ('Pfh1', '5S rRNA', 'Association'),\n",
              " ('STAT1', 'interferon-gamma stimulationin vivo', 'Association'),\n",
              " ('1500 kb variant of chromosome XII', 'chromosome XII', 'subclass of'),\n",
              " ('dystrophin', 'DAPC', 'Association'),\n",
              " ('ATMIN', 'ATM cofactor', 'Association'),\n",
              " ('TNF', 'hematopoietic regulatory genes', 'Association'),\n",
              " ('p53', 'MDM2', 'Positive_Correlation'),\n",
              " ('DNA helicase', 'DNA damage', 'Positive_Correlation'),\n",
              " ('ZMapp', 'Ebola Virus Infection', 'Positive_Correlation'),\n",
              " ('TF', 'genomic regions', 'Association'),\n",
              " ('H3', 'IDH1/2', 'Positive_Correlation'),\n",
              " ('histone histone H3',\n",
              "  'histone histone histone H3.3 mutations',\n",
              "  'Association'),\n",
              " ('phosphoryl transfer reactions',\n",
              "  'phosphoryl transfer reactions',\n",
              "  'Association'),\n",
              " ('DNA damage', 'Pfh1', 'Positive_Correlation'),\n",
              " ('Amitriptyline',\n",
              "  'Childhood and Adolescent Migraine',\n",
              "  'Positive_Correlation'),\n",
              " ('TAL1', 'histone lysine demethylase LSD1', 'Positive_Correlation'),\n",
              " ('ATR', 'PR-Set7', 'Positive_Correlation'),\n",
              " ('ATRXmutations', 'histone H3', 'Association'),\n",
              " ('choroid plexus', 'transthyretin', 'has part'),\n",
              " ('STAT1', 'STAT1', ''),\n",
              " ('Anifrolumab',\n",
              "  'Anti–Interferon‐α Receptor Monoclonal Antibody',\n",
              "  'Positive_Interferon‐α Receptor Monoclonal Antibody <obj> Positive_Interferon‐α Receptor'),\n",
              " ('Christianson syndrome', 'NHE6', 'Association'),\n",
              " ('LADs', 'LADs', 'Association'),\n",
              " ('H3', 'G34V/R-H3', 'Positive_Correlation'),\n",
              " ('2-aminobenzamide', 'Huntington’s disease (HD)', 'Positive_Correlation'),\n",
              " ('compound 106', 'HDAC inhibitors', 'Positive_Correlation'),\n",
              " ('H3K27 methyltransferase', 'Ezh2', 'Association'),\n",
              " ('TAL1', 'p4.2 promoter', 'Positive_Correlation'),\n",
              " ('H3', 'G34', 'Association'),\n",
              " ('transthyretin', 'transthyretin', 'Association'),\n",
              " ('proteins', 'mass spectrometry', 'Positive_Correlation'),\n",
              " ('Dur31p', 'polyamine transporters', 'Positive_Correlation'),\n",
              " ('DNA polymerase', 'H2A', 'Positive_Correlation'),\n",
              " ('histone H4 lysine 20', 'ATR', 'Association'),\n",
              " ('Metazoan', 'CNEs', 'Association'),\n",
              " ('GENCODE', 'lncRNA', 'Association'),\n",
              " ('erythropoiesis', 'MeCP1', 'Association'),\n",
              " ('JACUSA', 'RNA editing', 'field of work'),\n",
              " ('protein carbonylation sites', 'protein carbonylation sites', 'Association'),\n",
              " ('mast', 'megakaryocytic', 'Association'),\n",
              " ('β-dystroglycan', 'DAPC', 'Association'),\n",
              " ('eliglustat', 'Gaucher disease type 1', 'Positive_Correlation'),\n",
              " ('TADs', 'TADs', 'subclass of'),\n",
              " ('HDAC', 'FRDA', 'Positive_Correlation'),\n",
              " ('mammary cellsin', 'tumor metastasisin', 'Positive_Correlation'),\n",
              " ('β-1,3-glucans', 'β-1,3-glucans', 'Association'),\n",
              " ('histone methyl-lysine binding', '53BP1', 'Association'),\n",
              " ('lncRNA', 'long noncoding RNA', 'Association'),\n",
              " ('Drosophila Ctf4', 'cell cycle progression', 'Association'),\n",
              " ('long noncoding RNA', 'lncRNA', 'Association'),\n",
              " ('lysine residues', 'lysine residues', 'Association'),\n",
              " ('lncRNA', 'prognostic', 'subclass of'),\n",
              " ('Christianson syndrome', 'Christianson syndrome', 'Association'),\n",
              " ('QTcF', 'QTcF', 'Association'),\n",
              " ('Gaucher disease type 1', 'eliglustat', 'Positive_Correlation'),\n",
              " ('NBS1', 'ATM cofactor', 'Association'),\n",
              " ('ZCCHC17', 'Alzheimer’s disease', 'Association'),\n",
              " ('snoRNA termination',\n",
              "  'RNA polymerase II C-terminal domain Ser5-P dephosphorylation',\n",
              "  'Positive_Correlation'),\n",
              " ('Swi1', 'TIMELESS homolog', 'Association'),\n",
              " ('gynecological cancers', 'cancers', 'subclass of'),\n",
              " ('CNEE', 'CNEE', 'subclass of'),\n",
              " ('IDH', 'K27M-H3', 'Positive_Correlation'),\n",
              " ('spinal cord', 'cerebellum', 'connects with'),\n",
              " ('Cancer Genome Atlas', 'TCGA2BED', 'derivative work'),\n",
              " ('ATR', 'histone H4 lysine 20', 'Positive_Correlation'),\n",
              " ('TAL1', 'hSET1', 'Positive_Correlation'),\n",
              " ('GATA-1', 'hematopoietic factor', 'Association'),\n",
              " ('GATA-1', 'TAL-1', 'Positive_Correlation'),\n",
              " ('K27M-H3', 'IDH', 'Positive_Correlation'),\n",
              " ('HDAC inhibitors', 'compound 106', 'Positive_Correlation'),\n",
              " ('webSDA', 'macromolecular diffusional association', 'use'),\n",
              " ('RPCs', 'Mrc1', 'has part'),\n",
              " ('Mrc1', 'RPCs', 'Association'),\n",
              " ('themutSLoperon', 'themutSLoperon', 'Positive_Correlation'),\n",
              " ('thermosensitive growth', 'thermosensitive growth', 'Positive_Correlation'),\n",
              " ('hematopoiesis', 'TAL1', 'Association'),\n",
              " ('Anifrolumab',\n",
              "  'Anti–Interferon‐α Receptor Monoclonal Antibody',\n",
              "  'Positive_Interferon‐α Receptor'),\n",
              " ('mass spectrometry', 'proteins', 'Positive_Correlation'),\n",
              " ('JASPAR', 'UniPROBE', 'Association'),\n",
              " ('ATRXandTP53mutations', 'K27M-H3', 'Positive_Correlation'),\n",
              " ('MCM2-7', 'DNA polymerase α', 'Association'),\n",
              " ('RPCs', 'DNA damage checkpoint', 'Positive_Correlation'),\n",
              " ('breast cancer', 'lncRNAs', 'Association'),\n",
              " ('MeCP1', 'erythropoiesis', 'Association'),\n",
              " ('hepadnaviral cccDNA', 'minichromosomes', 'subclass of'),\n",
              " ('cancer', 'p53', 'Positive_Correlation'),\n",
              " ('UniPROBE', 'UniPROBE', 'Association'),\n",
              " ('GRBs', 'HCNEs', 'Association'),\n",
              " ('GAL4 reporter',\n",
              "  'thymidine kniase minimal promoter',\n",
              "  'Positive_Correlation'),\n",
              " ('GATA-1', 'MeCP1', 'Positive_Correlation'),\n",
              " ('p4.2 promoter', 'LSD1', 'Positive_Correlation'),\n",
              " ('β-1,3-glucans', 'β-1,3-glucans', 'Positive_Correlation'),\n",
              " ('α-sarcoglycan', 'DAPC', 'Association'),\n",
              " ('LADs', 'TADs', 'Association'),\n",
              " ('transthyretin', 'choroid plexus', 'Association'),\n",
              " ('polyamine transporters', 'polyamine transporters', 'Positive_Correlation'),\n",
              " ('thalamus', 'spinal cord', 'connects with'),\n",
              " ('tRNA', 'RNA polymerase II', 'Association'),\n",
              " ('DNA', 'COUGER', 'Association'),\n",
              " ('protein carbonylation sites',\n",
              "  'protein carbonylation sites',\n",
              "  'Association <obj> Association'),\n",
              " ('EBF1', 'hematopoietic regulatory genes', 'Association'),\n",
              " ('cerebellum', 'spinal cord', 'connects with'),\n",
              " ('lncRNA', 'GENCODE', 'Association'),\n",
              " ('sister chromatid cohesion', 'Eco1', 'Association'),\n",
              " ('RNA polymerase II', 'tRNA', 'Association'),\n",
              " ('H3.3', 'disease development', 'Association'),\n",
              " ('heart failure (HF)1', 'SERCA2a', 'Positive_Correlation'),\n",
              " ('mast erythroid', 'megakaryocytic', 'Association'),\n",
              " ('GATA-1', 'erythroid differentiation', 'Association'),\n",
              " ('GATA-1', 'ACF', 'Positive_Correlation'),\n",
              " ('DNA replication', 'cell cycle progression', 'Association'),\n",
              " ('RPCs', 'Mrc1', 'Association'),\n",
              " ('LSD1', 'TAL1', 'Association'),\n",
              " ('Pfh1', 'DNA damage', 'Positive_Correlation'),\n",
              " ('LIMT', 'tumor metastasisin', 'Positive_Correlation'),\n",
              " ('TP53mutations', 'histone H3', 'Association'),\n",
              " ('RNA polymerase II C-terminal domain Ser5-P dephosphorylation',\n",
              "  'snoRNA termination',\n",
              "  'Positive_Correlation'),\n",
              " ('H3', 'H3', 'Positive_Correlation'),\n",
              " ('genomic regions', 'TF', 'Association'),\n",
              " ('tumor metastasisin', 'mammary cellsin', 'Positive_Correlation'),\n",
              " ('cohesin', 'Smc3', 'has part'),\n",
              " ('GATA-1', 'WCRF', 'Positive_Correlation'),\n",
              " ('Topiramate', 'Childhood and Adolescent Migraine', 'Positive_Correlation'),\n",
              " ('spinal cord', 'thalamus', 'connects with'),\n",
              " ('DNA damage checkpoint', 'chromosome replication', 'Positive_Correlation'),\n",
              " ('IEMs', 'IEMs', 'Association'),\n",
              " ('MCM2-7 helicase to DNA polymerase α',\n",
              "  'MCM2-7 helicase to MCM2-7 helicase',\n",
              "  'connects with'),\n",
              " ('TADs', 'LADs', 'Association'),\n",
              " ('MCM2-7 helicase to DNA polymerase α',\n",
              "  'MCM2-7 helicase to DNA polymerase α',\n",
              "  'connects with'),\n",
              " ('SERCA2a', 'heart failure (HF)1', 'Positive_Correlation'),\n",
              " ('HIST1H3B', 'K27M-H3', 'Positive_Correlation'),\n",
              " ('Mrc1', 'RPCs', 'part of'),\n",
              " ('iPSC', 'Friedreich’s PsyNetataxia', 'Positive_Correlation'),\n",
              " ('mitochondrial respiratory chain complexes I and IV',\n",
              "  'mitochondrial respiratory chain complexes I and IV',\n",
              "  'has part'),\n",
              " ('PR-Set7', 'ATR', 'Positive_Correlation'),\n",
              " ('Placebo', 'Childhood and Adolescent Migraine', 'Positive_Correlation'),\n",
              " ('histone H3', 'histone H3.3 wild type', 'Association'),\n",
              " ('ATM', 'T cell development', 'Association'),\n",
              " ('gynecological cancers', 'gynecological cancers', 'Association'),\n",
              " ('polyadenylation site analysis',\n",
              "  'polyadenylation site analysis',\n",
              "  'subclass of'),\n",
              " ('JADE', 'Adverse Drug Events', 'field of work'),\n",
              " ('HDAC', 'Huntington’s disease (HD)', 'Positive_Correlation'),\n",
              " ('Ozanimod', 'Ozanimod', 'Association'),\n",
              " ('TADs', 'TADs', 'Association'),\n",
              " ('Friedreich’s PsyNetataxia', 'iPSC', 'Positive_Correlation'),\n",
              " ('p53', 'tumor suppressor', 'Positive_Correlation'),\n",
              " ('spinal cord', 'pineal region', 'connects with'),\n",
              " ('HDAC1', 'histone lysine demethylase LSD1', 'Positive_Correlation'),\n",
              " ('NanoStringNormCNV', 'NanoString CNV', 'based on'),\n",
              " ('tumorigenesis', 'tumorigenesis', 'Association'),\n",
              " ('LIMT', 'mammary cellsin', 'Positive_Correlation'),\n",
              " ('NBS1', 'ATM', 'Association'),\n",
              " ('GATA-1', 'erythropoiesis', 'Association'),\n",
              " ('proteasome', '@@@@@@@@p53', 'Positive_Correlation'),\n",
              " ('2-aminobenzamide', 'FRDA', 'Positive_Correlation'),\n",
              " ('transthyretin', 'choroid plexus', 'part of'),\n",
              " ('450 kb chromosome XII variant', 'chromosome XII', 'subclass of'),\n",
              " ('STAT1', 'STAT1', 'Association'),\n",
              " ('2-aminobenzamide', 'neurodegenerative diseases', 'Positive_Correlation'),\n",
              " ('K27M-H3', 'ATRXandTP53mutations', 'Positive_Correlation'),\n",
              " ('ATM', 'NBS1', 'Positive_Correlation'),\n",
              " ('ASCIZ', 'ATM cofactor', 'Association'),\n",
              " ('TCGA2BED', 'Cancer Genome Atlas', 'based on'),\n",
              " ('GATA1', 'hematopoietic regulatory genes', 'Association'),\n",
              " ('Pfh1', 'Pfh1', 'Association'),\n",
              " ('TAL1', 'thymidine kniase minimal promoter', 'Positive_Correlation'),\n",
              " ('H3', 'K36M', 'Association'),\n",
              " ('MDM2', 'p53', 'Positive_Correlation'),\n",
              " ('Smc3', 'cohesin', 'part of'),\n",
              " ('Alzheimer’s disease', 'ZCCHC17', 'Association'),\n",
              " ('53BP1', 'histone methyl-lysine binding', 'Association'),\n",
              " ('RAPID', 'UK', 'country'),\n",
              " ('H3', 'K27M', 'Association'),\n",
              " ('megakaryocytic', 'megakaryocytic', 'Association'),\n",
              " ('RG7112', 'p53', 'Positive_Correlation'),\n",
              " ('DNA damage', 'DNA helicase', 'Positive_Correlation'),\n",
              " ('CNEs', 'Metazoan', 'Association'),\n",
              " ('themutSLoperon', 'themutSLoperon', 'Positive'),\n",
              " ('breast cancer', 'breast cancer', 'Association')]"
            ]
          },
          "metadata": {},
          "execution_count": 74
        }
      ]
    },
    {
      "cell_type": "code",
      "source": [
        "with open(\"aggregated_triplets.txt\", \"w\") as f:\n",
        "    for triplet in aggregated_triplets:\n",
        "        f.write(f\"{triplet}\\n\")"
      ],
      "metadata": {
        "id": "p4-S0Q4EMnH1"
      },
      "execution_count": null,
      "outputs": []
    },
    {
      "cell_type": "markdown",
      "source": [
        "#### Wrapping inference as a class"
      ],
      "metadata": {
        "id": "Suk2VvlfUNAL"
      }
    },
    {
      "cell_type": "code",
      "execution_count": null,
      "metadata": {
        "id": "GnB7ap31cbGH"
      },
      "outputs": [],
      "source": [
        "from google.colab import drive"
      ]
    },
    {
      "cell_type": "code",
      "execution_count": null,
      "metadata": {
        "colab": {
          "base_uri": "https://localhost:8080/"
        },
        "outputId": "a98315fe-af1c-4cee-f00a-4cac67469d37",
        "id": "LPscTwrhcbGH"
      },
      "outputs": [
        {
          "output_type": "stream",
          "name": "stdout",
          "text": [
            "Mounted at /content/gdrive\n"
          ]
        }
      ],
      "source": [
        "drive.mount('/content/gdrive')"
      ]
    },
    {
      "cell_type": "code",
      "source": [
        "package_directory = r'/content/gdrive/MyDrive/CS_546_Project_Dependencies/lib/python3.10/site-packages'"
      ],
      "metadata": {
        "id": "5JzqQYCCcG14"
      },
      "execution_count": null,
      "outputs": []
    },
    {
      "cell_type": "code",
      "source": [
        "import sys\n",
        "sys.path.append(package_directory)"
      ],
      "metadata": {
        "id": "3brPEjHGalEt"
      },
      "execution_count": null,
      "outputs": []
    },
    {
      "cell_type": "code",
      "source": [
        "import os\n",
        "import torch\n",
        "import pandas as pd\n",
        "import spacy\n",
        "import torch\n",
        "from fastcoref import FCoref\n",
        "from transformers import AutoTokenizer, AutoModelForSeq2SeqLM"
      ],
      "metadata": {
        "id": "ITUVBbXccVME"
      },
      "execution_count": null,
      "outputs": []
    },
    {
      "cell_type": "code",
      "source": [
        "from spacy.tokens import Doc, Span"
      ],
      "metadata": {
        "id": "2Jnqig8sloAc"
      },
      "execution_count": null,
      "outputs": []
    },
    {
      "cell_type": "code",
      "source": [
        "class RelationExtractor:\n",
        "    def __init__(self, nlp_scispacy, fcoref_model, rebel_model, rebel_tokenizer, device):\n",
        "        \"\"\"\n",
        "        Initialize the RelationExtractor class with models for coreference, triplet extraction, and data handling.\n",
        "        \"\"\"\n",
        "        self.nlp_scispacy = nlp_scispacy\n",
        "        self.fcoref_model = fcoref_model\n",
        "        self.rebel_model = rebel_model\n",
        "        self.rebel_tokenizer = rebel_tokenizer\n",
        "        self.device = device\n",
        "        self.data = None\n",
        "\n",
        "    ### Utility Methods ###\n",
        "    def get_fast_cluster_spans(self, doc, clusters):\n",
        "        \"\"\"\n",
        "        Convert fast coreference model output clusters into spans.\n",
        "        \"\"\"\n",
        "        fast_clusters = []\n",
        "        for cluster in clusters:\n",
        "            new_group = []\n",
        "            for span_tuple in cluster:\n",
        "                (start, end) = span_tuple\n",
        "                span = doc.char_span(start, end)\n",
        "                if span:\n",
        "                    new_group.append([span.start, span.end - 1])\n",
        "            fast_clusters.append(new_group)\n",
        "        return fast_clusters\n",
        "\n",
        "    def get_fastcoref_clusters(self, doc, text):\n",
        "        \"\"\"\n",
        "        Extract coreference clusters using the FastCoref model.\n",
        "        \"\"\"\n",
        "        try:\n",
        "            preds = self.fcoref_model.predict(texts=[text])\n",
        "            fast_clusters = preds[0].get_clusters(as_strings=False)\n",
        "            fast_cluster_spans = self.get_fast_cluster_spans(doc, fast_clusters)\n",
        "        except Exception as e:\n",
        "            print(f'Error while getting coreference clusters: {e}')\n",
        "            return []\n",
        "        return fast_cluster_spans\n",
        "\n",
        "    def core_logic_part(self, document: Doc, coref: list[int], resolved: list[str], mention_span: Span):\n",
        "        \"\"\"\n",
        "        Replace a coreference mention with the cluster's head mention.\n",
        "        \"\"\"\n",
        "        final_token = document[coref[1]]\n",
        "        if final_token.tag_ in [\"PRP$\", \"POS\"]:\n",
        "            resolved[coref[0]] = mention_span.text + \"'s\" + final_token.whitespace_\n",
        "        else:\n",
        "            resolved[coref[0]] = mention_span.text + final_token.whitespace_\n",
        "        for i in range(coref[0] + 1, coref[1] + 1):\n",
        "            resolved[i] = \"\"\n",
        "        return resolved\n",
        "\n",
        "    def get_span_noun_indices(self, doc: Doc, cluster: list[list[int]]) -> list[int]:\n",
        "        \"\"\"\n",
        "        Get indices of noun spans within a coreference cluster.\n",
        "        \"\"\"\n",
        "        try:\n",
        "            spans = [doc[span[0]:span[1] + 1] for span in cluster]\n",
        "            spans_pos = [[token.pos_ for token in span] for span in spans]\n",
        "            span_noun_indices = [\n",
        "                i for i, span_pos in enumerate(spans_pos)\n",
        "                if any(pos in span_pos for pos in ['NOUN', 'PROPN'])\n",
        "            ]\n",
        "            return span_noun_indices\n",
        "        except Exception as e:\n",
        "            print(f'Error while getting span noun indices: {e}')\n",
        "            return []\n",
        "\n",
        "    def get_cluster_head(self, doc: Doc, cluster: list[list[int]], noun_indices: list[int]):\n",
        "        \"\"\"\n",
        "        Determine the head mention for a coreference cluster.\n",
        "        \"\"\"\n",
        "        head_idx = noun_indices[0]\n",
        "        head_start, head_end = cluster[head_idx]\n",
        "        head_span = doc[head_start:head_end + 1]\n",
        "        return head_span, [head_start, head_end]\n",
        "\n",
        "    def is_containing_other_spans(self, span: list[int], all_spans: list[list[int]]):\n",
        "        \"\"\"\n",
        "        Check if a span contains other spans within a cluster.\n",
        "        \"\"\"\n",
        "        return any([s[0] >= span[0] and s[1] <= span[1] and s != span for s in all_spans])\n",
        "\n",
        "    def filter_text(self, text):\n",
        "        \"\"\"\n",
        "        Filter and clean the abstract text.\n",
        "        \"\"\"\n",
        "        try:\n",
        "            if type(text) != str:\n",
        "                return ''\n",
        "            if 'abstract' in text:\n",
        "                return text.replace('abstract ', '').strip()\n",
        "            return text.strip()\n",
        "        except Exception as e:\n",
        "            print(f'Error filtering text: {e}')\n",
        "            return ''\n",
        "\n",
        "    ### Coreference Resolution Methods ###\n",
        "    def improved_replace_corefs(self, document, clusters):\n",
        "        \"\"\"\n",
        "        Replace coreferences with their head mentions in the document.\n",
        "        \"\"\"\n",
        "        resolved = list(tok.text_with_ws for tok in document)\n",
        "        all_spans = [span for cluster in clusters for span in cluster]\n",
        "\n",
        "        for cluster in clusters:\n",
        "            noun_indices = self.get_span_noun_indices(document, cluster)\n",
        "\n",
        "            if noun_indices:\n",
        "                mention_span, mention = self.get_cluster_head(document, cluster, noun_indices)\n",
        "\n",
        "                for coref in cluster:\n",
        "                    if coref != mention and not self.is_containing_other_spans(coref, all_spans):\n",
        "                        self.core_logic_part(document, coref, resolved, mention_span)\n",
        "\n",
        "        return \"\".join(resolved)\n",
        "\n",
        "    def perform_coreference_resolution(self, text):\n",
        "        \"\"\"\n",
        "        Perform coreference resolution on the input text.\n",
        "        \"\"\"\n",
        "        try:\n",
        "            doc = self.nlp_scispacy(text)\n",
        "            clusters = self.get_fastcoref_clusters(doc, text)\n",
        "            coref_text = self.improved_replace_corefs(doc, clusters)\n",
        "            return coref_text\n",
        "        except Exception as e:\n",
        "            print(f\"Error in coreference resolution: {e}\")\n",
        "            return text\n",
        "\n",
        "    ### Triplet Extraction Methods ###\n",
        "    def extract_triplets(self, decoded_string):\n",
        "        \"\"\"\n",
        "        Extract triplets from the decoded string.\n",
        "        \"\"\"\n",
        "        decoded_str_copy = decoded_string\n",
        "        if '<s>' in decoded_string:\n",
        "            decoded_str_copy = ''.join(decoded_string.split('<s>')[1:])\n",
        "            decoded_str_copy = decoded_str_copy.split('</s>')[0]\n",
        "\n",
        "        triplets = []\n",
        "        parts = decoded_str_copy.split(\"<triplet>\")\n",
        "\n",
        "        for part in parts[1:]:\n",
        "            head, *relations = part.split(\"<subj>\")\n",
        "            head = head.strip()\n",
        "\n",
        "            for relation in relations:\n",
        "                if \"<obj>\" in relation:\n",
        "                    subj, obj = relation.split(\"<obj>\", 1)\n",
        "                    triplets.append((head, subj.strip(), obj.strip()))\n",
        "\n",
        "        return triplets\n",
        "\n",
        "    def perform_inference(self, text):\n",
        "        \"\"\"\n",
        "        Perform inference to extract triplets from the input text.\n",
        "        \"\"\"\n",
        "        try:\n",
        "            extracted_triplets = []\n",
        "            for sentence in text.split('. '):\n",
        "                inputs = self.rebel_tokenizer(\n",
        "                    sentence, return_tensors=\"pt\", truncation=True, max_length=512\n",
        "                ).to(self.device)\n",
        "                outputs = self.rebel_model.generate(**inputs)\n",
        "                decoded_output = self.rebel_tokenizer.decode(outputs[0], skip_special_tokens=False)\n",
        "                triplets = list(set(self.extract_triplets(decoded_output)))\n",
        "                if triplets:\n",
        "                    extracted_triplets.extend(triplets)\n",
        "            return extracted_triplets\n",
        "        except Exception as e:\n",
        "            print(f\"Error during inference: {e}\")\n",
        "            return []\n",
        "\n",
        "    ### Data Handling and Aggregation Methods ###\n",
        "    def load_data(self, file_path):\n",
        "        \"\"\"\n",
        "        Load and preprocess data from a JSON file.\n",
        "        \"\"\"\n",
        "        pubmed_inference_data = pd.read_json(file_path)\n",
        "        pubmed_inference_filtered = pubmed_inference_data[['title', 'abstract']]\n",
        "        pubmed_inference_filtered['abstract_updated'] = pubmed_inference_filtered['abstract'].apply(self.filter_text)\n",
        "        pubmed_inference_filtered['input'] = (\n",
        "            pubmed_inference_filtered['title'] + \" \" + pubmed_inference_filtered['abstract_updated']\n",
        "        )\n",
        "        self.data = pubmed_inference_filtered\n",
        "        return pubmed_inference_filtered\n",
        "\n",
        "    def process_coreference_resolution(self):\n",
        "        \"\"\"\n",
        "        Process coreference resolution for the loaded data.\n",
        "        \"\"\"\n",
        "        if self.data is None:\n",
        "            raise ValueError(\"No data loaded. Please load data using `load_data` method.\")\n",
        "        self.data['input_coref'] = self.data['input'].apply(self.perform_coreference_resolution)\n",
        "\n",
        "    def process_triplet_extraction(self):\n",
        "        \"\"\"\n",
        "        Process triplet extraction for the loaded data.\n",
        "        \"\"\"\n",
        "        if 'input_coref' not in self.data.columns:\n",
        "            raise ValueError(\"Coreference resolution not performed. Please run `process_coreference_resolution` first.\")\n",
        "        self.data['triplets'] = self.data['input_coref'].apply(self.perform_inference)\n",
        "\n",
        "    def aggregate_triplets(self):\n",
        "        \"\"\"\n",
        "        Aggregate all extracted triplets into a single set.\n",
        "        \"\"\"\n",
        "        if 'triplets' not in self.data.columns:\n",
        "            raise ValueError(\"Triplet extraction not performed. Please run `process_triplet_extraction` first.\")\n",
        "        aggregated_triplets = list(set().union(*self.data['triplets']))\n",
        "        return aggregated_triplets\n",
        "\n",
        "    def write_triplets_to_file(self, aggregated_triplets, file_path):\n",
        "        \"\"\"\n",
        "        Write aggregated triplets to a text file.\n",
        "        \"\"\"\n",
        "        with open(file_path, \"w\") as f:\n",
        "            for triplet in aggregated_triplets:\n",
        "                f.write(f\"{triplet}\\n\")\n"
      ],
      "metadata": {
        "id": "LuhOqhAv1hOT"
      },
      "execution_count": null,
      "outputs": []
    },
    {
      "cell_type": "code",
      "source": [
        "model_path = \"/content/gdrive/MyDrive/CS_546_Project_Dependencies/BioRED_Results/checkpoint-118\""
      ],
      "metadata": {
        "id": "HtSX1auntmNQ"
      },
      "execution_count": null,
      "outputs": []
    },
    {
      "cell_type": "code",
      "source": [
        "file_path = '/content/research_text_pubmed_new.json'"
      ],
      "metadata": {
        "id": "1aWlEHolu0ca"
      },
      "execution_count": null,
      "outputs": []
    },
    {
      "cell_type": "code",
      "source": [
        "device = \"cuda:0\" if torch.cuda.is_available() else \"cpu\""
      ],
      "metadata": {
        "id": "SBw4cQu7tw49"
      },
      "execution_count": null,
      "outputs": []
    },
    {
      "cell_type": "code",
      "source": [
        "rebel_model = AutoModelForSeq2SeqLM.from_pretrained(model_path)"
      ],
      "metadata": {
        "id": "klLwgi6ntmNS"
      },
      "execution_count": null,
      "outputs": []
    },
    {
      "cell_type": "code",
      "source": [
        "rebel_model.to(device)"
      ],
      "metadata": {
        "collapsed": true,
        "colab": {
          "base_uri": "https://localhost:8080/"
        },
        "outputId": "729786d6-073e-47ef-e016-a4654abce5d3",
        "id": "8FM-Wdc9tw49"
      },
      "execution_count": null,
      "outputs": [
        {
          "output_type": "execute_result",
          "data": {
            "text/plain": [
              "BartForConditionalGeneration(\n",
              "  (model): BartModel(\n",
              "    (shared): BartScaledWordEmbedding(50272, 1024, padding_idx=1)\n",
              "    (encoder): BartEncoder(\n",
              "      (embed_tokens): BartScaledWordEmbedding(50272, 1024, padding_idx=1)\n",
              "      (embed_positions): BartLearnedPositionalEmbedding(1026, 1024)\n",
              "      (layers): ModuleList(\n",
              "        (0-11): 12 x BartEncoderLayer(\n",
              "          (self_attn): BartSdpaAttention(\n",
              "            (k_proj): Linear(in_features=1024, out_features=1024, bias=True)\n",
              "            (v_proj): Linear(in_features=1024, out_features=1024, bias=True)\n",
              "            (q_proj): Linear(in_features=1024, out_features=1024, bias=True)\n",
              "            (out_proj): Linear(in_features=1024, out_features=1024, bias=True)\n",
              "          )\n",
              "          (self_attn_layer_norm): LayerNorm((1024,), eps=1e-05, elementwise_affine=True)\n",
              "          (activation_fn): GELUActivation()\n",
              "          (fc1): Linear(in_features=1024, out_features=4096, bias=True)\n",
              "          (fc2): Linear(in_features=4096, out_features=1024, bias=True)\n",
              "          (final_layer_norm): LayerNorm((1024,), eps=1e-05, elementwise_affine=True)\n",
              "        )\n",
              "      )\n",
              "      (layernorm_embedding): LayerNorm((1024,), eps=1e-05, elementwise_affine=True)\n",
              "    )\n",
              "    (decoder): BartDecoder(\n",
              "      (embed_tokens): BartScaledWordEmbedding(50272, 1024, padding_idx=1)\n",
              "      (embed_positions): BartLearnedPositionalEmbedding(1026, 1024)\n",
              "      (layers): ModuleList(\n",
              "        (0-11): 12 x BartDecoderLayer(\n",
              "          (self_attn): BartSdpaAttention(\n",
              "            (k_proj): Linear(in_features=1024, out_features=1024, bias=True)\n",
              "            (v_proj): Linear(in_features=1024, out_features=1024, bias=True)\n",
              "            (q_proj): Linear(in_features=1024, out_features=1024, bias=True)\n",
              "            (out_proj): Linear(in_features=1024, out_features=1024, bias=True)\n",
              "          )\n",
              "          (activation_fn): GELUActivation()\n",
              "          (self_attn_layer_norm): LayerNorm((1024,), eps=1e-05, elementwise_affine=True)\n",
              "          (encoder_attn): BartSdpaAttention(\n",
              "            (k_proj): Linear(in_features=1024, out_features=1024, bias=True)\n",
              "            (v_proj): Linear(in_features=1024, out_features=1024, bias=True)\n",
              "            (q_proj): Linear(in_features=1024, out_features=1024, bias=True)\n",
              "            (out_proj): Linear(in_features=1024, out_features=1024, bias=True)\n",
              "          )\n",
              "          (encoder_attn_layer_norm): LayerNorm((1024,), eps=1e-05, elementwise_affine=True)\n",
              "          (fc1): Linear(in_features=1024, out_features=4096, bias=True)\n",
              "          (fc2): Linear(in_features=4096, out_features=1024, bias=True)\n",
              "          (final_layer_norm): LayerNorm((1024,), eps=1e-05, elementwise_affine=True)\n",
              "        )\n",
              "      )\n",
              "      (layernorm_embedding): LayerNorm((1024,), eps=1e-05, elementwise_affine=True)\n",
              "    )\n",
              "  )\n",
              "  (lm_head): Linear(in_features=1024, out_features=50272, bias=False)\n",
              ")"
            ]
          },
          "metadata": {},
          "execution_count": 20
        }
      ]
    },
    {
      "cell_type": "code",
      "source": [
        "rebel_tokenizer = AutoTokenizer.from_pretrained(model_path)"
      ],
      "metadata": {
        "id": "3x_M_joOtw4-"
      },
      "execution_count": null,
      "outputs": []
    },
    {
      "cell_type": "code",
      "source": [
        "nlp_scispacy = spacy.load('en_core_sci_md')"
      ],
      "metadata": {
        "id": "qXwMwPBBuJB9"
      },
      "execution_count": null,
      "outputs": []
    },
    {
      "cell_type": "code",
      "source": [
        "fcoref_model = FCoref(device=device)"
      ],
      "metadata": {
        "colab": {
          "base_uri": "https://localhost:8080/",
          "height": 400,
          "referenced_widgets": [
            "e70369c20e234db89d689cffe041f0a0",
            "dd48b2fd8d454382ab9265d877ab46f2",
            "03e88a83f8524f81b7a1c8c861bd4bda",
            "34783c6caaec4b8aa8b3d593d17acd3e",
            "82eac9f4076d4315af4a3fb0d91dd964",
            "8d9364e77cea421e8dcb593f35cd4c33",
            "5c39dface15f4d4997d9c3b31c007317",
            "4c5e36df968847ae954cd2c78d36eb51",
            "7d10fa9e3b1e475ba75b6fe71ff690b1",
            "667fa9f238df4ea99ea313ce7e1502f0",
            "a4163cb68f7745c2a78685cea7dd553b",
            "dcd4e1809a974cd3885182ed662acba2",
            "d47a3d5ed1ab41e4b303e3fe6e4d171d",
            "35172f54aaec4db3868f0e9814aaef37",
            "a3fc6f48aa704b169b9bfabab29337ce",
            "074c5d5bc4fc4392b7f04ba6259ca945",
            "8faa46b5ce4d44b485942726494e8574",
            "bcfb44e9dd884d9da684efb59e90da74",
            "17b2d4ed10a24e059632177aab99a131",
            "ea675cdc27c94da3b4bfefd0e27fdec8",
            "c71f4bc2e3e04d90b3163eed51d00aee",
            "9b7f31b9016246e885c9cc6b192e7c9b",
            "1d9829ee81914aa18a21b3d41a0946ef",
            "03a73a278ddd414dbd9303199980df33",
            "243d7dbd7e9d4a3bad42e0c8fb2f0c05",
            "4db46cc9d6de4d32b0284b9f80cdeebf",
            "6637927afa7c435ea780e5db8305ea71",
            "69e0f2da64a043a980c65b8c32461390",
            "52e6d2770aad43c09cfc1b9dce7f7678",
            "acedaae9ec844c7792e949623c0895ac",
            "9ced533e44af4274bcb3a32a3d3c4807",
            "31110f637aa949afb9a2f3f6c57659ac",
            "26bbc17621f94d36a0c0230617afd7cd",
            "39afc6cba7334315aaa755339ac48d65",
            "ce83f3a10fd04838af005705642525e0",
            "4f483615ce61442daf8160d21ed7e1b8",
            "953016b0202b4ac5b5f22d527664b816",
            "43dc123a1c684e50bd2001ddbddba85f",
            "34cfc8aa6504404988d89001fb99493b",
            "5106b67b29ff4ff5a9d059bd59a7a211",
            "dd67ceebb3f646d7b687b2a29cf4fe1c",
            "39566b9586034d8e82315e5cb91752f4",
            "2a02f05fb26348e69288205500975af3",
            "cbfafcd3351148abbbf7cd296e978949",
            "48faaf67784e48ba99992d7f27458038",
            "97051258460241b8a6a5bfa7c8dde1d8",
            "865540c2c7a9435ab0a007a747517f29",
            "a80dca3724d1410698489d42f973a663",
            "19950f33eb614d94b1009719dc583fd8",
            "33b1a558628e40e7bdbc12c89b195ef3",
            "3e6fcacfa83845d48a463045dac39d5b",
            "e00d81391e71413181c1346eddb36b88",
            "b2d1b3f6280945c99a828c73fcf42d3c",
            "ed783ab8385f4a4cac986d9c0513cd1d",
            "1a0c802dadb64a4fac52e52850f7dd69",
            "7bfb3c0bcb7845a8abf87498c4ba05e9",
            "786bb2a18db4436f9a0fe45d87c6a3ca",
            "e8a3b7dc44b044e9bce7a58a9505688a",
            "8fb159ad19c844bf9931d5052c2f2417",
            "bbff96595c5a4c63a30a7e62966c13dd",
            "91c1cc9cbb37438a8b90394f96063832",
            "928123d454b74c7db0e10dc138c9f941",
            "4b5aa97b4f284234afad0b6fd4bc0b4c",
            "128be60f86fe4c8091d2899233cf9385",
            "a1cc45f72a30477ab5c3df6291e5f17c",
            "b5853da605e04f9e8cb9a733d89af339",
            "f13d96e5a33a405ea76281e2719604d7",
            "05b46caac1d04feeb95141b776ff3252",
            "6374b19ff00643798a41af827de1bd81",
            "bbd5c25aa97e4b7087eff6a10575eaeb",
            "b0abc178ed634a258debd4e1be513796",
            "804aabe0bab54d599d88a90eaeb0bd48",
            "72d3cebf6b3848758099589c93a6ff1b",
            "1eb15955e54e434db039bccd83f3fb8a",
            "69c982cb01924a6a8913e0143f398d95",
            "c9c5245b3e93465aa24bb699d9813945",
            "0c7f7800d0d14750bed72419b8a2cb89"
          ]
        },
        "outputId": "4beecee2-cdfa-4b44-d0c2-a67dd95be7bc",
        "collapsed": true,
        "id": "XEgDFezhuJB9"
      },
      "execution_count": null,
      "outputs": [
        {
          "output_type": "stream",
          "name": "stderr",
          "text": [
            "/usr/local/lib/python3.10/dist-packages/huggingface_hub/utils/_auth.py:94: UserWarning: \n",
            "The secret `HF_TOKEN` does not exist in your Colab secrets.\n",
            "To authenticate with the Hugging Face Hub, create a token in your settings tab (https://huggingface.co/settings/tokens), set it as secret in your Google Colab and restart your session.\n",
            "You will be able to reuse this secret in all of your notebooks.\n",
            "Please note that authentication is recommended but still optional to access public models or datasets.\n",
            "  warnings.warn(\n"
          ]
        },
        {
          "output_type": "display_data",
          "data": {
            "text/plain": [
              "config.json:   0%|          | 0.00/819 [00:00<?, ?B/s]"
            ],
            "application/vnd.jupyter.widget-view+json": {
              "version_major": 2,
              "version_minor": 0,
              "model_id": "e70369c20e234db89d689cffe041f0a0"
            }
          },
          "metadata": {}
        },
        {
          "output_type": "display_data",
          "data": {
            "text/plain": [
              "tokenizer_config.json:   0%|          | 0.00/393 [00:00<?, ?B/s]"
            ],
            "application/vnd.jupyter.widget-view+json": {
              "version_major": 2,
              "version_minor": 0,
              "model_id": "dcd4e1809a974cd3885182ed662acba2"
            }
          },
          "metadata": {}
        },
        {
          "output_type": "display_data",
          "data": {
            "text/plain": [
              "vocab.json:   0%|          | 0.00/798k [00:00<?, ?B/s]"
            ],
            "application/vnd.jupyter.widget-view+json": {
              "version_major": 2,
              "version_minor": 0,
              "model_id": "1d9829ee81914aa18a21b3d41a0946ef"
            }
          },
          "metadata": {}
        },
        {
          "output_type": "display_data",
          "data": {
            "text/plain": [
              "merges.txt:   0%|          | 0.00/456k [00:00<?, ?B/s]"
            ],
            "application/vnd.jupyter.widget-view+json": {
              "version_major": 2,
              "version_minor": 0,
              "model_id": "39afc6cba7334315aaa755339ac48d65"
            }
          },
          "metadata": {}
        },
        {
          "output_type": "display_data",
          "data": {
            "text/plain": [
              "tokenizer.json:   0%|          | 0.00/1.36M [00:00<?, ?B/s]"
            ],
            "application/vnd.jupyter.widget-view+json": {
              "version_major": 2,
              "version_minor": 0,
              "model_id": "48faaf67784e48ba99992d7f27458038"
            }
          },
          "metadata": {}
        },
        {
          "output_type": "display_data",
          "data": {
            "text/plain": [
              "special_tokens_map.json:   0%|          | 0.00/239 [00:00<?, ?B/s]"
            ],
            "application/vnd.jupyter.widget-view+json": {
              "version_major": 2,
              "version_minor": 0,
              "model_id": "7bfb3c0bcb7845a8abf87498c4ba05e9"
            }
          },
          "metadata": {}
        },
        {
          "output_type": "stream",
          "name": "stderr",
          "text": [
            "/usr/local/lib/python3.10/dist-packages/spacy/util.py:1740: UserWarning: [W111] Jupyter notebook detected: if using `prefer_gpu()` or `require_gpu()`, include it in the same cell right before `spacy.load()` to ensure that the model is loaded on the correct device. More information: http://spacy.io/usage/v3#jupyter-notebook-gpu\n",
            "  warnings.warn(Warnings.W111)\n"
          ]
        },
        {
          "output_type": "display_data",
          "data": {
            "text/plain": [
              "pytorch_model.bin:   0%|          | 0.00/362M [00:00<?, ?B/s]"
            ],
            "application/vnd.jupyter.widget-view+json": {
              "version_major": 2,
              "version_minor": 0,
              "model_id": "f13d96e5a33a405ea76281e2719604d7"
            }
          },
          "metadata": {}
        }
      ]
    },
    {
      "cell_type": "code",
      "source": [
        "relation_extractor = RelationExtractor(nlp_scispacy, fcoref_model, rebel_model, rebel_tokenizer, device)"
      ],
      "metadata": {
        "id": "gwtkKVFbUKrN"
      },
      "execution_count": null,
      "outputs": []
    },
    {
      "cell_type": "code",
      "source": [
        "data = relation_extractor.load_data(file_path)"
      ],
      "metadata": {
        "id": "IlZao-mTuONV"
      },
      "execution_count": null,
      "outputs": []
    },
    {
      "cell_type": "code",
      "source": [
        "relation_extractor.process_coreference_resolution()"
      ],
      "metadata": {
        "id": "CwH28lsw1t2T"
      },
      "execution_count": null,
      "outputs": []
    },
    {
      "cell_type": "code",
      "source": [
        "relation_extractor.process_triplet_extraction()"
      ],
      "metadata": {
        "id": "JR4kILAj1wEI"
      },
      "execution_count": null,
      "outputs": []
    },
    {
      "cell_type": "code",
      "source": [
        "aggregated_triplets = relation_extractor.aggregate_triplets()\n",
        "relation_extractor.write_triplets_to_file(aggregated_triplets, \"aggregated_triplets.txt\")"
      ],
      "metadata": {
        "id": "-Z3s5x_Z1xhl"
      },
      "execution_count": null,
      "outputs": []
    },
    {
      "cell_type": "markdown",
      "source": [
        "#### Experimental"
      ],
      "metadata": {
        "id": "IE5fRRyeQ3Ev"
      }
    },
    {
      "cell_type": "code",
      "source": [
        "text5 = \"Jennifer Doudna discovered the CRISPR-Cas9 system. She later won a Nobel Prize.\"\n",
        "text5_a = \"Jennifer Doudna and Emmanuelle Charpentier discovered the CRISPR-Cas9 system. She later won a Nobel Prize.\""
      ],
      "metadata": {
        "id": "9UcjGxjpdnnb"
      },
      "execution_count": null,
      "outputs": []
    },
    {
      "cell_type": "code",
      "source": [
        "text6 = \"Chandragupta Maurya was the founder of the Maurya Empire and dynasty, based in Magadha. His rise to power began after the death of Alaxander in 323 BCE.\"\n",
        "text6_a = \"Chandragupta Maurya was the founder of the Maurya Empire and dynasty. His rise to power began after the death of Alaxander in 323 BCE.\"\n",
        "text6_b = \"Chandragupta Maurya's rise to power began after the death of Alaxander in 323 BCE.\"\n",
        "text6_c = \"Chandragupta Maurya's rise to power began in 323 BCE.\"\n",
        "text6_d = \"Chandragupta Maurya's rise to power began after he won the war.\""
      ],
      "metadata": {
        "id": "QdVthMohnKI9"
      },
      "execution_count": null,
      "outputs": []
    },
    {
      "cell_type": "code",
      "source": [
        "inputs = rebel_tokenizer(text5_a, return_tensors=\"pt\", max_length=1024, truncation=False).to(device)"
      ],
      "metadata": {
        "id": "DG6FamV1jqLF"
      },
      "execution_count": null,
      "outputs": []
    },
    {
      "cell_type": "code",
      "source": [
        "outputs = rebel_model.generate(**inputs)"
      ],
      "metadata": {
        "id": "geb3b3FC-flY"
      },
      "execution_count": null,
      "outputs": []
    },
    {
      "cell_type": "code",
      "source": [
        "extracted_text = rebel_tokenizer.decode(outputs[0], skip_special_tokens=True)"
      ],
      "metadata": {
        "id": "GPG-i7edq21s"
      },
      "execution_count": null,
      "outputs": []
    },
    {
      "cell_type": "code",
      "source": [
        "extracted_text"
      ],
      "metadata": {
        "colab": {
          "base_uri": "https://localhost:8080/",
          "height": 36
        },
        "id": "dRmFkYLr-fWO",
        "outputId": "e6a1f0da-7761-4c74-c3c3-1210ba22327f"
      },
      "execution_count": null,
      "outputs": [
        {
          "output_type": "execute_result",
          "data": {
            "text/plain": [
              "' CRISPR-Cas9  Jennifer Doudna  discoverer or inventor  Emmanuelle Charpentier  discoverer or'"
            ],
            "application/vnd.google.colaboratory.intrinsic+json": {
              "type": "string"
            }
          },
          "metadata": {},
          "execution_count": 26
        }
      ]
    },
    {
      "cell_type": "code",
      "source": [
        "test_str = pubmed_inference_filtered['input_coref'][1]"
      ],
      "metadata": {
        "id": "qPJQbMiG9ayu"
      },
      "execution_count": null,
      "outputs": []
    },
    {
      "cell_type": "code",
      "source": [
        "test_str1 = 'LSD1-mediated epigenetic modification is required for TAL1 function and hematopoiesis TAL1 is a critical transcription factor required for hematopoiesis'"
      ],
      "metadata": {
        "id": "pIH5b9uG-0g2"
      },
      "execution_count": null,
      "outputs": []
    },
    {
      "cell_type": "code",
      "source": [
        "extracted_triplets = []\n",
        "for sentence in test_str1.split('. '):\n",
        "  inputs = rebel_tokenizer(sentence, return_tensors=\"pt\", truncation=True, max_length=512).to(device)\n",
        "  outputs = rebel_model.generate(**inputs)\n",
        "  decoded_output = rebel_tokenizer.decode(outputs[0], skip_special_tokens=False)\n",
        "  triplets = list(set(extract_triplets(decoded_output)))\n",
        "  if len(triplets)==0:\n",
        "    continue\n",
        "  else:\n",
        "    extracted_triplets.extend(triplets)"
      ],
      "metadata": {
        "id": "jo48m6RnElCM"
      },
      "execution_count": null,
      "outputs": []
    },
    {
      "cell_type": "code",
      "source": [
        "extracted_triplets"
      ],
      "metadata": {
        "colab": {
          "base_uri": "https://localhost:8080/"
        },
        "id": "BbofpW-8ErBx",
        "outputId": "d82a6197-c479-4ee6-c6a4-f7ce58cccf5e"
      },
      "execution_count": null,
      "outputs": [
        {
          "output_type": "execute_result",
          "data": {
            "text/plain": [
              "[('TAL1', 'epigenetic modification', 'Association'),\n",
              " ('hematopoiesis', 'TAL1', 'Association'),\n",
              " ('TAL1', 'hematopoiesis', 'Association')]"
            ]
          },
          "metadata": {},
          "execution_count": 67
        }
      ]
    },
    {
      "cell_type": "code",
      "source": [
        "inputs"
      ],
      "metadata": {
        "collapsed": true,
        "colab": {
          "base_uri": "https://localhost:8080/"
        },
        "id": "AS43q96N-w_s",
        "outputId": "2dcf4a72-3c86-4ac9-f6b7-201001055206"
      },
      "execution_count": null,
      "outputs": [
        {
          "output_type": "execute_result",
          "data": {
            "text/plain": [
              "{'input_ids': tensor([[    0, 10463,   495,   134,    12, 43728, 44323, 15557, 29685,    16,\n",
              "          1552,    13,   255,  2118,   134,  5043,     8,    37,  9244,  1517,\n",
              "           139,   918,   354,  1437,  1437,   255,  2118,   134,    16,    10,\n",
              "          2008, 37118,  3724,  1552,    13,    37,  9244,  1517,   139,   918,\n",
              "           354,     4,   635,     6, 32819, 13157,  1258,     9,    63,  1940,\n",
              "           747,  3315,     7,   255,  3551, 28837,     4,  5994,     8,   141,\n",
              "            63, 37118,   337,  1713,    32, 13588,   148,    37,  9244,  1517,\n",
              "           139,   918,   354,  1189,     7,    28,  4873,     4,  1398,     6,\n",
              "            52,   311,    14,   255,  2118,   134,    16,  3059,    19, 33945,\n",
              "          1264,  4410, 30298,  3175, 34003,  8200,   784,  2459,   833,    12,\n",
              "         14175,  4410, 30298,  3175,   112,    36, 10463,   495,   134,   238,\n",
              "          4979,   134, 11052, 17725, 37118,  3724,  2731, 13447,   368,    36,\n",
              "          8739,   500,  4923,   238, 33945,  1264,   263, 26799,  4360,  3175,\n",
              "           112,    36, 13022,  2562,   134,   238,     8, 33945,  1264,   263,\n",
              "         26799,  4360,  3175,   132,    11,  1437,  4270,   212, 35080, 44336,\n",
              "             8,   255,  3551, 28837,  4590,     4,    20, 46538,  8307,  5183,\n",
              "         11170,     9, 37619,   134,  1974,    41,   505,   774,    11,  2851,\n",
              "          9828,     5,   255,  2118,   134,    12, 25706, 37118,     9,   272,\n",
              "          2118,   306,  4439,  3307,     7,    10,  3553,  8307, 40314, 11269,\n",
              "           118,  3175,  9865, 23408,     4,  9870,     6,    52,  8085,    14,\n",
              "             5,   255,  2118,   134,    12, 38838, 37619,   134,     6,  7951,\n",
              "          2562,   134,     6,     8,    49, 46538,  8307,  5183,  1713,    32,\n",
              "         31481,  7223,   159,    12, 35908,   148,     5,   419, 17369,     9,\n",
              "          1437,  4270,   212, 36866, 37225,     4,  9051, 21464,    19,     5,\n",
              "          6379,  1022,     9,   255,  2118,   134,  2383,  7293, 13447,   368,\n",
              "          2632,   148, 37225,     6,   255,  2118,   134, 16521, 37619,   134,\n",
              "             7,     5, 30125,   181,   306,     4,   176, 23408,    11,  2432,\n",
              "         47314, 15253,     6,    53,    45,    11, 32691,     6, 22802,   833,\n",
              "          1437,  4270,   212, 35080, 44336,    36,   448,  3721,    43,  4590,\n",
              "             4,  3347,     6,  1481, 43612,    12, 43728,  7956,  3955,     9,\n",
              "         37619,   134,    11,   256,  3721,  4590,  4596,    11,   263, 12597,\n",
              "         21791,     9,     5,   255,  2118,   134,  1002, 10596,  7513,    30,\n",
              "          2284, 30979,   725,   246,   530,   306,    23,     5, 23408,   976,\n",
              "             4, 10623,     6,    84,   414,  1487,    14, 33945,  1264,   784,\n",
              "          2459,   833,  4410, 30298,  3175, 37619,   134,   189, 15708, 14244,\n",
              "           255,  2118,   134,    12, 43728, 37118,     8,  3608,    14,     5,\n",
              "          6878,  5746,     9,   255,  2118,   134,    12, 38838, 37619,   134,\n",
              "            73, 13022,  2562,   134,  2632,   189,  3094,     5, 23808,     9,\n",
              "          1437,  4270,   212, 36866, 37225,  1767,     4,     2]]), 'attention_mask': tensor([[1, 1, 1, 1, 1, 1, 1, 1, 1, 1, 1, 1, 1, 1, 1, 1, 1, 1, 1, 1, 1, 1, 1, 1,\n",
              "         1, 1, 1, 1, 1, 1, 1, 1, 1, 1, 1, 1, 1, 1, 1, 1, 1, 1, 1, 1, 1, 1, 1, 1,\n",
              "         1, 1, 1, 1, 1, 1, 1, 1, 1, 1, 1, 1, 1, 1, 1, 1, 1, 1, 1, 1, 1, 1, 1, 1,\n",
              "         1, 1, 1, 1, 1, 1, 1, 1, 1, 1, 1, 1, 1, 1, 1, 1, 1, 1, 1, 1, 1, 1, 1, 1,\n",
              "         1, 1, 1, 1, 1, 1, 1, 1, 1, 1, 1, 1, 1, 1, 1, 1, 1, 1, 1, 1, 1, 1, 1, 1,\n",
              "         1, 1, 1, 1, 1, 1, 1, 1, 1, 1, 1, 1, 1, 1, 1, 1, 1, 1, 1, 1, 1, 1, 1, 1,\n",
              "         1, 1, 1, 1, 1, 1, 1, 1, 1, 1, 1, 1, 1, 1, 1, 1, 1, 1, 1, 1, 1, 1, 1, 1,\n",
              "         1, 1, 1, 1, 1, 1, 1, 1, 1, 1, 1, 1, 1, 1, 1, 1, 1, 1, 1, 1, 1, 1, 1, 1,\n",
              "         1, 1, 1, 1, 1, 1, 1, 1, 1, 1, 1, 1, 1, 1, 1, 1, 1, 1, 1, 1, 1, 1, 1, 1,\n",
              "         1, 1, 1, 1, 1, 1, 1, 1, 1, 1, 1, 1, 1, 1, 1, 1, 1, 1, 1, 1, 1, 1, 1, 1,\n",
              "         1, 1, 1, 1, 1, 1, 1, 1, 1, 1, 1, 1, 1, 1, 1, 1, 1, 1, 1, 1, 1, 1, 1, 1,\n",
              "         1, 1, 1, 1, 1, 1, 1, 1, 1, 1, 1, 1, 1, 1, 1, 1, 1, 1, 1, 1, 1, 1, 1, 1,\n",
              "         1, 1, 1, 1, 1, 1, 1, 1, 1, 1, 1, 1, 1, 1, 1, 1, 1, 1, 1, 1, 1, 1, 1, 1,\n",
              "         1, 1, 1, 1, 1, 1, 1, 1, 1, 1, 1, 1, 1, 1, 1, 1, 1, 1, 1, 1, 1, 1, 1, 1,\n",
              "         1, 1, 1, 1, 1, 1, 1, 1, 1, 1, 1, 1, 1, 1, 1, 1, 1, 1, 1, 1, 1, 1, 1, 1,\n",
              "         1, 1, 1, 1, 1, 1, 1, 1, 1, 1, 1, 1, 1, 1, 1, 1, 1, 1, 1, 1, 1, 1, 1, 1,\n",
              "         1, 1, 1, 1]])}"
            ]
          },
          "metadata": {},
          "execution_count": 89
        }
      ]
    },
    {
      "cell_type": "code",
      "source": [
        "outputs = rebel_model.generate(**inputs)"
      ],
      "metadata": {
        "id": "RXe9heQz9_qB"
      },
      "execution_count": null,
      "outputs": []
    },
    {
      "cell_type": "code",
      "source": [
        "decoded_output = rebel_tokenizer.decode(outputs[0], skip_special_tokens=False)"
      ],
      "metadata": {
        "id": "0ZU10JR3-mEh"
      },
      "execution_count": null,
      "outputs": []
    },
    {
      "cell_type": "code",
      "source": [
        "decoded_output"
      ],
      "metadata": {
        "colab": {
          "base_uri": "https://localhost:8080/",
          "height": 36
        },
        "id": "azc76lLH-uOy",
        "outputId": "4ae6370d-ba75-4359-9845-9490a2800cbc"
      },
      "execution_count": null,
      "outputs": [
        {
          "output_type": "execute_result",
          "data": {
            "text/plain": [
              "'<s><triplet> LSD1 <subj> TAL1 <obj> Association <triplet> TAL1 <subj> LSD1 <obj> Association</s>'"
            ],
            "application/vnd.google.colaboratory.intrinsic+json": {
              "type": "string"
            }
          },
          "metadata": {},
          "execution_count": 97
        }
      ]
    },
    {
      "cell_type": "code",
      "source": [
        "triplets = set(extract_triplets(decoded_output))"
      ],
      "metadata": {
        "id": "QSEz05JJ-rcn"
      },
      "execution_count": null,
      "outputs": []
    },
    {
      "cell_type": "code",
      "source": [
        "triplets"
      ],
      "metadata": {
        "colab": {
          "base_uri": "https://localhost:8080/"
        },
        "id": "400Vh7LR-se4",
        "outputId": "a13edaca-1adb-45ae-9511-37ad6678f56d"
      },
      "execution_count": null,
      "outputs": [
        {
          "output_type": "execute_result",
          "data": {
            "text/plain": [
              "set()"
            ]
          },
          "metadata": {},
          "execution_count": 75
        }
      ]
    },
    {
      "cell_type": "code",
      "source": [
        "perform_inference(test_str)"
      ],
      "metadata": {
        "colab": {
          "base_uri": "https://localhost:8080/",
          "height": 287
        },
        "id": "cHVLqDOz9t37",
        "outputId": "68d28fed-6dee-4eee-89c9-f6f2ba6636ba"
      },
      "execution_count": null,
      "outputs": [
        {
          "output_type": "error",
          "ename": "KeyboardInterrupt",
          "evalue": "",
          "traceback": [
            "\u001b[0;31m---------------------------------------------------------------------------\u001b[0m",
            "\u001b[0;31mKeyboardInterrupt\u001b[0m                         Traceback (most recent call last)",
            "\u001b[0;32m<ipython-input-70-1c44b06fc566>\u001b[0m in \u001b[0;36m<cell line: 1>\u001b[0;34m()\u001b[0m\n\u001b[0;32m----> 1\u001b[0;31m \u001b[0mperform_inference\u001b[0m\u001b[0;34m(\u001b[0m\u001b[0mtest_str\u001b[0m\u001b[0;34m)\u001b[0m\u001b[0;34m\u001b[0m\u001b[0;34m\u001b[0m\u001b[0m\n\u001b[0m",
            "\u001b[0;32m<ipython-input-64-275d6fee449a>\u001b[0m in \u001b[0;36mperform_inference\u001b[0;34m(text)\u001b[0m\n\u001b[1;32m      1\u001b[0m \u001b[0;32mdef\u001b[0m \u001b[0mperform_inference\u001b[0m\u001b[0;34m(\u001b[0m\u001b[0mtext\u001b[0m\u001b[0;34m)\u001b[0m\u001b[0;34m:\u001b[0m\u001b[0;34m\u001b[0m\u001b[0;34m\u001b[0m\u001b[0m\n\u001b[1;32m      2\u001b[0m   \u001b[0minputs\u001b[0m \u001b[0;34m=\u001b[0m \u001b[0mrebel_tokenizer\u001b[0m\u001b[0;34m(\u001b[0m\u001b[0mtext\u001b[0m\u001b[0;34m,\u001b[0m \u001b[0mreturn_tensors\u001b[0m\u001b[0;34m=\u001b[0m\u001b[0;34m\"pt\"\u001b[0m\u001b[0;34m,\u001b[0m \u001b[0mtruncation\u001b[0m\u001b[0;34m=\u001b[0m\u001b[0;32mTrue\u001b[0m\u001b[0;34m,\u001b[0m \u001b[0mmax_length\u001b[0m\u001b[0;34m=\u001b[0m\u001b[0;36m512\u001b[0m\u001b[0;34m)\u001b[0m\u001b[0;34m.\u001b[0m\u001b[0mto\u001b[0m\u001b[0;34m(\u001b[0m\u001b[0mdevice\u001b[0m\u001b[0;34m)\u001b[0m\u001b[0;34m\u001b[0m\u001b[0;34m\u001b[0m\u001b[0m\n\u001b[0;32m----> 3\u001b[0;31m   \u001b[0moutputs\u001b[0m \u001b[0;34m=\u001b[0m \u001b[0mrebel_model\u001b[0m\u001b[0;34m.\u001b[0m\u001b[0mgenerate\u001b[0m\u001b[0;34m(\u001b[0m\u001b[0;34m**\u001b[0m\u001b[0minputs\u001b[0m\u001b[0;34m)\u001b[0m\u001b[0;34m\u001b[0m\u001b[0;34m\u001b[0m\u001b[0m\n\u001b[0m\u001b[1;32m      4\u001b[0m   \u001b[0mdecoded_output\u001b[0m \u001b[0;34m=\u001b[0m \u001b[0mrebel_tokenizer\u001b[0m\u001b[0;34m.\u001b[0m\u001b[0mdecode\u001b[0m\u001b[0;34m(\u001b[0m\u001b[0moutputs\u001b[0m\u001b[0;34m[\u001b[0m\u001b[0;36m0\u001b[0m\u001b[0;34m]\u001b[0m\u001b[0;34m,\u001b[0m \u001b[0mskip_special_tokens\u001b[0m\u001b[0;34m=\u001b[0m\u001b[0;32mFalse\u001b[0m\u001b[0;34m)\u001b[0m\u001b[0;34m\u001b[0m\u001b[0;34m\u001b[0m\u001b[0m\n\u001b[1;32m      5\u001b[0m   \u001b[0mtriplets\u001b[0m \u001b[0;34m=\u001b[0m \u001b[0mset\u001b[0m\u001b[0;34m(\u001b[0m\u001b[0mextract_triplets\u001b[0m\u001b[0;34m(\u001b[0m\u001b[0mdecoded_output\u001b[0m\u001b[0;34m)\u001b[0m\u001b[0;34m)\u001b[0m\u001b[0;34m\u001b[0m\u001b[0;34m\u001b[0m\u001b[0m\n",
            "\u001b[0;32m/usr/local/lib/python3.10/dist-packages/torch/utils/_contextlib.py\u001b[0m in \u001b[0;36mdecorate_context\u001b[0;34m(*args, **kwargs)\u001b[0m\n\u001b[1;32m    114\u001b[0m     \u001b[0;32mdef\u001b[0m \u001b[0mdecorate_context\u001b[0m\u001b[0;34m(\u001b[0m\u001b[0;34m*\u001b[0m\u001b[0margs\u001b[0m\u001b[0;34m,\u001b[0m \u001b[0;34m**\u001b[0m\u001b[0mkwargs\u001b[0m\u001b[0;34m)\u001b[0m\u001b[0;34m:\u001b[0m\u001b[0;34m\u001b[0m\u001b[0;34m\u001b[0m\u001b[0m\n\u001b[1;32m    115\u001b[0m         \u001b[0;32mwith\u001b[0m \u001b[0mctx_factory\u001b[0m\u001b[0;34m(\u001b[0m\u001b[0;34m)\u001b[0m\u001b[0;34m:\u001b[0m\u001b[0;34m\u001b[0m\u001b[0;34m\u001b[0m\u001b[0m\n\u001b[0;32m--> 116\u001b[0;31m             \u001b[0;32mreturn\u001b[0m \u001b[0mfunc\u001b[0m\u001b[0;34m(\u001b[0m\u001b[0;34m*\u001b[0m\u001b[0margs\u001b[0m\u001b[0;34m,\u001b[0m \u001b[0;34m**\u001b[0m\u001b[0mkwargs\u001b[0m\u001b[0;34m)\u001b[0m\u001b[0;34m\u001b[0m\u001b[0;34m\u001b[0m\u001b[0m\n\u001b[0m\u001b[1;32m    117\u001b[0m \u001b[0;34m\u001b[0m\u001b[0m\n\u001b[1;32m    118\u001b[0m     \u001b[0;32mreturn\u001b[0m \u001b[0mdecorate_context\u001b[0m\u001b[0;34m\u001b[0m\u001b[0;34m\u001b[0m\u001b[0m\n",
            "\u001b[0;32m/usr/local/lib/python3.10/dist-packages/transformers/generation/utils.py\u001b[0m in \u001b[0;36mgenerate\u001b[0;34m(self, inputs, generation_config, logits_processor, stopping_criteria, prefix_allowed_tokens_fn, synced_gpus, assistant_model, streamer, negative_prompt_ids, negative_prompt_attention_mask, **kwargs)\u001b[0m\n\u001b[1;32m   2244\u001b[0m \u001b[0;34m\u001b[0m\u001b[0m\n\u001b[1;32m   2245\u001b[0m             \u001b[0;31m# 13. run beam sample\u001b[0m\u001b[0;34m\u001b[0m\u001b[0;34m\u001b[0m\u001b[0m\n\u001b[0;32m-> 2246\u001b[0;31m             result = self._beam_search(\n\u001b[0m\u001b[1;32m   2247\u001b[0m                 \u001b[0minput_ids\u001b[0m\u001b[0;34m,\u001b[0m\u001b[0;34m\u001b[0m\u001b[0;34m\u001b[0m\u001b[0m\n\u001b[1;32m   2248\u001b[0m                 \u001b[0mbeam_scorer\u001b[0m\u001b[0;34m,\u001b[0m\u001b[0;34m\u001b[0m\u001b[0;34m\u001b[0m\u001b[0m\n",
            "\u001b[0;32m/usr/local/lib/python3.10/dist-packages/transformers/generation/utils.py\u001b[0m in \u001b[0;36m_beam_search\u001b[0;34m(self, input_ids, beam_scorer, logits_processor, stopping_criteria, generation_config, synced_gpus, **model_kwargs)\u001b[0m\n\u001b[1;32m   3453\u001b[0m \u001b[0;34m\u001b[0m\u001b[0m\n\u001b[1;32m   3454\u001b[0m             \u001b[0;32melse\u001b[0m\u001b[0;34m:\u001b[0m  \u001b[0;31m# Unchanged original behavior\u001b[0m\u001b[0;34m\u001b[0m\u001b[0;34m\u001b[0m\u001b[0m\n\u001b[0;32m-> 3455\u001b[0;31m                 \u001b[0moutputs\u001b[0m \u001b[0;34m=\u001b[0m \u001b[0mself\u001b[0m\u001b[0;34m(\u001b[0m\u001b[0;34m**\u001b[0m\u001b[0mmodel_inputs\u001b[0m\u001b[0;34m,\u001b[0m \u001b[0mreturn_dict\u001b[0m\u001b[0;34m=\u001b[0m\u001b[0;32mTrue\u001b[0m\u001b[0;34m)\u001b[0m\u001b[0;34m\u001b[0m\u001b[0;34m\u001b[0m\u001b[0m\n\u001b[0m\u001b[1;32m   3456\u001b[0m \u001b[0;34m\u001b[0m\u001b[0m\n\u001b[1;32m   3457\u001b[0m             \u001b[0;31m# synced_gpus: don't waste resources running the code we don't need; kwargs must be updated before skipping\u001b[0m\u001b[0;34m\u001b[0m\u001b[0;34m\u001b[0m\u001b[0m\n",
            "\u001b[0;32m/usr/local/lib/python3.10/dist-packages/torch/nn/modules/module.py\u001b[0m in \u001b[0;36m_wrapped_call_impl\u001b[0;34m(self, *args, **kwargs)\u001b[0m\n\u001b[1;32m   1734\u001b[0m             \u001b[0;32mreturn\u001b[0m \u001b[0mself\u001b[0m\u001b[0;34m.\u001b[0m\u001b[0m_compiled_call_impl\u001b[0m\u001b[0;34m(\u001b[0m\u001b[0;34m*\u001b[0m\u001b[0margs\u001b[0m\u001b[0;34m,\u001b[0m \u001b[0;34m**\u001b[0m\u001b[0mkwargs\u001b[0m\u001b[0;34m)\u001b[0m  \u001b[0;31m# type: ignore[misc]\u001b[0m\u001b[0;34m\u001b[0m\u001b[0;34m\u001b[0m\u001b[0m\n\u001b[1;32m   1735\u001b[0m         \u001b[0;32melse\u001b[0m\u001b[0;34m:\u001b[0m\u001b[0;34m\u001b[0m\u001b[0;34m\u001b[0m\u001b[0m\n\u001b[0;32m-> 1736\u001b[0;31m             \u001b[0;32mreturn\u001b[0m \u001b[0mself\u001b[0m\u001b[0;34m.\u001b[0m\u001b[0m_call_impl\u001b[0m\u001b[0;34m(\u001b[0m\u001b[0;34m*\u001b[0m\u001b[0margs\u001b[0m\u001b[0;34m,\u001b[0m \u001b[0;34m**\u001b[0m\u001b[0mkwargs\u001b[0m\u001b[0;34m)\u001b[0m\u001b[0;34m\u001b[0m\u001b[0;34m\u001b[0m\u001b[0m\n\u001b[0m\u001b[1;32m   1737\u001b[0m \u001b[0;34m\u001b[0m\u001b[0m\n\u001b[1;32m   1738\u001b[0m     \u001b[0;31m# torchrec tests the code consistency with the following code\u001b[0m\u001b[0;34m\u001b[0m\u001b[0;34m\u001b[0m\u001b[0m\n",
            "\u001b[0;32m/usr/local/lib/python3.10/dist-packages/torch/nn/modules/module.py\u001b[0m in \u001b[0;36m_call_impl\u001b[0;34m(self, *args, **kwargs)\u001b[0m\n\u001b[1;32m   1745\u001b[0m                 \u001b[0;32mor\u001b[0m \u001b[0m_global_backward_pre_hooks\u001b[0m \u001b[0;32mor\u001b[0m \u001b[0m_global_backward_hooks\u001b[0m\u001b[0;34m\u001b[0m\u001b[0;34m\u001b[0m\u001b[0m\n\u001b[1;32m   1746\u001b[0m                 or _global_forward_hooks or _global_forward_pre_hooks):\n\u001b[0;32m-> 1747\u001b[0;31m             \u001b[0;32mreturn\u001b[0m \u001b[0mforward_call\u001b[0m\u001b[0;34m(\u001b[0m\u001b[0;34m*\u001b[0m\u001b[0margs\u001b[0m\u001b[0;34m,\u001b[0m \u001b[0;34m**\u001b[0m\u001b[0mkwargs\u001b[0m\u001b[0;34m)\u001b[0m\u001b[0;34m\u001b[0m\u001b[0;34m\u001b[0m\u001b[0m\n\u001b[0m\u001b[1;32m   1748\u001b[0m \u001b[0;34m\u001b[0m\u001b[0m\n\u001b[1;32m   1749\u001b[0m         \u001b[0mresult\u001b[0m \u001b[0;34m=\u001b[0m \u001b[0;32mNone\u001b[0m\u001b[0;34m\u001b[0m\u001b[0;34m\u001b[0m\u001b[0m\n",
            "\u001b[0;32m/usr/local/lib/python3.10/dist-packages/transformers/models/bart/modeling_bart.py\u001b[0m in \u001b[0;36mforward\u001b[0;34m(self, input_ids, attention_mask, decoder_input_ids, decoder_attention_mask, head_mask, decoder_head_mask, cross_attn_head_mask, encoder_outputs, past_key_values, inputs_embeds, decoder_inputs_embeds, labels, use_cache, output_attentions, output_hidden_states, return_dict)\u001b[0m\n\u001b[1;32m   1640\u001b[0m                 )\n\u001b[1;32m   1641\u001b[0m \u001b[0;34m\u001b[0m\u001b[0m\n\u001b[0;32m-> 1642\u001b[0;31m         outputs = self.model(\n\u001b[0m\u001b[1;32m   1643\u001b[0m             \u001b[0minput_ids\u001b[0m\u001b[0;34m,\u001b[0m\u001b[0;34m\u001b[0m\u001b[0;34m\u001b[0m\u001b[0m\n\u001b[1;32m   1644\u001b[0m             \u001b[0mattention_mask\u001b[0m\u001b[0;34m=\u001b[0m\u001b[0mattention_mask\u001b[0m\u001b[0;34m,\u001b[0m\u001b[0;34m\u001b[0m\u001b[0;34m\u001b[0m\u001b[0m\n",
            "\u001b[0;32m/usr/local/lib/python3.10/dist-packages/torch/nn/modules/module.py\u001b[0m in \u001b[0;36m_wrapped_call_impl\u001b[0;34m(self, *args, **kwargs)\u001b[0m\n\u001b[1;32m   1734\u001b[0m             \u001b[0;32mreturn\u001b[0m \u001b[0mself\u001b[0m\u001b[0;34m.\u001b[0m\u001b[0m_compiled_call_impl\u001b[0m\u001b[0;34m(\u001b[0m\u001b[0;34m*\u001b[0m\u001b[0margs\u001b[0m\u001b[0;34m,\u001b[0m \u001b[0;34m**\u001b[0m\u001b[0mkwargs\u001b[0m\u001b[0;34m)\u001b[0m  \u001b[0;31m# type: ignore[misc]\u001b[0m\u001b[0;34m\u001b[0m\u001b[0;34m\u001b[0m\u001b[0m\n\u001b[1;32m   1735\u001b[0m         \u001b[0;32melse\u001b[0m\u001b[0;34m:\u001b[0m\u001b[0;34m\u001b[0m\u001b[0;34m\u001b[0m\u001b[0m\n\u001b[0;32m-> 1736\u001b[0;31m             \u001b[0;32mreturn\u001b[0m \u001b[0mself\u001b[0m\u001b[0;34m.\u001b[0m\u001b[0m_call_impl\u001b[0m\u001b[0;34m(\u001b[0m\u001b[0;34m*\u001b[0m\u001b[0margs\u001b[0m\u001b[0;34m,\u001b[0m \u001b[0;34m**\u001b[0m\u001b[0mkwargs\u001b[0m\u001b[0;34m)\u001b[0m\u001b[0;34m\u001b[0m\u001b[0;34m\u001b[0m\u001b[0m\n\u001b[0m\u001b[1;32m   1737\u001b[0m \u001b[0;34m\u001b[0m\u001b[0m\n\u001b[1;32m   1738\u001b[0m     \u001b[0;31m# torchrec tests the code consistency with the following code\u001b[0m\u001b[0;34m\u001b[0m\u001b[0;34m\u001b[0m\u001b[0m\n",
            "\u001b[0;32m/usr/local/lib/python3.10/dist-packages/torch/nn/modules/module.py\u001b[0m in \u001b[0;36m_call_impl\u001b[0;34m(self, *args, **kwargs)\u001b[0m\n\u001b[1;32m   1745\u001b[0m                 \u001b[0;32mor\u001b[0m \u001b[0m_global_backward_pre_hooks\u001b[0m \u001b[0;32mor\u001b[0m \u001b[0m_global_backward_hooks\u001b[0m\u001b[0;34m\u001b[0m\u001b[0;34m\u001b[0m\u001b[0m\n\u001b[1;32m   1746\u001b[0m                 or _global_forward_hooks or _global_forward_pre_hooks):\n\u001b[0;32m-> 1747\u001b[0;31m             \u001b[0;32mreturn\u001b[0m \u001b[0mforward_call\u001b[0m\u001b[0;34m(\u001b[0m\u001b[0;34m*\u001b[0m\u001b[0margs\u001b[0m\u001b[0;34m,\u001b[0m \u001b[0;34m**\u001b[0m\u001b[0mkwargs\u001b[0m\u001b[0;34m)\u001b[0m\u001b[0;34m\u001b[0m\u001b[0;34m\u001b[0m\u001b[0m\n\u001b[0m\u001b[1;32m   1748\u001b[0m \u001b[0;34m\u001b[0m\u001b[0m\n\u001b[1;32m   1749\u001b[0m         \u001b[0mresult\u001b[0m \u001b[0;34m=\u001b[0m \u001b[0;32mNone\u001b[0m\u001b[0;34m\u001b[0m\u001b[0;34m\u001b[0m\u001b[0m\n",
            "\u001b[0;32m/usr/local/lib/python3.10/dist-packages/transformers/models/bart/modeling_bart.py\u001b[0m in \u001b[0;36mforward\u001b[0;34m(self, input_ids, attention_mask, decoder_input_ids, decoder_attention_mask, head_mask, decoder_head_mask, cross_attn_head_mask, encoder_outputs, past_key_values, inputs_embeds, decoder_inputs_embeds, use_cache, output_attentions, output_hidden_states, return_dict)\u001b[0m\n\u001b[1;32m   1526\u001b[0m \u001b[0;34m\u001b[0m\u001b[0m\n\u001b[1;32m   1527\u001b[0m         \u001b[0;31m# decoder outputs consists of (dec_features, past_key_value, dec_hidden, dec_attn)\u001b[0m\u001b[0;34m\u001b[0m\u001b[0;34m\u001b[0m\u001b[0m\n\u001b[0;32m-> 1528\u001b[0;31m         decoder_outputs = self.decoder(\n\u001b[0m\u001b[1;32m   1529\u001b[0m             \u001b[0minput_ids\u001b[0m\u001b[0;34m=\u001b[0m\u001b[0mdecoder_input_ids\u001b[0m\u001b[0;34m,\u001b[0m\u001b[0;34m\u001b[0m\u001b[0;34m\u001b[0m\u001b[0m\n\u001b[1;32m   1530\u001b[0m             \u001b[0mattention_mask\u001b[0m\u001b[0;34m=\u001b[0m\u001b[0mdecoder_attention_mask\u001b[0m\u001b[0;34m,\u001b[0m\u001b[0;34m\u001b[0m\u001b[0;34m\u001b[0m\u001b[0m\n",
            "\u001b[0;32m/usr/local/lib/python3.10/dist-packages/torch/nn/modules/module.py\u001b[0m in \u001b[0;36m_wrapped_call_impl\u001b[0;34m(self, *args, **kwargs)\u001b[0m\n\u001b[1;32m   1734\u001b[0m             \u001b[0;32mreturn\u001b[0m \u001b[0mself\u001b[0m\u001b[0;34m.\u001b[0m\u001b[0m_compiled_call_impl\u001b[0m\u001b[0;34m(\u001b[0m\u001b[0;34m*\u001b[0m\u001b[0margs\u001b[0m\u001b[0;34m,\u001b[0m \u001b[0;34m**\u001b[0m\u001b[0mkwargs\u001b[0m\u001b[0;34m)\u001b[0m  \u001b[0;31m# type: ignore[misc]\u001b[0m\u001b[0;34m\u001b[0m\u001b[0;34m\u001b[0m\u001b[0m\n\u001b[1;32m   1735\u001b[0m         \u001b[0;32melse\u001b[0m\u001b[0;34m:\u001b[0m\u001b[0;34m\u001b[0m\u001b[0;34m\u001b[0m\u001b[0m\n\u001b[0;32m-> 1736\u001b[0;31m             \u001b[0;32mreturn\u001b[0m \u001b[0mself\u001b[0m\u001b[0;34m.\u001b[0m\u001b[0m_call_impl\u001b[0m\u001b[0;34m(\u001b[0m\u001b[0;34m*\u001b[0m\u001b[0margs\u001b[0m\u001b[0;34m,\u001b[0m \u001b[0;34m**\u001b[0m\u001b[0mkwargs\u001b[0m\u001b[0;34m)\u001b[0m\u001b[0;34m\u001b[0m\u001b[0;34m\u001b[0m\u001b[0m\n\u001b[0m\u001b[1;32m   1737\u001b[0m \u001b[0;34m\u001b[0m\u001b[0m\n\u001b[1;32m   1738\u001b[0m     \u001b[0;31m# torchrec tests the code consistency with the following code\u001b[0m\u001b[0;34m\u001b[0m\u001b[0;34m\u001b[0m\u001b[0m\n",
            "\u001b[0;32m/usr/local/lib/python3.10/dist-packages/torch/nn/modules/module.py\u001b[0m in \u001b[0;36m_call_impl\u001b[0;34m(self, *args, **kwargs)\u001b[0m\n\u001b[1;32m   1745\u001b[0m                 \u001b[0;32mor\u001b[0m \u001b[0m_global_backward_pre_hooks\u001b[0m \u001b[0;32mor\u001b[0m \u001b[0m_global_backward_hooks\u001b[0m\u001b[0;34m\u001b[0m\u001b[0;34m\u001b[0m\u001b[0m\n\u001b[1;32m   1746\u001b[0m                 or _global_forward_hooks or _global_forward_pre_hooks):\n\u001b[0;32m-> 1747\u001b[0;31m             \u001b[0;32mreturn\u001b[0m \u001b[0mforward_call\u001b[0m\u001b[0;34m(\u001b[0m\u001b[0;34m*\u001b[0m\u001b[0margs\u001b[0m\u001b[0;34m,\u001b[0m \u001b[0;34m**\u001b[0m\u001b[0mkwargs\u001b[0m\u001b[0;34m)\u001b[0m\u001b[0;34m\u001b[0m\u001b[0;34m\u001b[0m\u001b[0m\n\u001b[0m\u001b[1;32m   1748\u001b[0m \u001b[0;34m\u001b[0m\u001b[0m\n\u001b[1;32m   1749\u001b[0m         \u001b[0mresult\u001b[0m \u001b[0;34m=\u001b[0m \u001b[0;32mNone\u001b[0m\u001b[0;34m\u001b[0m\u001b[0;34m\u001b[0m\u001b[0m\n",
            "\u001b[0;32m/usr/local/lib/python3.10/dist-packages/transformers/models/bart/modeling_bart.py\u001b[0m in \u001b[0;36mforward\u001b[0;34m(self, input_ids, attention_mask, encoder_hidden_states, encoder_attention_mask, head_mask, cross_attn_head_mask, past_key_values, inputs_embeds, use_cache, output_attentions, output_hidden_states, return_dict)\u001b[0m\n\u001b[1;32m   1378\u001b[0m                 )\n\u001b[1;32m   1379\u001b[0m             \u001b[0;32melse\u001b[0m\u001b[0;34m:\u001b[0m\u001b[0;34m\u001b[0m\u001b[0;34m\u001b[0m\u001b[0m\n\u001b[0;32m-> 1380\u001b[0;31m                 layer_outputs = decoder_layer(\n\u001b[0m\u001b[1;32m   1381\u001b[0m                     \u001b[0mhidden_states\u001b[0m\u001b[0;34m,\u001b[0m\u001b[0;34m\u001b[0m\u001b[0;34m\u001b[0m\u001b[0m\n\u001b[1;32m   1382\u001b[0m                     \u001b[0mattention_mask\u001b[0m\u001b[0;34m=\u001b[0m\u001b[0mattention_mask\u001b[0m\u001b[0;34m,\u001b[0m\u001b[0;34m\u001b[0m\u001b[0;34m\u001b[0m\u001b[0m\n",
            "\u001b[0;32m/usr/local/lib/python3.10/dist-packages/torch/nn/modules/module.py\u001b[0m in \u001b[0;36m_wrapped_call_impl\u001b[0;34m(self, *args, **kwargs)\u001b[0m\n\u001b[1;32m   1734\u001b[0m             \u001b[0;32mreturn\u001b[0m \u001b[0mself\u001b[0m\u001b[0;34m.\u001b[0m\u001b[0m_compiled_call_impl\u001b[0m\u001b[0;34m(\u001b[0m\u001b[0;34m*\u001b[0m\u001b[0margs\u001b[0m\u001b[0;34m,\u001b[0m \u001b[0;34m**\u001b[0m\u001b[0mkwargs\u001b[0m\u001b[0;34m)\u001b[0m  \u001b[0;31m# type: ignore[misc]\u001b[0m\u001b[0;34m\u001b[0m\u001b[0;34m\u001b[0m\u001b[0m\n\u001b[1;32m   1735\u001b[0m         \u001b[0;32melse\u001b[0m\u001b[0;34m:\u001b[0m\u001b[0;34m\u001b[0m\u001b[0;34m\u001b[0m\u001b[0m\n\u001b[0;32m-> 1736\u001b[0;31m             \u001b[0;32mreturn\u001b[0m \u001b[0mself\u001b[0m\u001b[0;34m.\u001b[0m\u001b[0m_call_impl\u001b[0m\u001b[0;34m(\u001b[0m\u001b[0;34m*\u001b[0m\u001b[0margs\u001b[0m\u001b[0;34m,\u001b[0m \u001b[0;34m**\u001b[0m\u001b[0mkwargs\u001b[0m\u001b[0;34m)\u001b[0m\u001b[0;34m\u001b[0m\u001b[0;34m\u001b[0m\u001b[0m\n\u001b[0m\u001b[1;32m   1737\u001b[0m \u001b[0;34m\u001b[0m\u001b[0m\n\u001b[1;32m   1738\u001b[0m     \u001b[0;31m# torchrec tests the code consistency with the following code\u001b[0m\u001b[0;34m\u001b[0m\u001b[0;34m\u001b[0m\u001b[0m\n",
            "\u001b[0;32m/usr/local/lib/python3.10/dist-packages/torch/nn/modules/module.py\u001b[0m in \u001b[0;36m_call_impl\u001b[0;34m(self, *args, **kwargs)\u001b[0m\n\u001b[1;32m   1745\u001b[0m                 \u001b[0;32mor\u001b[0m \u001b[0m_global_backward_pre_hooks\u001b[0m \u001b[0;32mor\u001b[0m \u001b[0m_global_backward_hooks\u001b[0m\u001b[0;34m\u001b[0m\u001b[0;34m\u001b[0m\u001b[0m\n\u001b[1;32m   1746\u001b[0m                 or _global_forward_hooks or _global_forward_pre_hooks):\n\u001b[0;32m-> 1747\u001b[0;31m             \u001b[0;32mreturn\u001b[0m \u001b[0mforward_call\u001b[0m\u001b[0;34m(\u001b[0m\u001b[0;34m*\u001b[0m\u001b[0margs\u001b[0m\u001b[0;34m,\u001b[0m \u001b[0;34m**\u001b[0m\u001b[0mkwargs\u001b[0m\u001b[0;34m)\u001b[0m\u001b[0;34m\u001b[0m\u001b[0;34m\u001b[0m\u001b[0m\n\u001b[0m\u001b[1;32m   1748\u001b[0m \u001b[0;34m\u001b[0m\u001b[0m\n\u001b[1;32m   1749\u001b[0m         \u001b[0mresult\u001b[0m \u001b[0;34m=\u001b[0m \u001b[0;32mNone\u001b[0m\u001b[0;34m\u001b[0m\u001b[0;34m\u001b[0m\u001b[0m\n",
            "\u001b[0;32m/usr/local/lib/python3.10/dist-packages/transformers/models/bart/modeling_bart.py\u001b[0m in \u001b[0;36mforward\u001b[0;34m(self, hidden_states, attention_mask, encoder_hidden_states, encoder_attention_mask, layer_head_mask, cross_attn_layer_head_mask, past_key_value, output_attentions, use_cache)\u001b[0m\n\u001b[1;32m    702\u001b[0m         \u001b[0mhidden_states\u001b[0m \u001b[0;34m=\u001b[0m \u001b[0mself\u001b[0m\u001b[0;34m.\u001b[0m\u001b[0mactivation_fn\u001b[0m\u001b[0;34m(\u001b[0m\u001b[0mself\u001b[0m\u001b[0;34m.\u001b[0m\u001b[0mfc1\u001b[0m\u001b[0;34m(\u001b[0m\u001b[0mhidden_states\u001b[0m\u001b[0;34m)\u001b[0m\u001b[0;34m)\u001b[0m\u001b[0;34m\u001b[0m\u001b[0;34m\u001b[0m\u001b[0m\n\u001b[1;32m    703\u001b[0m         \u001b[0mhidden_states\u001b[0m \u001b[0;34m=\u001b[0m \u001b[0mnn\u001b[0m\u001b[0;34m.\u001b[0m\u001b[0mfunctional\u001b[0m\u001b[0;34m.\u001b[0m\u001b[0mdropout\u001b[0m\u001b[0;34m(\u001b[0m\u001b[0mhidden_states\u001b[0m\u001b[0;34m,\u001b[0m \u001b[0mp\u001b[0m\u001b[0;34m=\u001b[0m\u001b[0mself\u001b[0m\u001b[0;34m.\u001b[0m\u001b[0mactivation_dropout\u001b[0m\u001b[0;34m,\u001b[0m \u001b[0mtraining\u001b[0m\u001b[0;34m=\u001b[0m\u001b[0mself\u001b[0m\u001b[0;34m.\u001b[0m\u001b[0mtraining\u001b[0m\u001b[0;34m)\u001b[0m\u001b[0;34m\u001b[0m\u001b[0;34m\u001b[0m\u001b[0m\n\u001b[0;32m--> 704\u001b[0;31m         \u001b[0mhidden_states\u001b[0m \u001b[0;34m=\u001b[0m \u001b[0mself\u001b[0m\u001b[0;34m.\u001b[0m\u001b[0mfc2\u001b[0m\u001b[0;34m(\u001b[0m\u001b[0mhidden_states\u001b[0m\u001b[0;34m)\u001b[0m\u001b[0;34m\u001b[0m\u001b[0;34m\u001b[0m\u001b[0m\n\u001b[0m\u001b[1;32m    705\u001b[0m         \u001b[0mhidden_states\u001b[0m \u001b[0;34m=\u001b[0m \u001b[0mnn\u001b[0m\u001b[0;34m.\u001b[0m\u001b[0mfunctional\u001b[0m\u001b[0;34m.\u001b[0m\u001b[0mdropout\u001b[0m\u001b[0;34m(\u001b[0m\u001b[0mhidden_states\u001b[0m\u001b[0;34m,\u001b[0m \u001b[0mp\u001b[0m\u001b[0;34m=\u001b[0m\u001b[0mself\u001b[0m\u001b[0;34m.\u001b[0m\u001b[0mdropout\u001b[0m\u001b[0;34m,\u001b[0m \u001b[0mtraining\u001b[0m\u001b[0;34m=\u001b[0m\u001b[0mself\u001b[0m\u001b[0;34m.\u001b[0m\u001b[0mtraining\u001b[0m\u001b[0;34m)\u001b[0m\u001b[0;34m\u001b[0m\u001b[0;34m\u001b[0m\u001b[0m\n\u001b[1;32m    706\u001b[0m         \u001b[0mhidden_states\u001b[0m \u001b[0;34m=\u001b[0m \u001b[0mresidual\u001b[0m \u001b[0;34m+\u001b[0m \u001b[0mhidden_states\u001b[0m\u001b[0;34m\u001b[0m\u001b[0;34m\u001b[0m\u001b[0m\n",
            "\u001b[0;32m/usr/local/lib/python3.10/dist-packages/torch/nn/modules/module.py\u001b[0m in \u001b[0;36m_wrapped_call_impl\u001b[0;34m(self, *args, **kwargs)\u001b[0m\n\u001b[1;32m   1734\u001b[0m             \u001b[0;32mreturn\u001b[0m \u001b[0mself\u001b[0m\u001b[0;34m.\u001b[0m\u001b[0m_compiled_call_impl\u001b[0m\u001b[0;34m(\u001b[0m\u001b[0;34m*\u001b[0m\u001b[0margs\u001b[0m\u001b[0;34m,\u001b[0m \u001b[0;34m**\u001b[0m\u001b[0mkwargs\u001b[0m\u001b[0;34m)\u001b[0m  \u001b[0;31m# type: ignore[misc]\u001b[0m\u001b[0;34m\u001b[0m\u001b[0;34m\u001b[0m\u001b[0m\n\u001b[1;32m   1735\u001b[0m         \u001b[0;32melse\u001b[0m\u001b[0;34m:\u001b[0m\u001b[0;34m\u001b[0m\u001b[0;34m\u001b[0m\u001b[0m\n\u001b[0;32m-> 1736\u001b[0;31m             \u001b[0;32mreturn\u001b[0m \u001b[0mself\u001b[0m\u001b[0;34m.\u001b[0m\u001b[0m_call_impl\u001b[0m\u001b[0;34m(\u001b[0m\u001b[0;34m*\u001b[0m\u001b[0margs\u001b[0m\u001b[0;34m,\u001b[0m \u001b[0;34m**\u001b[0m\u001b[0mkwargs\u001b[0m\u001b[0;34m)\u001b[0m\u001b[0;34m\u001b[0m\u001b[0;34m\u001b[0m\u001b[0m\n\u001b[0m\u001b[1;32m   1737\u001b[0m \u001b[0;34m\u001b[0m\u001b[0m\n\u001b[1;32m   1738\u001b[0m     \u001b[0;31m# torchrec tests the code consistency with the following code\u001b[0m\u001b[0;34m\u001b[0m\u001b[0;34m\u001b[0m\u001b[0m\n",
            "\u001b[0;32m/usr/local/lib/python3.10/dist-packages/torch/nn/modules/module.py\u001b[0m in \u001b[0;36m_call_impl\u001b[0;34m(self, *args, **kwargs)\u001b[0m\n\u001b[1;32m   1745\u001b[0m                 \u001b[0;32mor\u001b[0m \u001b[0m_global_backward_pre_hooks\u001b[0m \u001b[0;32mor\u001b[0m \u001b[0m_global_backward_hooks\u001b[0m\u001b[0;34m\u001b[0m\u001b[0;34m\u001b[0m\u001b[0m\n\u001b[1;32m   1746\u001b[0m                 or _global_forward_hooks or _global_forward_pre_hooks):\n\u001b[0;32m-> 1747\u001b[0;31m             \u001b[0;32mreturn\u001b[0m \u001b[0mforward_call\u001b[0m\u001b[0;34m(\u001b[0m\u001b[0;34m*\u001b[0m\u001b[0margs\u001b[0m\u001b[0;34m,\u001b[0m \u001b[0;34m**\u001b[0m\u001b[0mkwargs\u001b[0m\u001b[0;34m)\u001b[0m\u001b[0;34m\u001b[0m\u001b[0;34m\u001b[0m\u001b[0m\n\u001b[0m\u001b[1;32m   1748\u001b[0m \u001b[0;34m\u001b[0m\u001b[0m\n\u001b[1;32m   1749\u001b[0m         \u001b[0mresult\u001b[0m \u001b[0;34m=\u001b[0m \u001b[0;32mNone\u001b[0m\u001b[0;34m\u001b[0m\u001b[0;34m\u001b[0m\u001b[0m\n",
            "\u001b[0;32m/usr/local/lib/python3.10/dist-packages/torch/nn/modules/linear.py\u001b[0m in \u001b[0;36mforward\u001b[0;34m(self, input)\u001b[0m\n\u001b[1;32m    123\u001b[0m \u001b[0;34m\u001b[0m\u001b[0m\n\u001b[1;32m    124\u001b[0m     \u001b[0;32mdef\u001b[0m \u001b[0mforward\u001b[0m\u001b[0;34m(\u001b[0m\u001b[0mself\u001b[0m\u001b[0;34m,\u001b[0m \u001b[0minput\u001b[0m\u001b[0;34m:\u001b[0m \u001b[0mTensor\u001b[0m\u001b[0;34m)\u001b[0m \u001b[0;34m->\u001b[0m \u001b[0mTensor\u001b[0m\u001b[0;34m:\u001b[0m\u001b[0;34m\u001b[0m\u001b[0;34m\u001b[0m\u001b[0m\n\u001b[0;32m--> 125\u001b[0;31m         \u001b[0;32mreturn\u001b[0m \u001b[0mF\u001b[0m\u001b[0;34m.\u001b[0m\u001b[0mlinear\u001b[0m\u001b[0;34m(\u001b[0m\u001b[0minput\u001b[0m\u001b[0;34m,\u001b[0m \u001b[0mself\u001b[0m\u001b[0;34m.\u001b[0m\u001b[0mweight\u001b[0m\u001b[0;34m,\u001b[0m \u001b[0mself\u001b[0m\u001b[0;34m.\u001b[0m\u001b[0mbias\u001b[0m\u001b[0;34m)\u001b[0m\u001b[0;34m\u001b[0m\u001b[0;34m\u001b[0m\u001b[0m\n\u001b[0m\u001b[1;32m    126\u001b[0m \u001b[0;34m\u001b[0m\u001b[0m\n\u001b[1;32m    127\u001b[0m     \u001b[0;32mdef\u001b[0m \u001b[0mextra_repr\u001b[0m\u001b[0;34m(\u001b[0m\u001b[0mself\u001b[0m\u001b[0;34m)\u001b[0m \u001b[0;34m->\u001b[0m \u001b[0mstr\u001b[0m\u001b[0;34m:\u001b[0m\u001b[0;34m\u001b[0m\u001b[0;34m\u001b[0m\u001b[0m\n",
            "\u001b[0;31mKeyboardInterrupt\u001b[0m: "
          ]
        }
      ]
    },
    {
      "cell_type": "code",
      "source": [],
      "metadata": {
        "id": "K7sCq_HI7pmw"
      },
      "execution_count": null,
      "outputs": []
    },
    {
      "cell_type": "markdown",
      "source": [
        "pubmed_dataset = Dataset.from_pandas(pubmed_inference_filtered[['input_coref']])"
      ],
      "metadata": {
        "id": "6s-UY1uV9yJb"
      }
    },
    {
      "cell_type": "markdown",
      "source": [
        "pubmed_dataset"
      ],
      "metadata": {
        "id": "8WyPsvW19yJc"
      }
    },
    {
      "cell_type": "markdown",
      "source": [
        "tokenized_pubmed_dataset = pubmed_dataset.map(preprocess_test_data, batched=True)"
      ],
      "metadata": {
        "id": "vFPWq0l09yJc"
      }
    },
    {
      "cell_type": "markdown",
      "source": [
        "class RelationExtractor:\n",
        "    def __init__(self, nlp_scispacy, fcoref_model, rebel_model, rebel_tokenizer, device):\n",
        "        \"\"\"\n",
        "        Initialize the RelationExtractor class with models for coreference, triplet extraction, and data handling.\n",
        "        \"\"\"\n",
        "        self.nlp_scispacy = nlp_scispacy\n",
        "        self.fcoref_model = fcoref_model\n",
        "        self.rebel_model = rebel_model\n",
        "        self.rebel_tokenizer = rebel_tokenizer\n",
        "        self.device = device\n",
        "        self.data = None\n",
        "\n",
        "    def filter_text(self, text):\n",
        "        \"\"\"\n",
        "        Filter and clean the abstract text.\n",
        "        \"\"\"\n",
        "        try:\n",
        "            if type(text) != str:\n",
        "                return ''\n",
        "            if 'abstract' in text:\n",
        "                return text.replace('abstract ', '').strip()\n",
        "            return text.strip()\n",
        "        except Exception as e:\n",
        "            print(f'Error filtering text: {e}')\n",
        "            return ''\n",
        "\n",
        "    ### Data Reading Methods ###\n",
        "    def load_data(self, file_path):\n",
        "        \"\"\"\n",
        "        Load and preprocess data from a JSON file.\n",
        "        \"\"\"\n",
        "        pubmed_inference_data = pd.read_json(file_path)\n",
        "        pubmed_inference_filtered = pubmed_inference_data[['title', 'abstract']]\n",
        "        pubmed_inference_filtered['abstract_updated'] = pubmed_inference_filtered['abstract'].apply(self.filter_text)\n",
        "        pubmed_inference_filtered['input'] = (\n",
        "            pubmed_inference_filtered['title'] + \" \" + pubmed_inference_filtered['abstract_updated']\n",
        "        )\n",
        "        self.data = pubmed_inference_filtered\n",
        "        return pubmed_inference_filtered\n",
        "\n",
        "    ### Coreference Resolution Methods ###\n",
        "    def core_logic_part(self, document: Doc, coref: list[int], resolved: list[str], mention_span: Span):\n",
        "        final_token = document[coref[1]]\n",
        "        if final_token.tag_ in [\"PRP$\", \"POS\"]:\n",
        "            resolved[coref[0]] = mention_span.text + \"'s\" + final_token.whitespace_\n",
        "        else:\n",
        "            resolved[coref[0]] = mention_span.text + final_token.whitespace_\n",
        "        for i in range(coref[0] + 1, coref[1] + 1):\n",
        "            resolved[i] = \"\"\n",
        "        return resolved\n",
        "\n",
        "    def get_span_noun_indices(self, doc: Doc, cluster: list[list[int]]) -> list[int]:\n",
        "        try:\n",
        "            spans = [doc[span[0]:span[1] + 1] for span in cluster]\n",
        "            spans_pos = [[token.pos_ for token in span] for span in spans]\n",
        "            span_noun_indices = [\n",
        "                i for i, span_pos in enumerate(spans_pos)\n",
        "                if any(pos in span_pos for pos in ['NOUN', 'PROPN'])\n",
        "            ]\n",
        "            return span_noun_indices\n",
        "        except Exception as e:\n",
        "            print(f'Error while getting span noun indices: {e}')\n",
        "            return []\n",
        "\n",
        "    def get_cluster_head(self, doc: Doc, cluster: list[list[int]], noun_indices: list[int]):\n",
        "        head_idx = noun_indices[0]\n",
        "        head_start, head_end = cluster[head_idx]\n",
        "        head_span = doc[head_start:head_end + 1]\n",
        "        return head_span, [head_start, head_end]\n",
        "\n",
        "    def is_containing_other_spans(self, span: list[int], all_spans: list[list[int]]):\n",
        "        return any([s[0] >= span[0] and s[1] <= span[1] and s != span for s in all_spans])\n",
        "\n",
        "    def improved_replace_corefs(self, document, clusters):\n",
        "        resolved = list(tok.text_with_ws for tok in document)\n",
        "        all_spans = [span for cluster in clusters for span in cluster]\n",
        "\n",
        "        for cluster in clusters:\n",
        "            noun_indices = self.get_span_noun_indices(document, cluster)\n",
        "\n",
        "            if noun_indices:\n",
        "                mention_span, mention = self.get_cluster_head(document, cluster, noun_indices)\n",
        "\n",
        "                for coref in cluster:\n",
        "                    if coref != mention and not self.is_containing_other_spans(coref, all_spans):\n",
        "                        self.core_logic_part(document, coref, resolved, mention_span)\n",
        "\n",
        "        return \"\".join(resolved)\n",
        "\n",
        "    def get_fast_cluster_spans(self, doc, clusters):\n",
        "        fast_clusters = []\n",
        "        for cluster in clusters:\n",
        "            new_group = []\n",
        "            for span_tuple in cluster:\n",
        "                (start, end) = span_tuple\n",
        "                span = doc.char_span(start, end)\n",
        "                if span:\n",
        "                    new_group.append([span.start, span.end - 1])\n",
        "            fast_clusters.append(new_group)\n",
        "        return fast_clusters\n",
        "\n",
        "    def get_fastcoref_clusters(self, doc, text):\n",
        "        try:\n",
        "            preds = self.fcoref_model.predict(texts=[text])\n",
        "            fast_clusters = preds[0].get_clusters(as_strings=False)\n",
        "            fast_cluster_spans = self.get_fast_cluster_spans(doc, fast_clusters)\n",
        "        except Exception as e:\n",
        "            print(f'Error while getting coreference clusters: {e}')\n",
        "            return text\n",
        "        return fast_cluster_spans\n",
        "\n",
        "    def perform_coreference_resolution(self, text):\n",
        "        \"\"\"\n",
        "        Perform coreference resolution on the input text.\n",
        "        \"\"\"\n",
        "        doc = self.nlp_scispacy(text)\n",
        "        clusters = self.get_fastcoref_clusters(doc, text)\n",
        "        coref_text = self.improved_replace_corefs(doc, clusters)\n",
        "        return coref_text\n",
        "\n",
        "    ### Triplet Extraction Methods ###\n",
        "    def extract_triplets(self, decoded_string):\n",
        "        \"\"\"\n",
        "        Extract triplets from the decoded string.\n",
        "        \"\"\"\n",
        "        decoded_str_copy = decoded_string\n",
        "        if '<s>' in decoded_string:\n",
        "            decoded_str_copy = ''.join(decoded_string.split('<s>')[1:])\n",
        "            decoded_str_copy = decoded_str_copy.split('</s>')[0]\n",
        "\n",
        "        triplets = []\n",
        "        parts = decoded_str_copy.split(\"<triplet>\")\n",
        "\n",
        "        for part in parts[1:]:\n",
        "            head, *relations = part.split(\"<subj>\")\n",
        "            head = head.strip()\n",
        "\n",
        "            for relation in relations:\n",
        "                if \"<obj>\" in relation:\n",
        "                    subj, obj = relation.split(\"<obj>\", 1)\n",
        "                    triplets.append((head, subj.strip(), obj.strip()))\n",
        "\n",
        "        return triplets\n",
        "\n",
        "    def perform_inference(self, text):\n",
        "        \"\"\"\n",
        "        Perform inference to extract triplets from the input text.\n",
        "        \"\"\"\n",
        "        extracted_triplets = []\n",
        "        for sentence in text.split('. '):\n",
        "            inputs = self.rebel_tokenizer(\n",
        "                sentence, return_tensors=\"pt\", truncation=True, max_length=512\n",
        "            ).to(self.device)\n",
        "            outputs = self.rebel_model.generate(**inputs)\n",
        "            decoded_output = self.rebel_tokenizer.decode(outputs[0], skip_special_tokens=False)\n",
        "            triplets = list(set(self.extract_triplets(decoded_output)))\n",
        "            if triplets:\n",
        "                extracted_triplets.extend(triplets)\n",
        "\n",
        "        return extracted_triplets\n",
        "\n",
        "    def aggregate_triplets(self, input_texts):\n",
        "        \"\"\"\n",
        "        Aggregate triplets for a collection of texts.\n",
        "        \"\"\"\n",
        "        aggregated_triplets = []\n",
        "        \n",
        "        for text in input_texts:\n",
        "            coref_text = self.perform_coreference_resolution(text)\n",
        "            triplets = self.perform_inference(coref_text)\n",
        "            aggregated_triplets.extend(triplets)\n",
        "        return list(set(aggregated_triplets))\n",
        "\n",
        "    def write_triplets_to_file(self, aggregated_triplets, file_path):\n",
        "        \"\"\"\n",
        "        Write aggregated triplets to a text file.\n",
        "        \"\"\"\n",
        "        with open(file_path, \"w\") as f:\n",
        "            for triplet in aggregated_triplets:\n",
        "                f.write(f\"{triplet}\\n\")\n"
      ],
      "metadata": {
        "id": "HeCU2hrSUK14"
      }
    }
  ]
}