{
  "nbformat": 4,
  "nbformat_minor": 0,
  "metadata": {
    "colab": {
      "provenance": [],
      "mount_file_id": "16o0vzQjWKjXYIUBHy529zv7Hr4LNIxjr",
      "authorship_tag": "ABX9TyN3oce6dr7nrPx2ynSwfilr",
      "include_colab_link": true
    },
    "kernelspec": {
      "name": "python3",
      "display_name": "Python 3"
    },
    "language_info": {
      "name": "python"
    },
    "widgets": {
      "application/vnd.jupyter.widget-state+json": {
        "7fc2ac620aac40fc90aedf3c769a798b": {
          "model_module": "@jupyter-widgets/controls",
          "model_name": "HBoxModel",
          "model_module_version": "1.5.0",
          "state": {
            "_dom_classes": [],
            "_model_module": "@jupyter-widgets/controls",
            "_model_module_version": "1.5.0",
            "_model_name": "HBoxModel",
            "_view_count": null,
            "_view_module": "@jupyter-widgets/controls",
            "_view_module_version": "1.5.0",
            "_view_name": "HBoxView",
            "box_style": "",
            "children": [
              "IPY_MODEL_1e5388cf53ea4ad0a6b3a12db3f6377d",
              "IPY_MODEL_7633bd2bca6942448722e56d35942747",
              "IPY_MODEL_825a7d30bd8a41fe8c27e921e28cf055"
            ],
            "layout": "IPY_MODEL_05baa7e179c247d9ac61b45b93d35503"
          }
        },
        "1e5388cf53ea4ad0a6b3a12db3f6377d": {
          "model_module": "@jupyter-widgets/controls",
          "model_name": "HTMLModel",
          "model_module_version": "1.5.0",
          "state": {
            "_dom_classes": [],
            "_model_module": "@jupyter-widgets/controls",
            "_model_module_version": "1.5.0",
            "_model_name": "HTMLModel",
            "_view_count": null,
            "_view_module": "@jupyter-widgets/controls",
            "_view_module_version": "1.5.0",
            "_view_name": "HTMLView",
            "description": "",
            "description_tooltip": null,
            "layout": "IPY_MODEL_f7e26d7d358f41dd8bc5880658ea5385",
            "placeholder": "​",
            "style": "IPY_MODEL_11edf74f20d34f5fbac8236d9169b19b",
            "value": "config.json: 100%"
          }
        },
        "7633bd2bca6942448722e56d35942747": {
          "model_module": "@jupyter-widgets/controls",
          "model_name": "FloatProgressModel",
          "model_module_version": "1.5.0",
          "state": {
            "_dom_classes": [],
            "_model_module": "@jupyter-widgets/controls",
            "_model_module_version": "1.5.0",
            "_model_name": "FloatProgressModel",
            "_view_count": null,
            "_view_module": "@jupyter-widgets/controls",
            "_view_module_version": "1.5.0",
            "_view_name": "ProgressView",
            "bar_style": "success",
            "description": "",
            "description_tooltip": null,
            "layout": "IPY_MODEL_eed4bb64c6b046c9aa442ab5cc444ca3",
            "max": 385,
            "min": 0,
            "orientation": "horizontal",
            "style": "IPY_MODEL_9fd14b7f93e04ffbbfbb2a920b3eb7ed",
            "value": 385
          }
        },
        "825a7d30bd8a41fe8c27e921e28cf055": {
          "model_module": "@jupyter-widgets/controls",
          "model_name": "HTMLModel",
          "model_module_version": "1.5.0",
          "state": {
            "_dom_classes": [],
            "_model_module": "@jupyter-widgets/controls",
            "_model_module_version": "1.5.0",
            "_model_name": "HTMLModel",
            "_view_count": null,
            "_view_module": "@jupyter-widgets/controls",
            "_view_module_version": "1.5.0",
            "_view_name": "HTMLView",
            "description": "",
            "description_tooltip": null,
            "layout": "IPY_MODEL_84f411e2ccc240aa965a3e2e5431fe1e",
            "placeholder": "​",
            "style": "IPY_MODEL_9906de0af5d3411ca3db5c2c633deb68",
            "value": " 385/385 [00:00&lt;00:00, 18.3kB/s]"
          }
        },
        "05baa7e179c247d9ac61b45b93d35503": {
          "model_module": "@jupyter-widgets/base",
          "model_name": "LayoutModel",
          "model_module_version": "1.2.0",
          "state": {
            "_model_module": "@jupyter-widgets/base",
            "_model_module_version": "1.2.0",
            "_model_name": "LayoutModel",
            "_view_count": null,
            "_view_module": "@jupyter-widgets/base",
            "_view_module_version": "1.2.0",
            "_view_name": "LayoutView",
            "align_content": null,
            "align_items": null,
            "align_self": null,
            "border": null,
            "bottom": null,
            "display": null,
            "flex": null,
            "flex_flow": null,
            "grid_area": null,
            "grid_auto_columns": null,
            "grid_auto_flow": null,
            "grid_auto_rows": null,
            "grid_column": null,
            "grid_gap": null,
            "grid_row": null,
            "grid_template_areas": null,
            "grid_template_columns": null,
            "grid_template_rows": null,
            "height": null,
            "justify_content": null,
            "justify_items": null,
            "left": null,
            "margin": null,
            "max_height": null,
            "max_width": null,
            "min_height": null,
            "min_width": null,
            "object_fit": null,
            "object_position": null,
            "order": null,
            "overflow": null,
            "overflow_x": null,
            "overflow_y": null,
            "padding": null,
            "right": null,
            "top": null,
            "visibility": null,
            "width": null
          }
        },
        "f7e26d7d358f41dd8bc5880658ea5385": {
          "model_module": "@jupyter-widgets/base",
          "model_name": "LayoutModel",
          "model_module_version": "1.2.0",
          "state": {
            "_model_module": "@jupyter-widgets/base",
            "_model_module_version": "1.2.0",
            "_model_name": "LayoutModel",
            "_view_count": null,
            "_view_module": "@jupyter-widgets/base",
            "_view_module_version": "1.2.0",
            "_view_name": "LayoutView",
            "align_content": null,
            "align_items": null,
            "align_self": null,
            "border": null,
            "bottom": null,
            "display": null,
            "flex": null,
            "flex_flow": null,
            "grid_area": null,
            "grid_auto_columns": null,
            "grid_auto_flow": null,
            "grid_auto_rows": null,
            "grid_column": null,
            "grid_gap": null,
            "grid_row": null,
            "grid_template_areas": null,
            "grid_template_columns": null,
            "grid_template_rows": null,
            "height": null,
            "justify_content": null,
            "justify_items": null,
            "left": null,
            "margin": null,
            "max_height": null,
            "max_width": null,
            "min_height": null,
            "min_width": null,
            "object_fit": null,
            "object_position": null,
            "order": null,
            "overflow": null,
            "overflow_x": null,
            "overflow_y": null,
            "padding": null,
            "right": null,
            "top": null,
            "visibility": null,
            "width": null
          }
        },
        "11edf74f20d34f5fbac8236d9169b19b": {
          "model_module": "@jupyter-widgets/controls",
          "model_name": "DescriptionStyleModel",
          "model_module_version": "1.5.0",
          "state": {
            "_model_module": "@jupyter-widgets/controls",
            "_model_module_version": "1.5.0",
            "_model_name": "DescriptionStyleModel",
            "_view_count": null,
            "_view_module": "@jupyter-widgets/base",
            "_view_module_version": "1.2.0",
            "_view_name": "StyleView",
            "description_width": ""
          }
        },
        "eed4bb64c6b046c9aa442ab5cc444ca3": {
          "model_module": "@jupyter-widgets/base",
          "model_name": "LayoutModel",
          "model_module_version": "1.2.0",
          "state": {
            "_model_module": "@jupyter-widgets/base",
            "_model_module_version": "1.2.0",
            "_model_name": "LayoutModel",
            "_view_count": null,
            "_view_module": "@jupyter-widgets/base",
            "_view_module_version": "1.2.0",
            "_view_name": "LayoutView",
            "align_content": null,
            "align_items": null,
            "align_self": null,
            "border": null,
            "bottom": null,
            "display": null,
            "flex": null,
            "flex_flow": null,
            "grid_area": null,
            "grid_auto_columns": null,
            "grid_auto_flow": null,
            "grid_auto_rows": null,
            "grid_column": null,
            "grid_gap": null,
            "grid_row": null,
            "grid_template_areas": null,
            "grid_template_columns": null,
            "grid_template_rows": null,
            "height": null,
            "justify_content": null,
            "justify_items": null,
            "left": null,
            "margin": null,
            "max_height": null,
            "max_width": null,
            "min_height": null,
            "min_width": null,
            "object_fit": null,
            "object_position": null,
            "order": null,
            "overflow": null,
            "overflow_x": null,
            "overflow_y": null,
            "padding": null,
            "right": null,
            "top": null,
            "visibility": null,
            "width": null
          }
        },
        "9fd14b7f93e04ffbbfbb2a920b3eb7ed": {
          "model_module": "@jupyter-widgets/controls",
          "model_name": "ProgressStyleModel",
          "model_module_version": "1.5.0",
          "state": {
            "_model_module": "@jupyter-widgets/controls",
            "_model_module_version": "1.5.0",
            "_model_name": "ProgressStyleModel",
            "_view_count": null,
            "_view_module": "@jupyter-widgets/base",
            "_view_module_version": "1.2.0",
            "_view_name": "StyleView",
            "bar_color": null,
            "description_width": ""
          }
        },
        "84f411e2ccc240aa965a3e2e5431fe1e": {
          "model_module": "@jupyter-widgets/base",
          "model_name": "LayoutModel",
          "model_module_version": "1.2.0",
          "state": {
            "_model_module": "@jupyter-widgets/base",
            "_model_module_version": "1.2.0",
            "_model_name": "LayoutModel",
            "_view_count": null,
            "_view_module": "@jupyter-widgets/base",
            "_view_module_version": "1.2.0",
            "_view_name": "LayoutView",
            "align_content": null,
            "align_items": null,
            "align_self": null,
            "border": null,
            "bottom": null,
            "display": null,
            "flex": null,
            "flex_flow": null,
            "grid_area": null,
            "grid_auto_columns": null,
            "grid_auto_flow": null,
            "grid_auto_rows": null,
            "grid_column": null,
            "grid_gap": null,
            "grid_row": null,
            "grid_template_areas": null,
            "grid_template_columns": null,
            "grid_template_rows": null,
            "height": null,
            "justify_content": null,
            "justify_items": null,
            "left": null,
            "margin": null,
            "max_height": null,
            "max_width": null,
            "min_height": null,
            "min_width": null,
            "object_fit": null,
            "object_position": null,
            "order": null,
            "overflow": null,
            "overflow_x": null,
            "overflow_y": null,
            "padding": null,
            "right": null,
            "top": null,
            "visibility": null,
            "width": null
          }
        },
        "9906de0af5d3411ca3db5c2c633deb68": {
          "model_module": "@jupyter-widgets/controls",
          "model_name": "DescriptionStyleModel",
          "model_module_version": "1.5.0",
          "state": {
            "_model_module": "@jupyter-widgets/controls",
            "_model_module_version": "1.5.0",
            "_model_name": "DescriptionStyleModel",
            "_view_count": null,
            "_view_module": "@jupyter-widgets/base",
            "_view_module_version": "1.2.0",
            "_view_name": "StyleView",
            "description_width": ""
          }
        },
        "e8f3e7bfcab445df825be3dc305206e0": {
          "model_module": "@jupyter-widgets/controls",
          "model_name": "HBoxModel",
          "model_module_version": "1.5.0",
          "state": {
            "_dom_classes": [],
            "_model_module": "@jupyter-widgets/controls",
            "_model_module_version": "1.5.0",
            "_model_name": "HBoxModel",
            "_view_count": null,
            "_view_module": "@jupyter-widgets/controls",
            "_view_module_version": "1.5.0",
            "_view_name": "HBoxView",
            "box_style": "",
            "children": [
              "IPY_MODEL_b2b50258b19d45f4add5e7d709a2154e",
              "IPY_MODEL_7c62b72f58924f0eb70b69dcbedf11f7",
              "IPY_MODEL_765c6c05c51e486399978462727333df"
            ],
            "layout": "IPY_MODEL_8f88d70ec310404db205917d4b9fa1ed"
          }
        },
        "b2b50258b19d45f4add5e7d709a2154e": {
          "model_module": "@jupyter-widgets/controls",
          "model_name": "HTMLModel",
          "model_module_version": "1.5.0",
          "state": {
            "_dom_classes": [],
            "_model_module": "@jupyter-widgets/controls",
            "_model_module_version": "1.5.0",
            "_model_name": "HTMLModel",
            "_view_count": null,
            "_view_module": "@jupyter-widgets/controls",
            "_view_module_version": "1.5.0",
            "_view_name": "HTMLView",
            "description": "",
            "description_tooltip": null,
            "layout": "IPY_MODEL_80a3b6d000b54623aca7893bba6343c8",
            "placeholder": "​",
            "style": "IPY_MODEL_58258cce50844e9b8c96cef769cbd224",
            "value": "vocab.txt: 100%"
          }
        },
        "7c62b72f58924f0eb70b69dcbedf11f7": {
          "model_module": "@jupyter-widgets/controls",
          "model_name": "FloatProgressModel",
          "model_module_version": "1.5.0",
          "state": {
            "_dom_classes": [],
            "_model_module": "@jupyter-widgets/controls",
            "_model_module_version": "1.5.0",
            "_model_name": "FloatProgressModel",
            "_view_count": null,
            "_view_module": "@jupyter-widgets/controls",
            "_view_module_version": "1.5.0",
            "_view_name": "ProgressView",
            "bar_style": "success",
            "description": "",
            "description_tooltip": null,
            "layout": "IPY_MODEL_7f4deaf55dc34ee89d8f8586d21b4fe7",
            "max": 227845,
            "min": 0,
            "orientation": "horizontal",
            "style": "IPY_MODEL_080a7fbf8c0c412fbd3c94f1d7bbec6f",
            "value": 227845
          }
        },
        "765c6c05c51e486399978462727333df": {
          "model_module": "@jupyter-widgets/controls",
          "model_name": "HTMLModel",
          "model_module_version": "1.5.0",
          "state": {
            "_dom_classes": [],
            "_model_module": "@jupyter-widgets/controls",
            "_model_module_version": "1.5.0",
            "_model_name": "HTMLModel",
            "_view_count": null,
            "_view_module": "@jupyter-widgets/controls",
            "_view_module_version": "1.5.0",
            "_view_name": "HTMLView",
            "description": "",
            "description_tooltip": null,
            "layout": "IPY_MODEL_25d770b5435d46cfa8438caefa2f760f",
            "placeholder": "​",
            "style": "IPY_MODEL_97838bd32f1844849488b4e0a9f89079",
            "value": " 228k/228k [00:00&lt;00:00, 3.54MB/s]"
          }
        },
        "8f88d70ec310404db205917d4b9fa1ed": {
          "model_module": "@jupyter-widgets/base",
          "model_name": "LayoutModel",
          "model_module_version": "1.2.0",
          "state": {
            "_model_module": "@jupyter-widgets/base",
            "_model_module_version": "1.2.0",
            "_model_name": "LayoutModel",
            "_view_count": null,
            "_view_module": "@jupyter-widgets/base",
            "_view_module_version": "1.2.0",
            "_view_name": "LayoutView",
            "align_content": null,
            "align_items": null,
            "align_self": null,
            "border": null,
            "bottom": null,
            "display": null,
            "flex": null,
            "flex_flow": null,
            "grid_area": null,
            "grid_auto_columns": null,
            "grid_auto_flow": null,
            "grid_auto_rows": null,
            "grid_column": null,
            "grid_gap": null,
            "grid_row": null,
            "grid_template_areas": null,
            "grid_template_columns": null,
            "grid_template_rows": null,
            "height": null,
            "justify_content": null,
            "justify_items": null,
            "left": null,
            "margin": null,
            "max_height": null,
            "max_width": null,
            "min_height": null,
            "min_width": null,
            "object_fit": null,
            "object_position": null,
            "order": null,
            "overflow": null,
            "overflow_x": null,
            "overflow_y": null,
            "padding": null,
            "right": null,
            "top": null,
            "visibility": null,
            "width": null
          }
        },
        "80a3b6d000b54623aca7893bba6343c8": {
          "model_module": "@jupyter-widgets/base",
          "model_name": "LayoutModel",
          "model_module_version": "1.2.0",
          "state": {
            "_model_module": "@jupyter-widgets/base",
            "_model_module_version": "1.2.0",
            "_model_name": "LayoutModel",
            "_view_count": null,
            "_view_module": "@jupyter-widgets/base",
            "_view_module_version": "1.2.0",
            "_view_name": "LayoutView",
            "align_content": null,
            "align_items": null,
            "align_self": null,
            "border": null,
            "bottom": null,
            "display": null,
            "flex": null,
            "flex_flow": null,
            "grid_area": null,
            "grid_auto_columns": null,
            "grid_auto_flow": null,
            "grid_auto_rows": null,
            "grid_column": null,
            "grid_gap": null,
            "grid_row": null,
            "grid_template_areas": null,
            "grid_template_columns": null,
            "grid_template_rows": null,
            "height": null,
            "justify_content": null,
            "justify_items": null,
            "left": null,
            "margin": null,
            "max_height": null,
            "max_width": null,
            "min_height": null,
            "min_width": null,
            "object_fit": null,
            "object_position": null,
            "order": null,
            "overflow": null,
            "overflow_x": null,
            "overflow_y": null,
            "padding": null,
            "right": null,
            "top": null,
            "visibility": null,
            "width": null
          }
        },
        "58258cce50844e9b8c96cef769cbd224": {
          "model_module": "@jupyter-widgets/controls",
          "model_name": "DescriptionStyleModel",
          "model_module_version": "1.5.0",
          "state": {
            "_model_module": "@jupyter-widgets/controls",
            "_model_module_version": "1.5.0",
            "_model_name": "DescriptionStyleModel",
            "_view_count": null,
            "_view_module": "@jupyter-widgets/base",
            "_view_module_version": "1.2.0",
            "_view_name": "StyleView",
            "description_width": ""
          }
        },
        "7f4deaf55dc34ee89d8f8586d21b4fe7": {
          "model_module": "@jupyter-widgets/base",
          "model_name": "LayoutModel",
          "model_module_version": "1.2.0",
          "state": {
            "_model_module": "@jupyter-widgets/base",
            "_model_module_version": "1.2.0",
            "_model_name": "LayoutModel",
            "_view_count": null,
            "_view_module": "@jupyter-widgets/base",
            "_view_module_version": "1.2.0",
            "_view_name": "LayoutView",
            "align_content": null,
            "align_items": null,
            "align_self": null,
            "border": null,
            "bottom": null,
            "display": null,
            "flex": null,
            "flex_flow": null,
            "grid_area": null,
            "grid_auto_columns": null,
            "grid_auto_flow": null,
            "grid_auto_rows": null,
            "grid_column": null,
            "grid_gap": null,
            "grid_row": null,
            "grid_template_areas": null,
            "grid_template_columns": null,
            "grid_template_rows": null,
            "height": null,
            "justify_content": null,
            "justify_items": null,
            "left": null,
            "margin": null,
            "max_height": null,
            "max_width": null,
            "min_height": null,
            "min_width": null,
            "object_fit": null,
            "object_position": null,
            "order": null,
            "overflow": null,
            "overflow_x": null,
            "overflow_y": null,
            "padding": null,
            "right": null,
            "top": null,
            "visibility": null,
            "width": null
          }
        },
        "080a7fbf8c0c412fbd3c94f1d7bbec6f": {
          "model_module": "@jupyter-widgets/controls",
          "model_name": "ProgressStyleModel",
          "model_module_version": "1.5.0",
          "state": {
            "_model_module": "@jupyter-widgets/controls",
            "_model_module_version": "1.5.0",
            "_model_name": "ProgressStyleModel",
            "_view_count": null,
            "_view_module": "@jupyter-widgets/base",
            "_view_module_version": "1.2.0",
            "_view_name": "StyleView",
            "bar_color": null,
            "description_width": ""
          }
        },
        "25d770b5435d46cfa8438caefa2f760f": {
          "model_module": "@jupyter-widgets/base",
          "model_name": "LayoutModel",
          "model_module_version": "1.2.0",
          "state": {
            "_model_module": "@jupyter-widgets/base",
            "_model_module_version": "1.2.0",
            "_model_name": "LayoutModel",
            "_view_count": null,
            "_view_module": "@jupyter-widgets/base",
            "_view_module_version": "1.2.0",
            "_view_name": "LayoutView",
            "align_content": null,
            "align_items": null,
            "align_self": null,
            "border": null,
            "bottom": null,
            "display": null,
            "flex": null,
            "flex_flow": null,
            "grid_area": null,
            "grid_auto_columns": null,
            "grid_auto_flow": null,
            "grid_auto_rows": null,
            "grid_column": null,
            "grid_gap": null,
            "grid_row": null,
            "grid_template_areas": null,
            "grid_template_columns": null,
            "grid_template_rows": null,
            "height": null,
            "justify_content": null,
            "justify_items": null,
            "left": null,
            "margin": null,
            "max_height": null,
            "max_width": null,
            "min_height": null,
            "min_width": null,
            "object_fit": null,
            "object_position": null,
            "order": null,
            "overflow": null,
            "overflow_x": null,
            "overflow_y": null,
            "padding": null,
            "right": null,
            "top": null,
            "visibility": null,
            "width": null
          }
        },
        "97838bd32f1844849488b4e0a9f89079": {
          "model_module": "@jupyter-widgets/controls",
          "model_name": "DescriptionStyleModel",
          "model_module_version": "1.5.0",
          "state": {
            "_model_module": "@jupyter-widgets/controls",
            "_model_module_version": "1.5.0",
            "_model_name": "DescriptionStyleModel",
            "_view_count": null,
            "_view_module": "@jupyter-widgets/base",
            "_view_module_version": "1.2.0",
            "_view_name": "StyleView",
            "description_width": ""
          }
        }
      }
    }
  },
  "cells": [
    {
      "cell_type": "markdown",
      "metadata": {
        "id": "view-in-github",
        "colab_type": "text"
      },
      "source": [
        "<a href=\"https://colab.research.google.com/github/Abhijith-Nagarajan/CS_546_Project/blob/feature%2Fquery-classification%2Fllm-based/models/Query_Classification.ipynb\" target=\"_parent\"><img src=\"https://colab.research.google.com/assets/colab-badge.svg\" alt=\"Open In Colab\"/></a>"
      ]
    },
    {
      "cell_type": "markdown",
      "source": [
        "### Libraries"
      ],
      "metadata": {
        "id": "3ol2hJORIC9I"
      }
    },
    {
      "cell_type": "code",
      "source": [
        "!pip3 install datasets"
      ],
      "metadata": {
        "id": "EelS2pg6aYFi",
        "collapsed": true
      },
      "execution_count": null,
      "outputs": []
    },
    {
      "cell_type": "code",
      "source": [
        "from google.colab import drive"
      ],
      "metadata": {
        "id": "3BdGhB0JrX3x"
      },
      "execution_count": null,
      "outputs": []
    },
    {
      "cell_type": "code",
      "source": [
        "drive.mount(\"/content/drive\")"
      ],
      "metadata": {
        "id": "2PpLjUI5raLG"
      },
      "execution_count": null,
      "outputs": []
    },
    {
      "cell_type": "markdown",
      "source": [
        "<h3> Installing the required libraries </h3>\n",
        "\n",
        "<p>\n",
        "    package_directory = r'/content/drive/MyDrive/CS_546_Project_Dependencies/lib/python3.10/site-packages' <br>\n",
        "    <ol>\n",
        "        <li> !pip install virtualenv </li>\n",
        "        <li> !pip install scispacy --target=$package_directory </li>\n",
        "        <li> !pip install https://s3-us-west-2.amazonaws.com/ai2-s2-scispacy/releases/v0.5.4/en_core_sci_md-0.5.4.tar.gz --target=$package_directory </li>\n",
        "        <li> !pip install groq --target=$package_directory </li>\n",
        "    </ol>\n",
        "\n",
        "Setting the virtual environment:<br>\n",
        "import virtualenv <br>\n",
        "!virtualenv /content/drive/MyDrive/CS_546_Project_Dependencies <br>\n",
        "!source /content/drive/MyDrive/CS_546_Project_Dependencies/bin/activate\n",
        "</p>\n",
        "\n",
        "\n"
      ],
      "metadata": {
        "id": "hZCrqvqTAEqQ"
      }
    },
    {
      "cell_type": "markdown",
      "source": [
        "#### Installing packages"
      ],
      "metadata": {
        "id": "dk4cPuz_BE8V"
      }
    },
    {
      "cell_type": "code",
      "source": [
        "package_directory = r'/content/drive/MyDrive/CS_546_Project_Dependencies/lib/python3.10/site-packages'"
      ],
      "metadata": {
        "id": "ljVjdYjF8vdW"
      },
      "execution_count": null,
      "outputs": []
    },
    {
      "cell_type": "code",
      "source": [
        "!pip install scispacy --target=$package_directory"
      ],
      "metadata": {
        "collapsed": true,
        "id": "7fy_jk7bkx0v"
      },
      "execution_count": null,
      "outputs": []
    },
    {
      "cell_type": "code",
      "source": [
        "!pip install https://s3-us-west-2.amazonaws.com/ai2-s2-scispacy/releases/v0.5.4/en_core_sci_md-0.5.4.tar.gz --target=$package_directory"
      ],
      "metadata": {
        "collapsed": true,
        "id": "VkeogNPZm0pn"
      },
      "execution_count": null,
      "outputs": []
    },
    {
      "cell_type": "code",
      "source": [
        "!pip install groq --target=$package_directory"
      ],
      "metadata": {
        "id": "mb8CJbZV1VOy",
        "collapsed": true
      },
      "execution_count": null,
      "outputs": []
    },
    {
      "cell_type": "code",
      "source": [
        "!pip install langchain --target=$package_directory"
      ],
      "metadata": {
        "id": "ocCsyihu0Ska"
      },
      "execution_count": null,
      "outputs": []
    },
    {
      "cell_type": "code",
      "source": [
        "!pip install langchain-groq --target=$package_directory"
      ],
      "metadata": {
        "id": "q3t_iwWszYN8"
      },
      "execution_count": null,
      "outputs": []
    },
    {
      "cell_type": "markdown",
      "source": [
        "#### Importing libraries"
      ],
      "metadata": {
        "id": "71M5tQ1hBKsi"
      }
    },
    {
      "cell_type": "code",
      "source": [
        "import sys\n",
        "sys.path.append(\"/content/drive/MyDrive/CS_546_Project_Dependencies/lib/python3.10/site-packages\")"
      ],
      "metadata": {
        "id": "TQ4xOkBrsxfd"
      },
      "execution_count": 1,
      "outputs": []
    },
    {
      "cell_type": "code",
      "source": [
        "import pandas as pd\n",
        "import numpy as np\n",
        "import re\n",
        "import torch.nn as nn\n",
        "import torch.optim as optim\n",
        "import networkx as nx\n",
        "import matplotlib.pyplot as plt\n",
        "import spacy\n",
        "from spacy import displacy"
      ],
      "metadata": {
        "id": "g377k10p_Ngq"
      },
      "execution_count": 2,
      "outputs": []
    },
    {
      "cell_type": "code",
      "execution_count": 3,
      "metadata": {
        "id": "lZMCUqjTY_HR"
      },
      "outputs": [],
      "source": [
        "from transformers import AutoTokenizer, AutoModelForSequenceClassification, TrainingArguments, Trainer"
      ]
    },
    {
      "cell_type": "code",
      "source": [
        "import en_core_sci_md"
      ],
      "metadata": {
        "id": "ijP1BzPqqSai"
      },
      "execution_count": 4,
      "outputs": []
    },
    {
      "cell_type": "code",
      "source": [
        "from langchain.chains import LLMChain\n",
        "from langchain.chains.conversation.memory import ConversationBufferWindowMemory\n",
        "from langchain_core.prompts import ChatPromptTemplate,HumanMessagePromptTemplate,MessagesPlaceholder\n",
        "from langchain_core.messages import SystemMessage\n",
        "from langchain_groq import ChatGroq"
      ],
      "metadata": {
        "id": "mSSKGfTH0cmv"
      },
      "execution_count": 5,
      "outputs": []
    },
    {
      "cell_type": "code",
      "source": [
        "from groq import Groq"
      ],
      "metadata": {
        "id": "sLiPgzJA0-ei"
      },
      "execution_count": 6,
      "outputs": []
    },
    {
      "cell_type": "code",
      "source": [
        "#nlp = spacy.load('en_core_web_sm')"
      ],
      "metadata": {
        "id": "v3RcAj7zKryZ"
      },
      "execution_count": null,
      "outputs": []
    },
    {
      "cell_type": "code",
      "source": [
        "nlp = spacy.load('en_core_sci_md')"
      ],
      "metadata": {
        "id": "XN4JoaeZSMPY",
        "colab": {
          "base_uri": "https://localhost:8080/"
        },
        "outputId": "f13f9693-54f5-42be-8206-9cd29b2d47d8"
      },
      "execution_count": 7,
      "outputs": [
        {
          "output_type": "stream",
          "name": "stderr",
          "text": [
            "/usr/local/lib/python3.10/dist-packages/spacy/language.py:2195: FutureWarning: Possible set union at position 6328\n",
            "  deserializers[\"tokenizer\"] = lambda p: self.tokenizer.from_disk(  # type: ignore[union-attr]\n"
          ]
        }
      ]
    },
    {
      "cell_type": "markdown",
      "source": [
        "### Manipulating the dataset"
      ],
      "metadata": {
        "id": "1zoF5AMQH8VO"
      }
    },
    {
      "cell_type": "code",
      "source": [
        "bioasq_dataset = pd.read_json('training12b_new.json')"
      ],
      "metadata": {
        "id": "LZcHv8JrQn7T"
      },
      "execution_count": 8,
      "outputs": []
    },
    {
      "cell_type": "code",
      "source": [
        "def get_required_fields(item: dict):\n",
        "    try:\n",
        "        question = item['body']\n",
        "        question_type = item['type']\n",
        "    except:\n",
        "        return 'Error: Could not find body or type'\n",
        "    return [question, question_type]"
      ],
      "metadata": {
        "id": "b7X5GjjSEHUu"
      },
      "execution_count": 9,
      "outputs": []
    },
    {
      "cell_type": "code",
      "source": [
        "df = bioasq_dataset.questions.map(lambda item: get_required_fields(item))"
      ],
      "metadata": {
        "id": "95tINXAmEZDj"
      },
      "execution_count": 10,
      "outputs": []
    },
    {
      "cell_type": "code",
      "source": [
        "df = pd.DataFrame(df.tolist(), columns=['question', 'question_type'])"
      ],
      "metadata": {
        "id": "LP7_OTr7Ep61"
      },
      "execution_count": 11,
      "outputs": []
    },
    {
      "cell_type": "code",
      "source": [
        "for q_type in df.question_type.unique():\n",
        "    print(f'Processing {q_type}')\n",
        "    q = df[df.question_type==q_type].sample(5)\n",
        "    print(q,\"\\n\")"
      ],
      "metadata": {
        "colab": {
          "base_uri": "https://localhost:8080/"
        },
        "id": "cOQyFi2vE9k4",
        "outputId": "03f24f71-1c42-481f-ea92-73d6855274cf"
      },
      "execution_count": 12,
      "outputs": [
        {
          "output_type": "stream",
          "name": "stdout",
          "text": [
            "Processing summary\n",
            "                                               question question_type\n",
            "1872                        What is adhesive capsulitis       summary\n",
            "4986                   What is the use of darolutamide?       summary\n",
            "1403  Which is the localization of the RIFIN family ...       summary\n",
            "1269  Which is the molecular function of the protein...       summary\n",
            "3105    What is the mechanism of action of cariprazine?       summary \n",
            "\n",
            "Processing list\n",
            "                                               question question_type\n",
            "4816  What are the major thrombotic complications in...          list\n",
            "3409            Which tissues express the ACE2 protein?          list\n",
            "123   Which genes have been associated with Cerebral...          list\n",
            "4515  Which small molecules inhibit the c-Myc/Max di...          list\n",
            "657   List all reported treatment options for anxiet...          list \n",
            "\n",
            "Processing yesno\n",
            "                                               question question_type\n",
            "993   Are there clinical trials using stem cells for...         yesno\n",
            "724   Are there any clinical trials of the effect of...         yesno\n",
            "1329  Is p100 the precursor protein molecule of the ...         yesno\n",
            "2671  Is a mutation of the  ZIKV's membrane protein ...         yesno\n",
            "3483              Is Ubrogepant effective for migraine?         yesno \n",
            "\n",
            "Processing factoid\n",
            "                                               question question_type\n",
            "2597  What is the association of the protein RAB10 a...       factoid\n",
            "4663         Is METTL3 an m6A writer, reader or eraser?       factoid\n",
            "1008  Which inherited disorder is known to be caused...       factoid\n",
            "3939  What is the main manifestation of Liebenberg s...       factoid\n",
            "1338  What is the usual HER-2 status in breast cance...       factoid \n",
            "\n"
          ]
        }
      ]
    },
    {
      "cell_type": "code",
      "source": [
        "def get_query_doc_root(query: str) -> tuple:\n",
        "    document = nlp(query)\n",
        "    root_token = [token for token in document if token.dep_ == \"ROOT\"][0]\n",
        "\n",
        "    return (document, root_token)"
      ],
      "metadata": {
        "id": "VQpZf_WhNul9"
      },
      "execution_count": 13,
      "outputs": []
    },
    {
      "cell_type": "code",
      "source": [
        "result = df['question'].apply(lambda query: get_query_doc_root(query))"
      ],
      "metadata": {
        "id": "m5NB3RXHOwsS"
      },
      "execution_count": 14,
      "outputs": []
    },
    {
      "cell_type": "code",
      "source": [
        "df['document'] = result.apply(lambda tup: tup[0])\n",
        "df['root_token'] = result.apply(lambda tup: tup[1])"
      ],
      "metadata": {
        "id": "eyqbylKYOwc7"
      },
      "execution_count": 15,
      "outputs": []
    },
    {
      "cell_type": "code",
      "source": [
        "df['document'][0]"
      ],
      "metadata": {
        "colab": {
          "base_uri": "https://localhost:8080/"
        },
        "id": "i1PCNpvbApnl",
        "outputId": "daccefec-18f2-4bb4-ac63-00744b049734"
      },
      "execution_count": null,
      "outputs": [
        {
          "output_type": "execute_result",
          "data": {
            "text/plain": [
              "Is Hirschsprung disease a mendelian or a multifactorial disorder?"
            ]
          },
          "metadata": {},
          "execution_count": 21
        }
      ]
    },
    {
      "cell_type": "markdown",
      "source": [
        "<h3> 📢Goal - Perform binary classification to assess whether a query is strongly extractive or not. </h3>\n",
        "\n",
        "<b> 💡Compute the following metrics for each query and map the 4 original categories to be either 0 or 1, with 1 implying strongly extractive.</b>  "
      ],
      "metadata": {
        "id": "zTJeA_K9E2pd"
      }
    },
    {
      "cell_type": "markdown",
      "source": [
        "### Heuristics to identify nature of query\n",
        "\n",
        "1. Query keywords and length\n",
        "    1. Absence of hypothetical knowledge or actionable terms\n",
        "    2. Absence of subordinate clauses\n",
        "    3. Coreference and Anaphora\n",
        "2. Dependency Depth - Dependency Parsing\n",
        "3. Number of entities and types of entities\n",
        "4. Relation to prior knowledge/assumption\n",
        "\n",
        "\n"
      ],
      "metadata": {
        "id": "dqUDve2Ue_ey"
      }
    },
    {
      "cell_type": "markdown",
      "source": [
        "#### Topic 1: (A) Query Keywords"
      ],
      "metadata": {
        "id": "HIEVmJ3sr0Rm"
      }
    },
    {
      "cell_type": "code",
      "source": [
        "sentence = \"What gene is response for cancer?\"\n",
        "print('True') if 'response cancer' in sentence else print('False')"
      ],
      "metadata": {
        "colab": {
          "base_uri": "https://localhost:8080/"
        },
        "id": "oFQlLQY6HAaZ",
        "outputId": "9dd38d06-c3ae-49f8-b87e-93c2ae84c1ab"
      },
      "execution_count": null,
      "outputs": [
        {
          "output_type": "stream",
          "name": "stdout",
          "text": [
            "False\n"
          ]
        }
      ]
    },
    {
      "cell_type": "code",
      "source": [
        "def extract_keywords(document: spacy.tokens.doc.Doc, factual_keywords: list = None, query_keywords: list = None,\n",
        "                     hypothetical_keywords: list = None) -> bool:\n",
        "    '''\n",
        "    The objective of this function is to analyze the query for the following keywords which indicate a strong extractive query.\n",
        "\n",
        "    Strong indicators - For all these categories - Return True:\n",
        "        (A) Factual Keywords - List, Define, Name, Identify\n",
        "        (B) Query Keywords - Where, When, Who\n",
        "        (C) Absence of Hypothetical keywords - Could, Would, Should, Might, If\n",
        "        (D) Superlative keywords - most, best, worst, highest, lowest\n",
        "\n",
        "    Requires additional heuristics - Return False:\n",
        "        (A) Yes/No questions - Is, Does, Are, Can\n",
        "        (B) Query Keywords - What is, Which, How does (+H)\n",
        "\n",
        "    '''\n",
        "    if factual_keywords is None:\n",
        "        factual_keywords = ['list', 'define', 'name', 'identify','find']\n",
        "\n",
        "    if query_keywords is None:\n",
        "        query_keywords = ['what is', 'what are', 'which is', 'which are','where','when']\n",
        "\n",
        "    if hypothetical_keywords is None:\n",
        "        hypothetical_keywords = ['could','would','should','can','might','suppose','assume']\n",
        "\n",
        "    if any(keyword in document.text.lower() for keyword in factual_keywords) or (keyword in factual_keywords for keyword in document.text.lower()):\n",
        "        return True\n",
        "    else:\n",
        "         return False\n"
      ],
      "metadata": {
        "id": "J18auhk5r3MS"
      },
      "execution_count": null,
      "outputs": []
    },
    {
      "cell_type": "markdown",
      "source": [
        "#### Topic 2: Dependency Parsing\n",
        "<p> Sample questions to try: <br>\n",
        "    <ol>\n",
        "        <li> Which are the mammalian orthologs of Drosophila Yki? </li>\n",
        "        <li> Is the BAGEL algorithm used for arrayed CRISPR screens?</li>\n",
        "        <li> Which is the  subcellular localization of ERAP2?</li>\n",
        "        <li> Which histone modifications have been associated to alternative splicing?</li>\n",
        "        <li> What role might diet play in influencing gene expression associated with metabolic diseases? </li>\n",
        "        <li> How could prolonged antibiotic use impact gut microbiota diversity, and what are the potential health consequences?</li>\n",
        "    </ol>\n",
        "</p>"
      ],
      "metadata": {
        "id": "ZVTxYGNBfs_S"
      }
    },
    {
      "cell_type": "markdown",
      "source": [
        "##### Computing dependency depth"
      ],
      "metadata": {
        "id": "mrxboAc2FgJk"
      }
    },
    {
      "cell_type": "markdown",
      "source": [
        "def compute_depth(root_token: spacy.tokens.token.Token) -> int:\n",
        "    total_depth = get_depth(root_token)\n",
        "    return total_depth"
      ],
      "metadata": {
        "id": "OZoanZwMOjU1"
      }
    },
    {
      "cell_type": "code",
      "source": [
        "def get_depth(root_token: spacy.tokens.token.Token) -> int:\n",
        "    if not list(root_token.children):  # No children implies a leaf node\n",
        "        return 1\n",
        "    return 1 + max(get_depth(child) for child in root_token.children)"
      ],
      "metadata": {
        "id": "TKKkc0psKLcf"
      },
      "execution_count": null,
      "outputs": []
    },
    {
      "cell_type": "code",
      "source": [
        "def display_dependency_depth(document: spacy.tokens.doc.Doc, root_token: spacy.tokens.token.Token, figsize: tuple):\n",
        "    displacy.render(document, style='dep', jupyter=True, options={'distance': 120})\n",
        "\n",
        "    # Plot dependency graph\n",
        "    G = nx.DiGraph()\n",
        "    layers = {}\n",
        "    # Add nodes and edges based on dependency structure\n",
        "    for token in document:\n",
        "        G.add_node(token.text)\n",
        "        if token.dep_ != \"ROOT\":  # If not root, add edge from head to child\n",
        "            G.add_edge(token.head.text, token.text)\n",
        "\n",
        "    for token in document:\n",
        "        layers[token.text] = nx.shortest_path_length(G, source=root_token.text, target=token.text)\n",
        "\n",
        "    pos = nx.spring_layout(G, k=1, seed=42)  # Initial layout\n",
        "\n",
        "    # Adjust y-coordinates to reflect layers for vertical layout\n",
        "    for node, (x, y) in pos.items():\n",
        "        pos[node] = (x, -layers[node])\n",
        "\n",
        "    plt.figure(figsize=figsize)\n",
        "    nx.draw(G,pos,with_labels=True, node_size=2000, node_color=\"lightblue\", font_size=10, font_weight=\"bold\", arrows=True)\n",
        "    plt.title(\"Dependency Tree (Vertical Layout)\")\n",
        "    plt.show()"
      ],
      "metadata": {
        "id": "SXF12kSLkJ--"
      },
      "execution_count": null,
      "outputs": []
    },
    {
      "cell_type": "code",
      "source": [
        "df['dependency_depth'] = df['root_token'].apply(lambda root: get_depth(root))"
      ],
      "metadata": {
        "id": "BibVDq90Jixd"
      },
      "execution_count": null,
      "outputs": []
    },
    {
      "cell_type": "code",
      "source": [
        "df['dependency_depth'].value_counts()"
      ],
      "metadata": {
        "id": "aimuOoH7pnUE",
        "colab": {
          "base_uri": "https://localhost:8080/"
        },
        "outputId": "4e563893-cc94-468b-c381-7aa656df655c"
      },
      "execution_count": null,
      "outputs": [
        {
          "output_type": "execute_result",
          "data": {
            "text/plain": [
              "dependency_depth\n",
              "4     1982\n",
              "3     1623\n",
              "5      826\n",
              "2      333\n",
              "6      217\n",
              "7       53\n",
              "8        9\n",
              "9        5\n",
              "10       1\n",
              "Name: count, dtype: int64"
            ],
            "text/html": [
              "<div>\n",
              "<style scoped>\n",
              "    .dataframe tbody tr th:only-of-type {\n",
              "        vertical-align: middle;\n",
              "    }\n",
              "\n",
              "    .dataframe tbody tr th {\n",
              "        vertical-align: top;\n",
              "    }\n",
              "\n",
              "    .dataframe thead th {\n",
              "        text-align: right;\n",
              "    }\n",
              "</style>\n",
              "<table border=\"1\" class=\"dataframe\">\n",
              "  <thead>\n",
              "    <tr style=\"text-align: right;\">\n",
              "      <th></th>\n",
              "      <th>count</th>\n",
              "    </tr>\n",
              "    <tr>\n",
              "      <th>dependency_depth</th>\n",
              "      <th></th>\n",
              "    </tr>\n",
              "  </thead>\n",
              "  <tbody>\n",
              "    <tr>\n",
              "      <th>4</th>\n",
              "      <td>1982</td>\n",
              "    </tr>\n",
              "    <tr>\n",
              "      <th>3</th>\n",
              "      <td>1623</td>\n",
              "    </tr>\n",
              "    <tr>\n",
              "      <th>5</th>\n",
              "      <td>826</td>\n",
              "    </tr>\n",
              "    <tr>\n",
              "      <th>2</th>\n",
              "      <td>333</td>\n",
              "    </tr>\n",
              "    <tr>\n",
              "      <th>6</th>\n",
              "      <td>217</td>\n",
              "    </tr>\n",
              "    <tr>\n",
              "      <th>7</th>\n",
              "      <td>53</td>\n",
              "    </tr>\n",
              "    <tr>\n",
              "      <th>8</th>\n",
              "      <td>9</td>\n",
              "    </tr>\n",
              "    <tr>\n",
              "      <th>9</th>\n",
              "      <td>5</td>\n",
              "    </tr>\n",
              "    <tr>\n",
              "      <th>10</th>\n",
              "      <td>1</td>\n",
              "    </tr>\n",
              "  </tbody>\n",
              "</table>\n",
              "</div><br><label><b>dtype:</b> int64</label>"
            ]
          },
          "metadata": {},
          "execution_count": 23
        }
      ]
    },
    {
      "cell_type": "code",
      "source": [
        "df_higher_depth = df[df['dependency_depth']>7]"
      ],
      "metadata": {
        "id": "_OM6FqzDnWLo"
      },
      "execution_count": null,
      "outputs": []
    },
    {
      "cell_type": "code",
      "source": [
        "df_higher_depth.head()"
      ],
      "metadata": {
        "colab": {
          "base_uri": "https://localhost:8080/",
          "height": 206
        },
        "id": "-tVodxXKLX_A",
        "outputId": "f1552858-3744-4415-deeb-9e21d6c98b97"
      },
      "execution_count": null,
      "outputs": [
        {
          "output_type": "execute_result",
          "data": {
            "text/plain": [
              "                                               question question_type  \\\n",
              "352   Are there studies representing the involvement...         yesno   \n",
              "790   Is recommended the use of perioperative treatm...         yesno   \n",
              "1051  What is the name of the stem loop present in t...       factoid   \n",
              "1435  What is the idea behind the fractal globule th...       summary   \n",
              "1694  Patients of which disease could be treated by ...       factoid   \n",
              "\n",
              "      dependency_depth  \n",
              "352                 10  \n",
              "790                  9  \n",
              "1051                 9  \n",
              "1435                 9  \n",
              "1694                 9  "
            ],
            "text/html": [
              "\n",
              "  <div id=\"df-4a97af75-afba-41a1-b0f8-6bbda91e1212\" class=\"colab-df-container\">\n",
              "    <div>\n",
              "<style scoped>\n",
              "    .dataframe tbody tr th:only-of-type {\n",
              "        vertical-align: middle;\n",
              "    }\n",
              "\n",
              "    .dataframe tbody tr th {\n",
              "        vertical-align: top;\n",
              "    }\n",
              "\n",
              "    .dataframe thead th {\n",
              "        text-align: right;\n",
              "    }\n",
              "</style>\n",
              "<table border=\"1\" class=\"dataframe\">\n",
              "  <thead>\n",
              "    <tr style=\"text-align: right;\">\n",
              "      <th></th>\n",
              "      <th>question</th>\n",
              "      <th>question_type</th>\n",
              "      <th>dependency_depth</th>\n",
              "    </tr>\n",
              "  </thead>\n",
              "  <tbody>\n",
              "    <tr>\n",
              "      <th>352</th>\n",
              "      <td>Are there studies representing the involvement...</td>\n",
              "      <td>yesno</td>\n",
              "      <td>10</td>\n",
              "    </tr>\n",
              "    <tr>\n",
              "      <th>790</th>\n",
              "      <td>Is recommended the use of perioperative treatm...</td>\n",
              "      <td>yesno</td>\n",
              "      <td>9</td>\n",
              "    </tr>\n",
              "    <tr>\n",
              "      <th>1051</th>\n",
              "      <td>What is the name of the stem loop present in t...</td>\n",
              "      <td>factoid</td>\n",
              "      <td>9</td>\n",
              "    </tr>\n",
              "    <tr>\n",
              "      <th>1435</th>\n",
              "      <td>What is the idea behind the fractal globule th...</td>\n",
              "      <td>summary</td>\n",
              "      <td>9</td>\n",
              "    </tr>\n",
              "    <tr>\n",
              "      <th>1694</th>\n",
              "      <td>Patients of which disease could be treated by ...</td>\n",
              "      <td>factoid</td>\n",
              "      <td>9</td>\n",
              "    </tr>\n",
              "  </tbody>\n",
              "</table>\n",
              "</div>\n",
              "    <div class=\"colab-df-buttons\">\n",
              "\n",
              "  <div class=\"colab-df-container\">\n",
              "    <button class=\"colab-df-convert\" onclick=\"convertToInteractive('df-4a97af75-afba-41a1-b0f8-6bbda91e1212')\"\n",
              "            title=\"Convert this dataframe to an interactive table.\"\n",
              "            style=\"display:none;\">\n",
              "\n",
              "  <svg xmlns=\"http://www.w3.org/2000/svg\" height=\"24px\" viewBox=\"0 -960 960 960\">\n",
              "    <path d=\"M120-120v-720h720v720H120Zm60-500h600v-160H180v160Zm220 220h160v-160H400v160Zm0 220h160v-160H400v160ZM180-400h160v-160H180v160Zm440 0h160v-160H620v160ZM180-180h160v-160H180v160Zm440 0h160v-160H620v160Z\"/>\n",
              "  </svg>\n",
              "    </button>\n",
              "\n",
              "  <style>\n",
              "    .colab-df-container {\n",
              "      display:flex;\n",
              "      gap: 12px;\n",
              "    }\n",
              "\n",
              "    .colab-df-convert {\n",
              "      background-color: #E8F0FE;\n",
              "      border: none;\n",
              "      border-radius: 50%;\n",
              "      cursor: pointer;\n",
              "      display: none;\n",
              "      fill: #1967D2;\n",
              "      height: 32px;\n",
              "      padding: 0 0 0 0;\n",
              "      width: 32px;\n",
              "    }\n",
              "\n",
              "    .colab-df-convert:hover {\n",
              "      background-color: #E2EBFA;\n",
              "      box-shadow: 0px 1px 2px rgba(60, 64, 67, 0.3), 0px 1px 3px 1px rgba(60, 64, 67, 0.15);\n",
              "      fill: #174EA6;\n",
              "    }\n",
              "\n",
              "    .colab-df-buttons div {\n",
              "      margin-bottom: 4px;\n",
              "    }\n",
              "\n",
              "    [theme=dark] .colab-df-convert {\n",
              "      background-color: #3B4455;\n",
              "      fill: #D2E3FC;\n",
              "    }\n",
              "\n",
              "    [theme=dark] .colab-df-convert:hover {\n",
              "      background-color: #434B5C;\n",
              "      box-shadow: 0px 1px 3px 1px rgba(0, 0, 0, 0.15);\n",
              "      filter: drop-shadow(0px 1px 2px rgba(0, 0, 0, 0.3));\n",
              "      fill: #FFFFFF;\n",
              "    }\n",
              "  </style>\n",
              "\n",
              "    <script>\n",
              "      const buttonEl =\n",
              "        document.querySelector('#df-4a97af75-afba-41a1-b0f8-6bbda91e1212 button.colab-df-convert');\n",
              "      buttonEl.style.display =\n",
              "        google.colab.kernel.accessAllowed ? 'block' : 'none';\n",
              "\n",
              "      async function convertToInteractive(key) {\n",
              "        const element = document.querySelector('#df-4a97af75-afba-41a1-b0f8-6bbda91e1212');\n",
              "        const dataTable =\n",
              "          await google.colab.kernel.invokeFunction('convertToInteractive',\n",
              "                                                    [key], {});\n",
              "        if (!dataTable) return;\n",
              "\n",
              "        const docLinkHtml = 'Like what you see? Visit the ' +\n",
              "          '<a target=\"_blank\" href=https://colab.research.google.com/notebooks/data_table.ipynb>data table notebook</a>'\n",
              "          + ' to learn more about interactive tables.';\n",
              "        element.innerHTML = '';\n",
              "        dataTable['output_type'] = 'display_data';\n",
              "        await google.colab.output.renderOutput(dataTable, element);\n",
              "        const docLink = document.createElement('div');\n",
              "        docLink.innerHTML = docLinkHtml;\n",
              "        element.appendChild(docLink);\n",
              "      }\n",
              "    </script>\n",
              "  </div>\n",
              "\n",
              "\n",
              "<div id=\"df-08a4aaa5-8ffc-47d4-8ae6-95b5e24aca1d\">\n",
              "  <button class=\"colab-df-quickchart\" onclick=\"quickchart('df-08a4aaa5-8ffc-47d4-8ae6-95b5e24aca1d')\"\n",
              "            title=\"Suggest charts\"\n",
              "            style=\"display:none;\">\n",
              "\n",
              "<svg xmlns=\"http://www.w3.org/2000/svg\" height=\"24px\"viewBox=\"0 0 24 24\"\n",
              "     width=\"24px\">\n",
              "    <g>\n",
              "        <path d=\"M19 3H5c-1.1 0-2 .9-2 2v14c0 1.1.9 2 2 2h14c1.1 0 2-.9 2-2V5c0-1.1-.9-2-2-2zM9 17H7v-7h2v7zm4 0h-2V7h2v10zm4 0h-2v-4h2v4z\"/>\n",
              "    </g>\n",
              "</svg>\n",
              "  </button>\n",
              "\n",
              "<style>\n",
              "  .colab-df-quickchart {\n",
              "      --bg-color: #E8F0FE;\n",
              "      --fill-color: #1967D2;\n",
              "      --hover-bg-color: #E2EBFA;\n",
              "      --hover-fill-color: #174EA6;\n",
              "      --disabled-fill-color: #AAA;\n",
              "      --disabled-bg-color: #DDD;\n",
              "  }\n",
              "\n",
              "  [theme=dark] .colab-df-quickchart {\n",
              "      --bg-color: #3B4455;\n",
              "      --fill-color: #D2E3FC;\n",
              "      --hover-bg-color: #434B5C;\n",
              "      --hover-fill-color: #FFFFFF;\n",
              "      --disabled-bg-color: #3B4455;\n",
              "      --disabled-fill-color: #666;\n",
              "  }\n",
              "\n",
              "  .colab-df-quickchart {\n",
              "    background-color: var(--bg-color);\n",
              "    border: none;\n",
              "    border-radius: 50%;\n",
              "    cursor: pointer;\n",
              "    display: none;\n",
              "    fill: var(--fill-color);\n",
              "    height: 32px;\n",
              "    padding: 0;\n",
              "    width: 32px;\n",
              "  }\n",
              "\n",
              "  .colab-df-quickchart:hover {\n",
              "    background-color: var(--hover-bg-color);\n",
              "    box-shadow: 0 1px 2px rgba(60, 64, 67, 0.3), 0 1px 3px 1px rgba(60, 64, 67, 0.15);\n",
              "    fill: var(--button-hover-fill-color);\n",
              "  }\n",
              "\n",
              "  .colab-df-quickchart-complete:disabled,\n",
              "  .colab-df-quickchart-complete:disabled:hover {\n",
              "    background-color: var(--disabled-bg-color);\n",
              "    fill: var(--disabled-fill-color);\n",
              "    box-shadow: none;\n",
              "  }\n",
              "\n",
              "  .colab-df-spinner {\n",
              "    border: 2px solid var(--fill-color);\n",
              "    border-color: transparent;\n",
              "    border-bottom-color: var(--fill-color);\n",
              "    animation:\n",
              "      spin 1s steps(1) infinite;\n",
              "  }\n",
              "\n",
              "  @keyframes spin {\n",
              "    0% {\n",
              "      border-color: transparent;\n",
              "      border-bottom-color: var(--fill-color);\n",
              "      border-left-color: var(--fill-color);\n",
              "    }\n",
              "    20% {\n",
              "      border-color: transparent;\n",
              "      border-left-color: var(--fill-color);\n",
              "      border-top-color: var(--fill-color);\n",
              "    }\n",
              "    30% {\n",
              "      border-color: transparent;\n",
              "      border-left-color: var(--fill-color);\n",
              "      border-top-color: var(--fill-color);\n",
              "      border-right-color: var(--fill-color);\n",
              "    }\n",
              "    40% {\n",
              "      border-color: transparent;\n",
              "      border-right-color: var(--fill-color);\n",
              "      border-top-color: var(--fill-color);\n",
              "    }\n",
              "    60% {\n",
              "      border-color: transparent;\n",
              "      border-right-color: var(--fill-color);\n",
              "    }\n",
              "    80% {\n",
              "      border-color: transparent;\n",
              "      border-right-color: var(--fill-color);\n",
              "      border-bottom-color: var(--fill-color);\n",
              "    }\n",
              "    90% {\n",
              "      border-color: transparent;\n",
              "      border-bottom-color: var(--fill-color);\n",
              "    }\n",
              "  }\n",
              "</style>\n",
              "\n",
              "  <script>\n",
              "    async function quickchart(key) {\n",
              "      const quickchartButtonEl =\n",
              "        document.querySelector('#' + key + ' button');\n",
              "      quickchartButtonEl.disabled = true;  // To prevent multiple clicks.\n",
              "      quickchartButtonEl.classList.add('colab-df-spinner');\n",
              "      try {\n",
              "        const charts = await google.colab.kernel.invokeFunction(\n",
              "            'suggestCharts', [key], {});\n",
              "      } catch (error) {\n",
              "        console.error('Error during call to suggestCharts:', error);\n",
              "      }\n",
              "      quickchartButtonEl.classList.remove('colab-df-spinner');\n",
              "      quickchartButtonEl.classList.add('colab-df-quickchart-complete');\n",
              "    }\n",
              "    (() => {\n",
              "      let quickchartButtonEl =\n",
              "        document.querySelector('#df-08a4aaa5-8ffc-47d4-8ae6-95b5e24aca1d button');\n",
              "      quickchartButtonEl.style.display =\n",
              "        google.colab.kernel.accessAllowed ? 'block' : 'none';\n",
              "    })();\n",
              "  </script>\n",
              "</div>\n",
              "\n",
              "    </div>\n",
              "  </div>\n"
            ],
            "application/vnd.google.colaboratory.intrinsic+json": {
              "type": "dataframe",
              "variable_name": "df_longer_questions",
              "summary": "{\n  \"name\": \"df_longer_questions\",\n  \"rows\": 15,\n  \"fields\": [\n    {\n      \"column\": \"question\",\n      \"properties\": {\n        \"dtype\": \"string\",\n        \"num_unique_values\": 15,\n        \"samples\": [\n          \"What are the 3 types of immunoglobulin heavy chain containing antibodies found in human breast milk?\",\n          \"Do RNA binding Proteins  that bind to adenine uridine (AU)-rich elements (AREs) in the 5' untranslated region (UTR) of mRNAs (AU-RBPs) regulate the DNA Damage Response?\",\n          \"Are there studies representing the involvement of Notch mutations in neurodegenerative diseases such as Down syndrome, Pick's and Prion's disease, and cadasil syndrome?\"\n        ],\n        \"semantic_type\": \"\",\n        \"description\": \"\"\n      }\n    },\n    {\n      \"column\": \"question_type\",\n      \"properties\": {\n        \"dtype\": \"category\",\n        \"num_unique_values\": 4,\n        \"samples\": [\n          \"factoid\",\n          \"list\",\n          \"yesno\"\n        ],\n        \"semantic_type\": \"\",\n        \"description\": \"\"\n      }\n    },\n    {\n      \"column\": \"dependency_depth\",\n      \"properties\": {\n        \"dtype\": \"number\",\n        \"std\": 0,\n        \"min\": 8,\n        \"max\": 10,\n        \"num_unique_values\": 3,\n        \"samples\": [\n          10,\n          9,\n          8\n        ],\n        \"semantic_type\": \"\",\n        \"description\": \"\"\n      }\n    }\n  ]\n}"
            }
          },
          "metadata": {},
          "execution_count": 22
        }
      ]
    },
    {
      "cell_type": "code",
      "source": [
        "df_higher_depth.question_type.value_counts()"
      ],
      "metadata": {
        "id": "v8_cyKEPL-d5",
        "outputId": "b45104cf-abf0-46db-85fa-7168b88a6aa9",
        "colab": {
          "base_uri": "https://localhost:8080/",
          "height": 241
        }
      },
      "execution_count": null,
      "outputs": [
        {
          "output_type": "execute_result",
          "data": {
            "text/plain": [
              "question_type\n",
              "yesno      5\n",
              "factoid    5\n",
              "list       4\n",
              "summary    1\n",
              "Name: count, dtype: int64"
            ],
            "text/html": [
              "<div>\n",
              "<style scoped>\n",
              "    .dataframe tbody tr th:only-of-type {\n",
              "        vertical-align: middle;\n",
              "    }\n",
              "\n",
              "    .dataframe tbody tr th {\n",
              "        vertical-align: top;\n",
              "    }\n",
              "\n",
              "    .dataframe thead th {\n",
              "        text-align: right;\n",
              "    }\n",
              "</style>\n",
              "<table border=\"1\" class=\"dataframe\">\n",
              "  <thead>\n",
              "    <tr style=\"text-align: right;\">\n",
              "      <th></th>\n",
              "      <th>count</th>\n",
              "    </tr>\n",
              "    <tr>\n",
              "      <th>question_type</th>\n",
              "      <th></th>\n",
              "    </tr>\n",
              "  </thead>\n",
              "  <tbody>\n",
              "    <tr>\n",
              "      <th>yesno</th>\n",
              "      <td>5</td>\n",
              "    </tr>\n",
              "    <tr>\n",
              "      <th>factoid</th>\n",
              "      <td>5</td>\n",
              "    </tr>\n",
              "    <tr>\n",
              "      <th>list</th>\n",
              "      <td>4</td>\n",
              "    </tr>\n",
              "    <tr>\n",
              "      <th>summary</th>\n",
              "      <td>1</td>\n",
              "    </tr>\n",
              "  </tbody>\n",
              "</table>\n",
              "</div><br><label><b>dtype:</b> int64</label>"
            ]
          },
          "metadata": {},
          "execution_count": 23
        }
      ]
    },
    {
      "cell_type": "code",
      "source": [
        "df_higher_depth[df_higher_depth.question==\"Are there studies representing the involvement of Notch mutations in neurodegenerative diseases such as Down syndrome, Pick's and Prion's disease, and cadasil syndrome?\"]"
      ],
      "metadata": {
        "colab": {
          "base_uri": "https://localhost:8080/",
          "height": 81
        },
        "id": "29HAczj8rPqC",
        "outputId": "6189cd6b-2f52-4441-f6e7-495140255a28"
      },
      "execution_count": null,
      "outputs": [
        {
          "output_type": "execute_result",
          "data": {
            "text/plain": [
              "                                              question question_type  \\\n",
              "352  Are there studies representing the involvement...         yesno   \n",
              "\n",
              "     dependency_depth  \n",
              "352                10  "
            ],
            "text/html": [
              "\n",
              "  <div id=\"df-f7e14abe-8f96-4e67-9ec9-ccfd80778d75\" class=\"colab-df-container\">\n",
              "    <div>\n",
              "<style scoped>\n",
              "    .dataframe tbody tr th:only-of-type {\n",
              "        vertical-align: middle;\n",
              "    }\n",
              "\n",
              "    .dataframe tbody tr th {\n",
              "        vertical-align: top;\n",
              "    }\n",
              "\n",
              "    .dataframe thead th {\n",
              "        text-align: right;\n",
              "    }\n",
              "</style>\n",
              "<table border=\"1\" class=\"dataframe\">\n",
              "  <thead>\n",
              "    <tr style=\"text-align: right;\">\n",
              "      <th></th>\n",
              "      <th>question</th>\n",
              "      <th>question_type</th>\n",
              "      <th>dependency_depth</th>\n",
              "    </tr>\n",
              "  </thead>\n",
              "  <tbody>\n",
              "    <tr>\n",
              "      <th>352</th>\n",
              "      <td>Are there studies representing the involvement...</td>\n",
              "      <td>yesno</td>\n",
              "      <td>10</td>\n",
              "    </tr>\n",
              "  </tbody>\n",
              "</table>\n",
              "</div>\n",
              "    <div class=\"colab-df-buttons\">\n",
              "\n",
              "  <div class=\"colab-df-container\">\n",
              "    <button class=\"colab-df-convert\" onclick=\"convertToInteractive('df-f7e14abe-8f96-4e67-9ec9-ccfd80778d75')\"\n",
              "            title=\"Convert this dataframe to an interactive table.\"\n",
              "            style=\"display:none;\">\n",
              "\n",
              "  <svg xmlns=\"http://www.w3.org/2000/svg\" height=\"24px\" viewBox=\"0 -960 960 960\">\n",
              "    <path d=\"M120-120v-720h720v720H120Zm60-500h600v-160H180v160Zm220 220h160v-160H400v160Zm0 220h160v-160H400v160ZM180-400h160v-160H180v160Zm440 0h160v-160H620v160ZM180-180h160v-160H180v160Zm440 0h160v-160H620v160Z\"/>\n",
              "  </svg>\n",
              "    </button>\n",
              "\n",
              "  <style>\n",
              "    .colab-df-container {\n",
              "      display:flex;\n",
              "      gap: 12px;\n",
              "    }\n",
              "\n",
              "    .colab-df-convert {\n",
              "      background-color: #E8F0FE;\n",
              "      border: none;\n",
              "      border-radius: 50%;\n",
              "      cursor: pointer;\n",
              "      display: none;\n",
              "      fill: #1967D2;\n",
              "      height: 32px;\n",
              "      padding: 0 0 0 0;\n",
              "      width: 32px;\n",
              "    }\n",
              "\n",
              "    .colab-df-convert:hover {\n",
              "      background-color: #E2EBFA;\n",
              "      box-shadow: 0px 1px 2px rgba(60, 64, 67, 0.3), 0px 1px 3px 1px rgba(60, 64, 67, 0.15);\n",
              "      fill: #174EA6;\n",
              "    }\n",
              "\n",
              "    .colab-df-buttons div {\n",
              "      margin-bottom: 4px;\n",
              "    }\n",
              "\n",
              "    [theme=dark] .colab-df-convert {\n",
              "      background-color: #3B4455;\n",
              "      fill: #D2E3FC;\n",
              "    }\n",
              "\n",
              "    [theme=dark] .colab-df-convert:hover {\n",
              "      background-color: #434B5C;\n",
              "      box-shadow: 0px 1px 3px 1px rgba(0, 0, 0, 0.15);\n",
              "      filter: drop-shadow(0px 1px 2px rgba(0, 0, 0, 0.3));\n",
              "      fill: #FFFFFF;\n",
              "    }\n",
              "  </style>\n",
              "\n",
              "    <script>\n",
              "      const buttonEl =\n",
              "        document.querySelector('#df-f7e14abe-8f96-4e67-9ec9-ccfd80778d75 button.colab-df-convert');\n",
              "      buttonEl.style.display =\n",
              "        google.colab.kernel.accessAllowed ? 'block' : 'none';\n",
              "\n",
              "      async function convertToInteractive(key) {\n",
              "        const element = document.querySelector('#df-f7e14abe-8f96-4e67-9ec9-ccfd80778d75');\n",
              "        const dataTable =\n",
              "          await google.colab.kernel.invokeFunction('convertToInteractive',\n",
              "                                                    [key], {});\n",
              "        if (!dataTable) return;\n",
              "\n",
              "        const docLinkHtml = 'Like what you see? Visit the ' +\n",
              "          '<a target=\"_blank\" href=https://colab.research.google.com/notebooks/data_table.ipynb>data table notebook</a>'\n",
              "          + ' to learn more about interactive tables.';\n",
              "        element.innerHTML = '';\n",
              "        dataTable['output_type'] = 'display_data';\n",
              "        await google.colab.output.renderOutput(dataTable, element);\n",
              "        const docLink = document.createElement('div');\n",
              "        docLink.innerHTML = docLinkHtml;\n",
              "        element.appendChild(docLink);\n",
              "      }\n",
              "    </script>\n",
              "  </div>\n",
              "\n",
              "\n",
              "    </div>\n",
              "  </div>\n"
            ],
            "application/vnd.google.colaboratory.intrinsic+json": {
              "type": "dataframe",
              "summary": "{\n  \"name\": \"df_longer_questions[df_longer_questions\",\n  \"rows\": 1,\n  \"fields\": [\n    {\n      \"column\": \"question\",\n      \"properties\": {\n        \"dtype\": \"string\",\n        \"num_unique_values\": 1,\n        \"samples\": [\n          \"Are there studies representing the involvement of Notch mutations in neurodegenerative diseases such as Down syndrome, Pick's and Prion's disease, and cadasil syndrome?\"\n        ],\n        \"semantic_type\": \"\",\n        \"description\": \"\"\n      }\n    },\n    {\n      \"column\": \"question_type\",\n      \"properties\": {\n        \"dtype\": \"string\",\n        \"num_unique_values\": 1,\n        \"samples\": [\n          \"yesno\"\n        ],\n        \"semantic_type\": \"\",\n        \"description\": \"\"\n      }\n    },\n    {\n      \"column\": \"dependency_depth\",\n      \"properties\": {\n        \"dtype\": \"number\",\n        \"std\": null,\n        \"min\": 10,\n        \"max\": 10,\n        \"num_unique_values\": 1,\n        \"samples\": [\n          10\n        ],\n        \"semantic_type\": \"\",\n        \"description\": \"\"\n      }\n    }\n  ]\n}"
            }
          },
          "metadata": {},
          "execution_count": 25
        }
      ]
    },
    {
      "cell_type": "code",
      "source": [
        "df[df.question=='Is alternative splicing of apoptotic genes playing a role in the response to DNA or mitochondrial damage?']\n",
        "# When using normal spaCy, the dependency depth was 12. After using scispaCy, the depth is 7."
      ],
      "metadata": {
        "colab": {
          "base_uri": "https://localhost:8080/",
          "height": 81
        },
        "id": "6_02_ouLfC0Y",
        "outputId": "b2354faf-6bb8-43cc-fda1-de21ba7490d8"
      },
      "execution_count": null,
      "outputs": [
        {
          "output_type": "execute_result",
          "data": {
            "text/plain": [
              "                                              question question_type  \\\n",
              "300  Is alternative splicing of apoptotic genes pla...         yesno   \n",
              "\n",
              "     dependency_depth  \n",
              "300                 7  "
            ],
            "text/html": [
              "\n",
              "  <div id=\"df-ca45701d-b61e-4a52-9899-27fe4a37a8fb\" class=\"colab-df-container\">\n",
              "    <div>\n",
              "<style scoped>\n",
              "    .dataframe tbody tr th:only-of-type {\n",
              "        vertical-align: middle;\n",
              "    }\n",
              "\n",
              "    .dataframe tbody tr th {\n",
              "        vertical-align: top;\n",
              "    }\n",
              "\n",
              "    .dataframe thead th {\n",
              "        text-align: right;\n",
              "    }\n",
              "</style>\n",
              "<table border=\"1\" class=\"dataframe\">\n",
              "  <thead>\n",
              "    <tr style=\"text-align: right;\">\n",
              "      <th></th>\n",
              "      <th>question</th>\n",
              "      <th>question_type</th>\n",
              "      <th>dependency_depth</th>\n",
              "    </tr>\n",
              "  </thead>\n",
              "  <tbody>\n",
              "    <tr>\n",
              "      <th>300</th>\n",
              "      <td>Is alternative splicing of apoptotic genes pla...</td>\n",
              "      <td>yesno</td>\n",
              "      <td>7</td>\n",
              "    </tr>\n",
              "  </tbody>\n",
              "</table>\n",
              "</div>\n",
              "    <div class=\"colab-df-buttons\">\n",
              "\n",
              "  <div class=\"colab-df-container\">\n",
              "    <button class=\"colab-df-convert\" onclick=\"convertToInteractive('df-ca45701d-b61e-4a52-9899-27fe4a37a8fb')\"\n",
              "            title=\"Convert this dataframe to an interactive table.\"\n",
              "            style=\"display:none;\">\n",
              "\n",
              "  <svg xmlns=\"http://www.w3.org/2000/svg\" height=\"24px\" viewBox=\"0 -960 960 960\">\n",
              "    <path d=\"M120-120v-720h720v720H120Zm60-500h600v-160H180v160Zm220 220h160v-160H400v160Zm0 220h160v-160H400v160ZM180-400h160v-160H180v160Zm440 0h160v-160H620v160ZM180-180h160v-160H180v160Zm440 0h160v-160H620v160Z\"/>\n",
              "  </svg>\n",
              "    </button>\n",
              "\n",
              "  <style>\n",
              "    .colab-df-container {\n",
              "      display:flex;\n",
              "      gap: 12px;\n",
              "    }\n",
              "\n",
              "    .colab-df-convert {\n",
              "      background-color: #E8F0FE;\n",
              "      border: none;\n",
              "      border-radius: 50%;\n",
              "      cursor: pointer;\n",
              "      display: none;\n",
              "      fill: #1967D2;\n",
              "      height: 32px;\n",
              "      padding: 0 0 0 0;\n",
              "      width: 32px;\n",
              "    }\n",
              "\n",
              "    .colab-df-convert:hover {\n",
              "      background-color: #E2EBFA;\n",
              "      box-shadow: 0px 1px 2px rgba(60, 64, 67, 0.3), 0px 1px 3px 1px rgba(60, 64, 67, 0.15);\n",
              "      fill: #174EA6;\n",
              "    }\n",
              "\n",
              "    .colab-df-buttons div {\n",
              "      margin-bottom: 4px;\n",
              "    }\n",
              "\n",
              "    [theme=dark] .colab-df-convert {\n",
              "      background-color: #3B4455;\n",
              "      fill: #D2E3FC;\n",
              "    }\n",
              "\n",
              "    [theme=dark] .colab-df-convert:hover {\n",
              "      background-color: #434B5C;\n",
              "      box-shadow: 0px 1px 3px 1px rgba(0, 0, 0, 0.15);\n",
              "      filter: drop-shadow(0px 1px 2px rgba(0, 0, 0, 0.3));\n",
              "      fill: #FFFFFF;\n",
              "    }\n",
              "  </style>\n",
              "\n",
              "    <script>\n",
              "      const buttonEl =\n",
              "        document.querySelector('#df-ca45701d-b61e-4a52-9899-27fe4a37a8fb button.colab-df-convert');\n",
              "      buttonEl.style.display =\n",
              "        google.colab.kernel.accessAllowed ? 'block' : 'none';\n",
              "\n",
              "      async function convertToInteractive(key) {\n",
              "        const element = document.querySelector('#df-ca45701d-b61e-4a52-9899-27fe4a37a8fb');\n",
              "        const dataTable =\n",
              "          await google.colab.kernel.invokeFunction('convertToInteractive',\n",
              "                                                    [key], {});\n",
              "        if (!dataTable) return;\n",
              "\n",
              "        const docLinkHtml = 'Like what you see? Visit the ' +\n",
              "          '<a target=\"_blank\" href=https://colab.research.google.com/notebooks/data_table.ipynb>data table notebook</a>'\n",
              "          + ' to learn more about interactive tables.';\n",
              "        element.innerHTML = '';\n",
              "        dataTable['output_type'] = 'display_data';\n",
              "        await google.colab.output.renderOutput(dataTable, element);\n",
              "        const docLink = document.createElement('div');\n",
              "        docLink.innerHTML = docLinkHtml;\n",
              "        element.appendChild(docLink);\n",
              "      }\n",
              "    </script>\n",
              "  </div>\n",
              "\n",
              "\n",
              "    </div>\n",
              "  </div>\n"
            ],
            "application/vnd.google.colaboratory.intrinsic+json": {
              "type": "dataframe",
              "summary": "{\n  \"name\": \"df[df\",\n  \"rows\": 1,\n  \"fields\": [\n    {\n      \"column\": \"question\",\n      \"properties\": {\n        \"dtype\": \"string\",\n        \"num_unique_values\": 1,\n        \"samples\": [\n          \"Is alternative splicing of apoptotic genes playing a role in the response to DNA or mitochondrial damage?\"\n        ],\n        \"semantic_type\": \"\",\n        \"description\": \"\"\n      }\n    },\n    {\n      \"column\": \"question_type\",\n      \"properties\": {\n        \"dtype\": \"string\",\n        \"num_unique_values\": 1,\n        \"samples\": [\n          \"yesno\"\n        ],\n        \"semantic_type\": \"\",\n        \"description\": \"\"\n      }\n    },\n    {\n      \"column\": \"dependency_depth\",\n      \"properties\": {\n        \"dtype\": \"number\",\n        \"std\": null,\n        \"min\": 7,\n        \"max\": 7,\n        \"num_unique_values\": 1,\n        \"samples\": [\n          7\n        ],\n        \"semantic_type\": \"\",\n        \"description\": \"\"\n      }\n    }\n  ]\n}"
            }
          },
          "metadata": {},
          "execution_count": 24
        }
      ]
    },
    {
      "cell_type": "code",
      "source": [
        "document = nlp('Is alternative splicing of apoptotic genes playing a role in the response to DNA or mitochondrial damage?')\n",
        "root_token = [token for token in document if token.dep_ == \"ROOT\"][0]\n",
        "total_depth = get_depth(root_token)"
      ],
      "metadata": {
        "id": "CLIoAHalXZXZ"
      },
      "execution_count": null,
      "outputs": []
    },
    {
      "cell_type": "code",
      "source": [
        "display_dependency_depth(document, root_token,(15,5))"
      ],
      "metadata": {
        "colab": {
          "base_uri": "https://localhost:8080/",
          "height": 683
        },
        "id": "bJHK96uEpX4a",
        "outputId": "db86549c-bafa-42ba-903e-ad00d9d80022"
      },
      "execution_count": null,
      "outputs": [
        {
          "output_type": "display_data",
          "data": {
            "text/plain": [
              "<IPython.core.display.HTML object>"
            ],
            "text/html": [
              "<span class=\"tex2jax_ignore\"><svg xmlns=\"http://www.w3.org/2000/svg\" xmlns:xlink=\"http://www.w3.org/1999/xlink\" xml:lang=\"en\" id=\"ed3156d26e9f431295bc6891fa71665a-0\" class=\"displacy\" width=\"2090\" height=\"317.0\" direction=\"ltr\" style=\"max-width: none; height: 317.0px; color: #000000; background: #ffffff; font-family: Arial; direction: ltr\">\n",
              "<text class=\"displacy-token\" fill=\"currentColor\" text-anchor=\"middle\" y=\"227.0\">\n",
              "    <tspan class=\"displacy-word\" fill=\"currentColor\" x=\"50\">Is</tspan>\n",
              "    <tspan class=\"displacy-tag\" dy=\"2em\" fill=\"currentColor\" x=\"50\">AUX</tspan>\n",
              "</text>\n",
              "\n",
              "<text class=\"displacy-token\" fill=\"currentColor\" text-anchor=\"middle\" y=\"227.0\">\n",
              "    <tspan class=\"displacy-word\" fill=\"currentColor\" x=\"170\">alternative</tspan>\n",
              "    <tspan class=\"displacy-tag\" dy=\"2em\" fill=\"currentColor\" x=\"170\">ADJ</tspan>\n",
              "</text>\n",
              "\n",
              "<text class=\"displacy-token\" fill=\"currentColor\" text-anchor=\"middle\" y=\"227.0\">\n",
              "    <tspan class=\"displacy-word\" fill=\"currentColor\" x=\"290\">splicing</tspan>\n",
              "    <tspan class=\"displacy-tag\" dy=\"2em\" fill=\"currentColor\" x=\"290\">NOUN</tspan>\n",
              "</text>\n",
              "\n",
              "<text class=\"displacy-token\" fill=\"currentColor\" text-anchor=\"middle\" y=\"227.0\">\n",
              "    <tspan class=\"displacy-word\" fill=\"currentColor\" x=\"410\">of</tspan>\n",
              "    <tspan class=\"displacy-tag\" dy=\"2em\" fill=\"currentColor\" x=\"410\">ADP</tspan>\n",
              "</text>\n",
              "\n",
              "<text class=\"displacy-token\" fill=\"currentColor\" text-anchor=\"middle\" y=\"227.0\">\n",
              "    <tspan class=\"displacy-word\" fill=\"currentColor\" x=\"530\">apoptotic</tspan>\n",
              "    <tspan class=\"displacy-tag\" dy=\"2em\" fill=\"currentColor\" x=\"530\">ADJ</tspan>\n",
              "</text>\n",
              "\n",
              "<text class=\"displacy-token\" fill=\"currentColor\" text-anchor=\"middle\" y=\"227.0\">\n",
              "    <tspan class=\"displacy-word\" fill=\"currentColor\" x=\"650\">genes</tspan>\n",
              "    <tspan class=\"displacy-tag\" dy=\"2em\" fill=\"currentColor\" x=\"650\">NOUN</tspan>\n",
              "</text>\n",
              "\n",
              "<text class=\"displacy-token\" fill=\"currentColor\" text-anchor=\"middle\" y=\"227.0\">\n",
              "    <tspan class=\"displacy-word\" fill=\"currentColor\" x=\"770\">playing</tspan>\n",
              "    <tspan class=\"displacy-tag\" dy=\"2em\" fill=\"currentColor\" x=\"770\">VERB</tspan>\n",
              "</text>\n",
              "\n",
              "<text class=\"displacy-token\" fill=\"currentColor\" text-anchor=\"middle\" y=\"227.0\">\n",
              "    <tspan class=\"displacy-word\" fill=\"currentColor\" x=\"890\">a</tspan>\n",
              "    <tspan class=\"displacy-tag\" dy=\"2em\" fill=\"currentColor\" x=\"890\">DET</tspan>\n",
              "</text>\n",
              "\n",
              "<text class=\"displacy-token\" fill=\"currentColor\" text-anchor=\"middle\" y=\"227.0\">\n",
              "    <tspan class=\"displacy-word\" fill=\"currentColor\" x=\"1010\">role</tspan>\n",
              "    <tspan class=\"displacy-tag\" dy=\"2em\" fill=\"currentColor\" x=\"1010\">NOUN</tspan>\n",
              "</text>\n",
              "\n",
              "<text class=\"displacy-token\" fill=\"currentColor\" text-anchor=\"middle\" y=\"227.0\">\n",
              "    <tspan class=\"displacy-word\" fill=\"currentColor\" x=\"1130\">in</tspan>\n",
              "    <tspan class=\"displacy-tag\" dy=\"2em\" fill=\"currentColor\" x=\"1130\">ADP</tspan>\n",
              "</text>\n",
              "\n",
              "<text class=\"displacy-token\" fill=\"currentColor\" text-anchor=\"middle\" y=\"227.0\">\n",
              "    <tspan class=\"displacy-word\" fill=\"currentColor\" x=\"1250\">the</tspan>\n",
              "    <tspan class=\"displacy-tag\" dy=\"2em\" fill=\"currentColor\" x=\"1250\">DET</tspan>\n",
              "</text>\n",
              "\n",
              "<text class=\"displacy-token\" fill=\"currentColor\" text-anchor=\"middle\" y=\"227.0\">\n",
              "    <tspan class=\"displacy-word\" fill=\"currentColor\" x=\"1370\">response</tspan>\n",
              "    <tspan class=\"displacy-tag\" dy=\"2em\" fill=\"currentColor\" x=\"1370\">NOUN</tspan>\n",
              "</text>\n",
              "\n",
              "<text class=\"displacy-token\" fill=\"currentColor\" text-anchor=\"middle\" y=\"227.0\">\n",
              "    <tspan class=\"displacy-word\" fill=\"currentColor\" x=\"1490\">to</tspan>\n",
              "    <tspan class=\"displacy-tag\" dy=\"2em\" fill=\"currentColor\" x=\"1490\">PART</tspan>\n",
              "</text>\n",
              "\n",
              "<text class=\"displacy-token\" fill=\"currentColor\" text-anchor=\"middle\" y=\"227.0\">\n",
              "    <tspan class=\"displacy-word\" fill=\"currentColor\" x=\"1610\">DNA</tspan>\n",
              "    <tspan class=\"displacy-tag\" dy=\"2em\" fill=\"currentColor\" x=\"1610\">NOUN</tspan>\n",
              "</text>\n",
              "\n",
              "<text class=\"displacy-token\" fill=\"currentColor\" text-anchor=\"middle\" y=\"227.0\">\n",
              "    <tspan class=\"displacy-word\" fill=\"currentColor\" x=\"1730\">or</tspan>\n",
              "    <tspan class=\"displacy-tag\" dy=\"2em\" fill=\"currentColor\" x=\"1730\">CCONJ</tspan>\n",
              "</text>\n",
              "\n",
              "<text class=\"displacy-token\" fill=\"currentColor\" text-anchor=\"middle\" y=\"227.0\">\n",
              "    <tspan class=\"displacy-word\" fill=\"currentColor\" x=\"1850\">mitochondrial</tspan>\n",
              "    <tspan class=\"displacy-tag\" dy=\"2em\" fill=\"currentColor\" x=\"1850\">ADJ</tspan>\n",
              "</text>\n",
              "\n",
              "<text class=\"displacy-token\" fill=\"currentColor\" text-anchor=\"middle\" y=\"227.0\">\n",
              "    <tspan class=\"displacy-word\" fill=\"currentColor\" x=\"1970\">damage?</tspan>\n",
              "    <tspan class=\"displacy-tag\" dy=\"2em\" fill=\"currentColor\" x=\"1970\">NOUN</tspan>\n",
              "</text>\n",
              "\n",
              "<g class=\"displacy-arrow\">\n",
              "    <path class=\"displacy-arc\" id=\"arrow-ed3156d26e9f431295bc6891fa71665a-0-0\" stroke-width=\"2px\" d=\"M70,182.0 C70,62.0 285.0,62.0 285.0,182.0\" fill=\"none\" stroke=\"currentColor\"/>\n",
              "    <text dy=\"1.25em\" style=\"font-size: 0.8em; letter-spacing: 1px\">\n",
              "        <textPath xlink:href=\"#arrow-ed3156d26e9f431295bc6891fa71665a-0-0\" class=\"displacy-label\" startOffset=\"50%\" side=\"left\" fill=\"currentColor\" text-anchor=\"middle\">cop</textPath>\n",
              "    </text>\n",
              "    <path class=\"displacy-arrowhead\" d=\"M70,184.0 L62,172.0 78,172.0\" fill=\"currentColor\"/>\n",
              "</g>\n",
              "\n",
              "<g class=\"displacy-arrow\">\n",
              "    <path class=\"displacy-arc\" id=\"arrow-ed3156d26e9f431295bc6891fa71665a-0-1\" stroke-width=\"2px\" d=\"M190,182.0 C190,122.0 280.0,122.0 280.0,182.0\" fill=\"none\" stroke=\"currentColor\"/>\n",
              "    <text dy=\"1.25em\" style=\"font-size: 0.8em; letter-spacing: 1px\">\n",
              "        <textPath xlink:href=\"#arrow-ed3156d26e9f431295bc6891fa71665a-0-1\" class=\"displacy-label\" startOffset=\"50%\" side=\"left\" fill=\"currentColor\" text-anchor=\"middle\">amod</textPath>\n",
              "    </text>\n",
              "    <path class=\"displacy-arrowhead\" d=\"M190,184.0 L182,172.0 198,172.0\" fill=\"currentColor\"/>\n",
              "</g>\n",
              "\n",
              "<g class=\"displacy-arrow\">\n",
              "    <path class=\"displacy-arc\" id=\"arrow-ed3156d26e9f431295bc6891fa71665a-0-2\" stroke-width=\"2px\" d=\"M430,182.0 C430,62.0 645.0,62.0 645.0,182.0\" fill=\"none\" stroke=\"currentColor\"/>\n",
              "    <text dy=\"1.25em\" style=\"font-size: 0.8em; letter-spacing: 1px\">\n",
              "        <textPath xlink:href=\"#arrow-ed3156d26e9f431295bc6891fa71665a-0-2\" class=\"displacy-label\" startOffset=\"50%\" side=\"left\" fill=\"currentColor\" text-anchor=\"middle\">case</textPath>\n",
              "    </text>\n",
              "    <path class=\"displacy-arrowhead\" d=\"M430,184.0 L422,172.0 438,172.0\" fill=\"currentColor\"/>\n",
              "</g>\n",
              "\n",
              "<g class=\"displacy-arrow\">\n",
              "    <path class=\"displacy-arc\" id=\"arrow-ed3156d26e9f431295bc6891fa71665a-0-3\" stroke-width=\"2px\" d=\"M550,182.0 C550,122.0 640.0,122.0 640.0,182.0\" fill=\"none\" stroke=\"currentColor\"/>\n",
              "    <text dy=\"1.25em\" style=\"font-size: 0.8em; letter-spacing: 1px\">\n",
              "        <textPath xlink:href=\"#arrow-ed3156d26e9f431295bc6891fa71665a-0-3\" class=\"displacy-label\" startOffset=\"50%\" side=\"left\" fill=\"currentColor\" text-anchor=\"middle\">amod</textPath>\n",
              "    </text>\n",
              "    <path class=\"displacy-arrowhead\" d=\"M550,184.0 L542,172.0 558,172.0\" fill=\"currentColor\"/>\n",
              "</g>\n",
              "\n",
              "<g class=\"displacy-arrow\">\n",
              "    <path class=\"displacy-arc\" id=\"arrow-ed3156d26e9f431295bc6891fa71665a-0-4\" stroke-width=\"2px\" d=\"M310,182.0 C310,2.0 650.0,2.0 650.0,182.0\" fill=\"none\" stroke=\"currentColor\"/>\n",
              "    <text dy=\"1.25em\" style=\"font-size: 0.8em; letter-spacing: 1px\">\n",
              "        <textPath xlink:href=\"#arrow-ed3156d26e9f431295bc6891fa71665a-0-4\" class=\"displacy-label\" startOffset=\"50%\" side=\"left\" fill=\"currentColor\" text-anchor=\"middle\">nmod</textPath>\n",
              "    </text>\n",
              "    <path class=\"displacy-arrowhead\" d=\"M650.0,184.0 L658.0,172.0 642.0,172.0\" fill=\"currentColor\"/>\n",
              "</g>\n",
              "\n",
              "<g class=\"displacy-arrow\">\n",
              "    <path class=\"displacy-arc\" id=\"arrow-ed3156d26e9f431295bc6891fa71665a-0-5\" stroke-width=\"2px\" d=\"M670,182.0 C670,122.0 760.0,122.0 760.0,182.0\" fill=\"none\" stroke=\"currentColor\"/>\n",
              "    <text dy=\"1.25em\" style=\"font-size: 0.8em; letter-spacing: 1px\">\n",
              "        <textPath xlink:href=\"#arrow-ed3156d26e9f431295bc6891fa71665a-0-5\" class=\"displacy-label\" startOffset=\"50%\" side=\"left\" fill=\"currentColor\" text-anchor=\"middle\">acl</textPath>\n",
              "    </text>\n",
              "    <path class=\"displacy-arrowhead\" d=\"M760.0,184.0 L768.0,172.0 752.0,172.0\" fill=\"currentColor\"/>\n",
              "</g>\n",
              "\n",
              "<g class=\"displacy-arrow\">\n",
              "    <path class=\"displacy-arc\" id=\"arrow-ed3156d26e9f431295bc6891fa71665a-0-6\" stroke-width=\"2px\" d=\"M910,182.0 C910,122.0 1000.0,122.0 1000.0,182.0\" fill=\"none\" stroke=\"currentColor\"/>\n",
              "    <text dy=\"1.25em\" style=\"font-size: 0.8em; letter-spacing: 1px\">\n",
              "        <textPath xlink:href=\"#arrow-ed3156d26e9f431295bc6891fa71665a-0-6\" class=\"displacy-label\" startOffset=\"50%\" side=\"left\" fill=\"currentColor\" text-anchor=\"middle\">det</textPath>\n",
              "    </text>\n",
              "    <path class=\"displacy-arrowhead\" d=\"M910,184.0 L902,172.0 918,172.0\" fill=\"currentColor\"/>\n",
              "</g>\n",
              "\n",
              "<g class=\"displacy-arrow\">\n",
              "    <path class=\"displacy-arc\" id=\"arrow-ed3156d26e9f431295bc6891fa71665a-0-7\" stroke-width=\"2px\" d=\"M790,182.0 C790,62.0 1005.0,62.0 1005.0,182.0\" fill=\"none\" stroke=\"currentColor\"/>\n",
              "    <text dy=\"1.25em\" style=\"font-size: 0.8em; letter-spacing: 1px\">\n",
              "        <textPath xlink:href=\"#arrow-ed3156d26e9f431295bc6891fa71665a-0-7\" class=\"displacy-label\" startOffset=\"50%\" side=\"left\" fill=\"currentColor\" text-anchor=\"middle\">dobj</textPath>\n",
              "    </text>\n",
              "    <path class=\"displacy-arrowhead\" d=\"M1005.0,184.0 L1013.0,172.0 997.0,172.0\" fill=\"currentColor\"/>\n",
              "</g>\n",
              "\n",
              "<g class=\"displacy-arrow\">\n",
              "    <path class=\"displacy-arc\" id=\"arrow-ed3156d26e9f431295bc6891fa71665a-0-8\" stroke-width=\"2px\" d=\"M1150,182.0 C1150,62.0 1365.0,62.0 1365.0,182.0\" fill=\"none\" stroke=\"currentColor\"/>\n",
              "    <text dy=\"1.25em\" style=\"font-size: 0.8em; letter-spacing: 1px\">\n",
              "        <textPath xlink:href=\"#arrow-ed3156d26e9f431295bc6891fa71665a-0-8\" class=\"displacy-label\" startOffset=\"50%\" side=\"left\" fill=\"currentColor\" text-anchor=\"middle\">case</textPath>\n",
              "    </text>\n",
              "    <path class=\"displacy-arrowhead\" d=\"M1150,184.0 L1142,172.0 1158,172.0\" fill=\"currentColor\"/>\n",
              "</g>\n",
              "\n",
              "<g class=\"displacy-arrow\">\n",
              "    <path class=\"displacy-arc\" id=\"arrow-ed3156d26e9f431295bc6891fa71665a-0-9\" stroke-width=\"2px\" d=\"M1270,182.0 C1270,122.0 1360.0,122.0 1360.0,182.0\" fill=\"none\" stroke=\"currentColor\"/>\n",
              "    <text dy=\"1.25em\" style=\"font-size: 0.8em; letter-spacing: 1px\">\n",
              "        <textPath xlink:href=\"#arrow-ed3156d26e9f431295bc6891fa71665a-0-9\" class=\"displacy-label\" startOffset=\"50%\" side=\"left\" fill=\"currentColor\" text-anchor=\"middle\">det</textPath>\n",
              "    </text>\n",
              "    <path class=\"displacy-arrowhead\" d=\"M1270,184.0 L1262,172.0 1278,172.0\" fill=\"currentColor\"/>\n",
              "</g>\n",
              "\n",
              "<g class=\"displacy-arrow\">\n",
              "    <path class=\"displacy-arc\" id=\"arrow-ed3156d26e9f431295bc6891fa71665a-0-10\" stroke-width=\"2px\" d=\"M790,182.0 C790,2.0 1370.0,2.0 1370.0,182.0\" fill=\"none\" stroke=\"currentColor\"/>\n",
              "    <text dy=\"1.25em\" style=\"font-size: 0.8em; letter-spacing: 1px\">\n",
              "        <textPath xlink:href=\"#arrow-ed3156d26e9f431295bc6891fa71665a-0-10\" class=\"displacy-label\" startOffset=\"50%\" side=\"left\" fill=\"currentColor\" text-anchor=\"middle\">nmod</textPath>\n",
              "    </text>\n",
              "    <path class=\"displacy-arrowhead\" d=\"M1370.0,184.0 L1378.0,172.0 1362.0,172.0\" fill=\"currentColor\"/>\n",
              "</g>\n",
              "\n",
              "<g class=\"displacy-arrow\">\n",
              "    <path class=\"displacy-arc\" id=\"arrow-ed3156d26e9f431295bc6891fa71665a-0-11\" stroke-width=\"2px\" d=\"M1510,182.0 C1510,122.0 1600.0,122.0 1600.0,182.0\" fill=\"none\" stroke=\"currentColor\"/>\n",
              "    <text dy=\"1.25em\" style=\"font-size: 0.8em; letter-spacing: 1px\">\n",
              "        <textPath xlink:href=\"#arrow-ed3156d26e9f431295bc6891fa71665a-0-11\" class=\"displacy-label\" startOffset=\"50%\" side=\"left\" fill=\"currentColor\" text-anchor=\"middle\">case</textPath>\n",
              "    </text>\n",
              "    <path class=\"displacy-arrowhead\" d=\"M1510,184.0 L1502,172.0 1518,172.0\" fill=\"currentColor\"/>\n",
              "</g>\n",
              "\n",
              "<g class=\"displacy-arrow\">\n",
              "    <path class=\"displacy-arc\" id=\"arrow-ed3156d26e9f431295bc6891fa71665a-0-12\" stroke-width=\"2px\" d=\"M1390,182.0 C1390,62.0 1605.0,62.0 1605.0,182.0\" fill=\"none\" stroke=\"currentColor\"/>\n",
              "    <text dy=\"1.25em\" style=\"font-size: 0.8em; letter-spacing: 1px\">\n",
              "        <textPath xlink:href=\"#arrow-ed3156d26e9f431295bc6891fa71665a-0-12\" class=\"displacy-label\" startOffset=\"50%\" side=\"left\" fill=\"currentColor\" text-anchor=\"middle\">nmod</textPath>\n",
              "    </text>\n",
              "    <path class=\"displacy-arrowhead\" d=\"M1605.0,184.0 L1613.0,172.0 1597.0,172.0\" fill=\"currentColor\"/>\n",
              "</g>\n",
              "\n",
              "<g class=\"displacy-arrow\">\n",
              "    <path class=\"displacy-arc\" id=\"arrow-ed3156d26e9f431295bc6891fa71665a-0-13\" stroke-width=\"2px\" d=\"M1630,182.0 C1630,122.0 1720.0,122.0 1720.0,182.0\" fill=\"none\" stroke=\"currentColor\"/>\n",
              "    <text dy=\"1.25em\" style=\"font-size: 0.8em; letter-spacing: 1px\">\n",
              "        <textPath xlink:href=\"#arrow-ed3156d26e9f431295bc6891fa71665a-0-13\" class=\"displacy-label\" startOffset=\"50%\" side=\"left\" fill=\"currentColor\" text-anchor=\"middle\">cc</textPath>\n",
              "    </text>\n",
              "    <path class=\"displacy-arrowhead\" d=\"M1720.0,184.0 L1728.0,172.0 1712.0,172.0\" fill=\"currentColor\"/>\n",
              "</g>\n",
              "\n",
              "<g class=\"displacy-arrow\">\n",
              "    <path class=\"displacy-arc\" id=\"arrow-ed3156d26e9f431295bc6891fa71665a-0-14\" stroke-width=\"2px\" d=\"M1870,182.0 C1870,122.0 1960.0,122.0 1960.0,182.0\" fill=\"none\" stroke=\"currentColor\"/>\n",
              "    <text dy=\"1.25em\" style=\"font-size: 0.8em; letter-spacing: 1px\">\n",
              "        <textPath xlink:href=\"#arrow-ed3156d26e9f431295bc6891fa71665a-0-14\" class=\"displacy-label\" startOffset=\"50%\" side=\"left\" fill=\"currentColor\" text-anchor=\"middle\">amod</textPath>\n",
              "    </text>\n",
              "    <path class=\"displacy-arrowhead\" d=\"M1870,184.0 L1862,172.0 1878,172.0\" fill=\"currentColor\"/>\n",
              "</g>\n",
              "\n",
              "<g class=\"displacy-arrow\">\n",
              "    <path class=\"displacy-arc\" id=\"arrow-ed3156d26e9f431295bc6891fa71665a-0-15\" stroke-width=\"2px\" d=\"M1630,182.0 C1630,62.0 1965.0,62.0 1965.0,182.0\" fill=\"none\" stroke=\"currentColor\"/>\n",
              "    <text dy=\"1.25em\" style=\"font-size: 0.8em; letter-spacing: 1px\">\n",
              "        <textPath xlink:href=\"#arrow-ed3156d26e9f431295bc6891fa71665a-0-15\" class=\"displacy-label\" startOffset=\"50%\" side=\"left\" fill=\"currentColor\" text-anchor=\"middle\">conj</textPath>\n",
              "    </text>\n",
              "    <path class=\"displacy-arrowhead\" d=\"M1965.0,184.0 L1973.0,172.0 1957.0,172.0\" fill=\"currentColor\"/>\n",
              "</g>\n",
              "</svg></span>"
            ]
          },
          "metadata": {}
        },
        {
          "output_type": "display_data",
          "data": {
            "text/plain": [
              "<Figure size 1500x500 with 1 Axes>"
            ],
            "image/png": "[encoded data removed]"
          },
          "metadata": {}
        }
      ]
    },
    {
      "cell_type": "markdown",
      "source": [
        "#### Topic 3: Extracting Total And Types of Entities"
      ],
      "metadata": {
        "id": "7K4Txsg8AlRw"
      }
    },
    {
      "cell_type": "code",
      "source": [
        "def get_entities(document: spacy.tokens.doc.Doc) -> tuple:\n",
        "    entities = [(ent.text, ent.label_) for ent in document.ents]\n",
        "\n",
        "    # Calculate total entities and unique types\n",
        "    total_entities = len(entities)\n",
        "    unique_entity_types = len(set(ent[1] for ent in entities))\n",
        "\n",
        "    return (total_entities,unique_entity_types)"
      ],
      "metadata": {
        "id": "sQ_jj_YkH_Mm"
      },
      "execution_count": null,
      "outputs": []
    },
    {
      "cell_type": "code",
      "source": [
        "entities = df['document'].apply(lambda doc: get_entities(doc))"
      ],
      "metadata": {
        "id": "uvmPmDMPSq54"
      },
      "execution_count": null,
      "outputs": []
    },
    {
      "cell_type": "code",
      "source": [
        "df['total_entities'] = entities.apply(lambda tup: tup[0])\n",
        "df['unique_entity_types'] = entities.apply(lambda tup: tup[1])"
      ],
      "metadata": {
        "id": "CVz5sDxiSqr_"
      },
      "execution_count": null,
      "outputs": []
    },
    {
      "cell_type": "markdown",
      "source": [
        "#### Topic 4: Presence of hypothetical knowledge or actionable terms"
      ],
      "metadata": {
        "id": "JY6cn6oYTbHQ"
      }
    },
    {
      "cell_type": "code",
      "source": [],
      "metadata": {
        "id": "k5fi3aqLTihS"
      },
      "execution_count": null,
      "outputs": []
    },
    {
      "cell_type": "markdown",
      "source": [
        "### Building the LLM model"
      ],
      "metadata": {
        "id": "iFanlU-lIAR4"
      }
    },
    {
      "cell_type": "code",
      "source": [
        "groq_api_key = \"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\" # Replace with environment variable"
      ],
      "metadata": {
        "id": "220m-goVdytM"
      },
      "execution_count": 16,
      "outputs": []
    },
    {
      "cell_type": "code",
      "source": [
        "model = 'mixtral-8x7b-32768'"
      ],
      "metadata": {
        "id": "GwJbP1c6drWP"
      },
      "execution_count": 17,
      "outputs": []
    },
    {
      "cell_type": "code",
      "source": [
        "groq_model = ChatGroq(\n",
        "    api_key = groq_api_key,\n",
        "    model = model,\n",
        "    temperature = 0.25)"
      ],
      "metadata": {
        "id": "gucPx4yHZLk_"
      },
      "execution_count": 18,
      "outputs": []
    },
    {
      "cell_type": "code",
      "source": [
        "conversational_memory_length = 5"
      ],
      "metadata": {
        "id": "M2BX0As0ZLZQ"
      },
      "execution_count": 19,
      "outputs": []
    },
    {
      "cell_type": "code",
      "source": [
        "memory = ConversationBufferWindowMemory(k=conversational_memory_length, memory_key=\"chat_history\", return_messages=True)"
      ],
      "metadata": {
        "colab": {
          "base_uri": "https://localhost:8080/"
        },
        "id": "e0M0lcmf1VuS",
        "outputId": "18af224f-fd2b-4143-e8c9-20620b551b19"
      },
      "execution_count": 20,
      "outputs": [
        {
          "output_type": "stream",
          "name": "stderr",
          "text": [
            "<ipython-input-20-32c26733c201>:1: LangChainDeprecationWarning: Please see the migration guide at: https://python.langchain.com/docs/versions/migrating_memory/\n",
            "  memory = ConversationBufferWindowMemory(k=conversational_memory_length, memory_key=\"chat_history\", return_messages=True)\n"
          ]
        }
      ]
    },
    {
      "cell_type": "markdown",
      "source": [
        "Old Prompt: <br>\n",
        "The goal is to take a user query as input and return whether it can considered as strongly extractive (1) or not (0).\n",
        "Factor in the total length of query, number of entities, and dependency depth to decide.\n",
        "Additionally, also consider these keyword markers provided below.\n",
        "For instance: <br><br>\n",
        "For all these categories - Return 1: <br>\n",
        "(A) Presence of:\n",
        "    (1) Factual Keywords - List, Define, Name, Identify etc\n",
        "    (2) Query Keywords - Where, When, Who\n",
        "    (3) Superlative keywords - most, best, worst, highest, lowest etc\n",
        "(B) Absence of Hypothetical keywords - Could, Would, Should, Might, If etc\n",
        "\n",
        "Requires additional heuristics - Return 0 or 1 case by case:\n",
        "(A) Yes/No questions - Is, Does, Are, Can etc\n",
        "(B) Query Keywords - What is, Which, How does etc\n",
        "\n",
        "Keep this as a base, but note that it might not be entirely accurate. The weightage for each factor is dynamic.\n",
        "<br><br>\n",
        "<hr>\n",
        "New Prompt: <br>\n",
        "The task is to determine whether a user query is strongly extractive (1) or not extractive (0) based on the following factors. Use the criteria below to make the classification:\n",
        "\n",
        "Primary Decision Factors:\n",
        "\n",
        "Query Length: Short, concise queries may lean toward extractive.\n",
        "Number of Entities: Queries with multiple distinct entities might indicate a need for precise, factual extraction.\n",
        "Dependency Depth: High dependency depth often implies complexity, suggesting an inference-based query.\n",
        "Keyword Markers:\n",
        "\n",
        "Indicators of Strongly Extractive Queries (Return 1):\n",
        "\n",
        "Factual Keywords: Presence of words like List, Define, Name, Identify.\n",
        "Direct Query Keywords: Terms such as Where, When, Who suggest a request for specific information.\n",
        "Superlative Terms: Words like most, best, worst, highest, lowest indicate a focus on specific factual ranking or quantity.\n",
        "Absence of Hypothetical Language: Avoid words like Could, Would, Should, Might, If, as these suggest speculation or inference rather than fact retrieval.\n",
        "Conditional Cases (0 or 1 based on context):\n",
        "\n",
        "Yes/No Questions: Queries starting with Is, Does, Are, Can may or may not be extractive, depending on their specificity.\n",
        "Complex Queries: Queries beginning with What is, Which, How does may require additional context to determine extractiveness accurately.\n",
        "Additional Notes:\n",
        "\n",
        "These rules are flexible; apply weight to each factor dynamically depending on the query’s context.\n",
        "Use the above criteria as a guideline but exercise judgment for edge cases."
      ],
      "metadata": {
        "id": "17NE4PUcckQS"
      }
    },
    {
      "cell_type": "code",
      "source": [
        "base_message = '''\n",
        "                The task is to determine whether a user query is strongly extractive (1) or not extractive (0) based on the following factors. Use the criteria below to make the classification:\n",
        "\n",
        "                Primary Decision Factors:\n",
        "\n",
        "                Query Length: Short, concise queries may lean toward extractive.\n",
        "                Number of Entities: Queries with multiple distinct entities might indicate a need for precise, factual extraction.\n",
        "                Dependency Depth: High dependency depth often implies complexity, suggesting an inference-based query.\n",
        "                Keyword Markers:\n",
        "\n",
        "                Indicators of Strongly Extractive Queries (Return 1):\n",
        "\n",
        "                Factual Keywords: Presence of words like List, Define, Name, Identify.\n",
        "                Direct Query Keywords: Terms such as Where, When, Who suggest a request for specific information.\n",
        "                Superlative Terms: Words like most, best, worst, highest, lowest indicate a focus on specific factual ranking or quantity.\n",
        "                Absence of Hypothetical Language: Avoid words like Could, Would, Should, Might, If, as these suggest speculation or inference rather than fact retrieval.\n",
        "                Conditional Cases (0 or 1 based on context):\n",
        "\n",
        "                Yes/No Questions: Queries starting with Is, Does, Are, Can may or may not be extractive, depending on their specificity.\n",
        "                Complex Queries: Queries beginning with What is, Which, How does may require additional context to determine extractiveness accurately.\n",
        "                Additional Notes:\n",
        "\n",
        "                These rules are flexible; apply weight to each factor dynamically depending on the query’s context.\n",
        "                Use the above criteria as a guideline but exercise judgment for edge cases.\n",
        "                '''"
      ],
      "metadata": {
        "id": "LhmG4xQW35Iq"
      },
      "execution_count": 21,
      "outputs": []
    },
    {
      "cell_type": "code",
      "source": [
        "memory.chat_memory.add_user_message(base_message)"
      ],
      "metadata": {
        "id": "ouDcqCQn8C1s"
      },
      "execution_count": 22,
      "outputs": []
    },
    {
      "cell_type": "code",
      "source": [
        "chat_template = ChatPromptTemplate(\n",
        "    messages = [\n",
        "        SystemMessage(content=base_message),\n",
        "        MessagesPlaceholder(variable_name=\"chat_history\"),\n",
        "        HumanMessagePromptTemplate.from_template(\"Classify the following query: {query}\\n Return ONLY THE label first and then explain. Here is the template: Label: |0 or 1|\\n. Explanation goes here\"),\n",
        "    ]\n",
        ")"
      ],
      "metadata": {
        "id": "gOgQqA241X5J"
      },
      "execution_count": 23,
      "outputs": []
    },
    {
      "cell_type": "code",
      "source": [
        "classification_chain = LLMChain(\n",
        "    llm=groq_model,\n",
        "    prompt=chat_template,\n",
        "    memory=memory\n",
        ")"
      ],
      "metadata": {
        "id": "agIaSywp1Xun",
        "colab": {
          "base_uri": "https://localhost:8080/"
        },
        "outputId": "b941cb1d-a3d4-42e9-e75c-8d1c8f8e27eb"
      },
      "execution_count": 24,
      "outputs": [
        {
          "output_type": "stream",
          "name": "stderr",
          "text": [
            "<ipython-input-24-d2bd752654e7>:1: LangChainDeprecationWarning: The class `LLMChain` was deprecated in LangChain 0.1.17 and will be removed in 1.0. Use :meth:`~RunnableSequence, e.g., `prompt | llm`` instead.\n",
            "  classification_chain = LLMChain(\n"
          ]
        }
      ]
    },
    {
      "cell_type": "code",
      "source": [
        "def classify_query(query):\n",
        "    response = classification_chain.run({\"query\": query})\n",
        "    return response"
      ],
      "metadata": {
        "id": "MIJ9BVYY1XlX"
      },
      "execution_count": 25,
      "outputs": []
    },
    {
      "cell_type": "code",
      "source": [
        "query = \"Which autophagy pathway is trigered by the KFERQ motif of cytosolic proteins?\"\n",
        "print(\"Classification:\", classify_query(query))"
      ],
      "metadata": {
        "colab": {
          "base_uri": "https://localhost:8080/"
        },
        "id": "txWou8iJG0Uy",
        "outputId": "ae56bc05-e25e-4a48-b9c8-cf441e4217bb"
      },
      "execution_count": 27,
      "outputs": [
        {
          "output_type": "stream",
          "name": "stdout",
          "text": [
            "Classification: Label: |1|\n",
            "\n",
            "Explanation: This query is strongly extractive. It contains the direct query keyword \"Which\" and the factual keyword \"is triggered\". These terms indicate a request for specific information, which is a strong indicator of an extractive query. Additionally, the query focuses on a single entity (the KFERQ motif of cytosolic proteins) and has a low dependency depth, both of which suggest a relatively simple, fact-based query.\n"
          ]
        }
      ]
    },
    {
      "cell_type": "code",
      "source": [],
      "metadata": {
        "id": "daPevLk5eBRp"
      },
      "execution_count": null,
      "outputs": []
    },
    {
      "cell_type": "code",
      "source": [
        "memory.clear()"
      ],
      "metadata": {
        "id": "UrF79BooZs7R"
      },
      "execution_count": 152,
      "outputs": []
    },
    {
      "cell_type": "markdown",
      "source": [
        "Testing queries: <br>\n",
        "1) Which autophagy pathway is trigered by the KFERQ motif of cytosolic proteins? <br>\n",
        "2) How does dabigatran therapy affect aPTT in patients with atrial fibrillation? <br>\n",
        "3) What are the potential side effects of combining Drug A with Drug B in elderly patients? <br>\n",
        "4) How does the mutation X in Gene Y influence the progression of Disease Z? <br>\n",
        "5) How does Lifestyle Factor L affect the efficacy of Treatment T in managing Condition C? <br>"
      ],
      "metadata": {
        "id": "eNulBMyTPI19"
      }
    },
    {
      "cell_type": "markdown",
      "source": [
        "### Testing"
      ],
      "metadata": {
        "id": "mfrr2qRaGU6u"
      }
    },
    {
      "cell_type": "code",
      "source": [
        "response = classification_chain.predict(query=query)"
      ],
      "metadata": {
        "id": "ZKmLftoXIDqv"
      },
      "execution_count": 67,
      "outputs": []
    },
    {
      "cell_type": "code",
      "source": [
        "response"
      ],
      "metadata": {
        "colab": {
          "base_uri": "https://localhost:8080/",
          "height": 122
        },
        "id": "zIz9DQfyIsq5",
        "outputId": "9dcd4be9-ab05-4482-9e10-6eb88089c253"
      },
      "execution_count": 68,
      "outputs": [
        {
          "output_type": "execute_result",
          "data": {
            "text/plain": [
              "'The query \"What are the targets of Mosunetuzumab?\" can be considered strongly extractive and I would return a 1. Here\\'s why:\\n\\n(A) Presence of:\\n1) Factual Keywords - The keyword \"are\" is a factual keyword.\\n2) Query Keywords - The keyword \"what\" is a query keyword.\\n3) Superlative keywords - There are no superlative keywords in this query.\\n\\n(B) Absence of Hypothetical keywords - There are no hypothetical keywords in this query.\\n\\nAdditional heuristics:\\n\\nThe query is not a Yes/No question, so we don\\'t need to check for that.\\n\\nThe query keyword \"what\" indicates that the user is looking for specific information, in this case, the targets of Mosunetuzumab.\\n\\nThere is only one entity in the query, which is \"Mosunetuzumab\".\\n\\nThe dependency depth of the query is shallow, as it only requires identifying the targets of a single entity.\\n\\nTherefore, based on the above analysis, the query can be considered strongly extractive.'"
            ],
            "application/vnd.google.colaboratory.intrinsic+json": {
              "type": "string"
            }
          },
          "metadata": {},
          "execution_count": 68
        }
      ]
    },
    {
      "cell_type": "code",
      "source": [
        "scibert_model = AutoModelForSequenceClassification.from_pretrained('allenai/scibert_scivocab_uncased')"
      ],
      "metadata": {
        "id": "Bi1pmpxkKewD"
      },
      "execution_count": null,
      "outputs": []
    },
    {
      "cell_type": "code",
      "source": [
        "tokenizer = AutoTokenizer.from_pretrained('allenai/scibert_scivocab_uncased')"
      ],
      "metadata": {
        "colab": {
          "base_uri": "https://localhost:8080/",
          "height": 240,
          "referenced_widgets": [
            "7fc2ac620aac40fc90aedf3c769a798b",
            "1e5388cf53ea4ad0a6b3a12db3f6377d",
            "7633bd2bca6942448722e56d35942747",
            "825a7d30bd8a41fe8c27e921e28cf055",
            "05baa7e179c247d9ac61b45b93d35503",
            "f7e26d7d358f41dd8bc5880658ea5385",
            "11edf74f20d34f5fbac8236d9169b19b",
            "eed4bb64c6b046c9aa442ab5cc444ca3",
            "9fd14b7f93e04ffbbfbb2a920b3eb7ed",
            "84f411e2ccc240aa965a3e2e5431fe1e",
            "9906de0af5d3411ca3db5c2c633deb68",
            "e8f3e7bfcab445df825be3dc305206e0",
            "b2b50258b19d45f4add5e7d709a2154e",
            "7c62b72f58924f0eb70b69dcbedf11f7",
            "765c6c05c51e486399978462727333df",
            "8f88d70ec310404db205917d4b9fa1ed",
            "80a3b6d000b54623aca7893bba6343c8",
            "58258cce50844e9b8c96cef769cbd224",
            "7f4deaf55dc34ee89d8f8586d21b4fe7",
            "080a7fbf8c0c412fbd3c94f1d7bbec6f",
            "25d770b5435d46cfa8438caefa2f760f",
            "97838bd32f1844849488b4e0a9f89079"
          ]
        },
        "id": "ByK0VA6SIAZI",
        "outputId": "bfcfc624-8dbf-4128-d6dd-093978ff720b"
      },
      "execution_count": null,
      "outputs": [
        {
          "output_type": "stream",
          "name": "stderr",
          "text": [
            "/usr/local/lib/python3.10/dist-packages/huggingface_hub/utils/_token.py:89: UserWarning: \n",
            "The secret `HF_TOKEN` does not exist in your Colab secrets.\n",
            "To authenticate with the Hugging Face Hub, create a token in your settings tab (https://huggingface.co/settings/tokens), set it as secret in your Google Colab and restart your session.\n",
            "You will be able to reuse this secret in all of your notebooks.\n",
            "Please note that authentication is recommended but still optional to access public models or datasets.\n",
            "  warnings.warn(\n"
          ]
        },
        {
          "output_type": "display_data",
          "data": {
            "text/plain": [
              "config.json:   0%|          | 0.00/385 [00:00<?, ?B/s]"
            ],
            "application/vnd.jupyter.widget-view+json": {
              "version_major": 2,
              "version_minor": 0,
              "model_id": "7fc2ac620aac40fc90aedf3c769a798b"
            }
          },
          "metadata": {}
        },
        {
          "output_type": "display_data",
          "data": {
            "text/plain": [
              "vocab.txt:   0%|          | 0.00/228k [00:00<?, ?B/s]"
            ],
            "application/vnd.jupyter.widget-view+json": {
              "version_major": 2,
              "version_minor": 0,
              "model_id": "e8f3e7bfcab445df825be3dc305206e0"
            }
          },
          "metadata": {}
        },
        {
          "output_type": "stream",
          "name": "stderr",
          "text": [
            "/usr/local/lib/python3.10/dist-packages/transformers/tokenization_utils_base.py:1601: FutureWarning: `clean_up_tokenization_spaces` was not set. It will be set to `True` by default. This behavior will be depracted in transformers v4.45, and will be then set to `False` by default. For more details check this issue: https://github.com/huggingface/transformers/issues/31884\n",
            "  warnings.warn(\n"
          ]
        }
      ]
    },
    {
      "cell_type": "markdown",
      "source": [
        "##### Testing dependency parsing"
      ],
      "metadata": {
        "id": "ckpVStmDFbGb"
      }
    },
    {
      "cell_type": "code",
      "source": [
        "nlp = spacy.load('en_core_web_sm')"
      ],
      "metadata": {
        "id": "FZoON-VZfsbZ"
      },
      "execution_count": null,
      "outputs": []
    },
    {
      "cell_type": "code",
      "source": [
        "questions = ['Which are the mammalian orthologs of Drosophila Yki?','Is the BAGEL algorithm used for arrayed CRISPR screens?','Which is the subcellular localization of ERAP2?','Which histone modifications have been associated to alternative splicing?','What role might diet play in influencing gene expression associated with metabolic diseases?','How could prolonged antibiotic use impact gut microbiota diversity, and what are the potential health consequences?','']\n"
      ],
      "metadata": {
        "id": "EPIi0qsaYjAW"
      },
      "execution_count": null,
      "outputs": []
    },
    {
      "cell_type": "code",
      "source": [
        "sentence = 'How could prolonged antibiotic use impact gut microbiota diversity, and what are the potential health consequences?'\n",
        "# 'How could mutations in BRCA1 influence cancer treatment outcomes?'"
      ],
      "metadata": {
        "id": "is_gO7hPe_Ke"
      },
      "execution_count": null,
      "outputs": []
    },
    {
      "cell_type": "code",
      "source": [
        "sentence2 = 'Is the BAGEL algorithm used for arrayed CRISPR screens?'\n",
        "#'Which is the subcellular localization of ERAP2?'"
      ],
      "metadata": {
        "id": "6p6up6ua6Cx_"
      },
      "execution_count": null,
      "outputs": []
    },
    {
      "cell_type": "code",
      "source": [
        "doc = nlp(sentence)"
      ],
      "metadata": {
        "id": "Mt2LvPF_pDGs"
      },
      "execution_count": null,
      "outputs": []
    },
    {
      "cell_type": "code",
      "source": [
        "doc2 = nlp(sentence2)"
      ],
      "metadata": {
        "id": "EAKPJJlR6FHo"
      },
      "execution_count": null,
      "outputs": []
    },
    {
      "cell_type": "code",
      "source": [
        "from datasets import load_dataset"
      ],
      "metadata": {
        "id": "909MV0O2GfWK"
      },
      "execution_count": null,
      "outputs": []
    },
    {
      "cell_type": "code",
      "source": [
        "for item in bioasq_dataset.questions[:3]:\n",
        "    question = item['body']\n",
        "    question_type = item['type']\n",
        "    print(f'Question: {question}')\n",
        "    print(f'Question Type: {question_type}\\n')"
      ],
      "metadata": {
        "colab": {
          "base_uri": "https://localhost:8080/"
        },
        "id": "1SI4WHBMBaSn",
        "outputId": "e0dfb807-0587-4884-ef0e-82b4b5f88222"
      },
      "execution_count": null,
      "outputs": [
        {
          "output_type": "stream",
          "name": "stdout",
          "text": [
            "Question: Is Hirschsprung disease a mendelian or a multifactorial disorder?\n",
            "Question Type: summary\n",
            "\n",
            "Question: List signaling molecules (ligands) that interact with the receptor EGFR?\n",
            "Question Type: list\n",
            "\n",
            "Question: Is the protein Papilin secreted?\n",
            "Question Type: yesno\n",
            "\n"
          ]
        }
      ]
    }
  ]
}